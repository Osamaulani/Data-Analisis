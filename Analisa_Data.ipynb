{
  "cells": [
    {
      "cell_type": "markdown",
      "metadata": {
        "id": "view-in-github",
        "colab_type": "text"
      },
      "source": [
        "<a href=\"https://colab.research.google.com/github/Osamaulani/Data-Analisis/blob/main/Analisa_Data.ipynb\" target=\"_parent\"><img src=\"https://colab.research.google.com/assets/colab-badge.svg\" alt=\"Open In Colab\"/></a>"
      ]
    },
    {
      "cell_type": "markdown",
      "metadata": {
        "formattedRanges": [],
        "deepnote_app_coordinates": {
          "h": 5,
          "w": 12,
          "x": 0,
          "y": 7
        },
        "cell_id": "5f07a904e6ae4ee48b03646222a0a01d",
        "deepnote_cell_type": "text-cell-h1",
        "id": "lir_kWyAJrIM"
      },
      "source": [
        "# KELOMPOK 8\n"
      ]
    },
    {
      "cell_type": "markdown",
      "metadata": {
        "deepnote_app_coordinates": {
          "h": 6,
          "w": 12,
          "x": 0,
          "y": 13
        },
        "cell_id": "1a33b69c7462482191786e81585ce1dc",
        "deepnote_cell_type": "markdown",
        "id": "S4qp5_6jJrIO"
      },
      "source": [
        "Osa Nastiyar Maulani - 1305210055\n",
        "\n",
        "Nurwulan Handayani - 1305210102\n",
        "\n",
        "Egi Dhea Nagita - 1305213009"
      ]
    },
    {
      "cell_type": "markdown",
      "metadata": {
        "formattedRanges": [],
        "deepnote_app_coordinates": {
          "h": 5,
          "w": 12,
          "x": 0,
          "y": 20
        },
        "cell_id": "0a0c4862b2f7496aa397900a4d2f856f",
        "deepnote_cell_type": "text-cell-h1",
        "id": "vyl5d4gWJrIP"
      },
      "source": [
        "# Importing Libraries"
      ]
    },
    {
      "cell_type": "code",
      "metadata": {
        "source_hash": "81ba399a",
        "execution_start": 1687000936990,
        "execution_millis": 4690,
        "deepnote_app_coordinates": {
          "h": 11,
          "w": 12,
          "x": 0,
          "y": 26
        },
        "deepnote_to_be_reexecuted": false,
        "cell_id": "cde82e68f34a4afb98f8661e36c3a40c",
        "deepnote_cell_type": "code",
        "id": "9QO6YbXqJrIQ",
        "outputId": "290a5765-0a98-428f-fa4c-1195b252c2e2"
      },
      "source": [
        "import pandas as pd\n",
        "import numpy as np\n",
        "import scipy.stats as stats\n",
        "from  numpy.linalg import inv\n",
        "from scipy.linalg import solve\n",
        "!pip install openpyxl"
      ],
      "execution_count": null,
      "outputs": [
        {
          "name": "stdout",
          "text": "Requirement already satisfied: openpyxl in /root/venv/lib/python3.9/site-packages (3.1.2)\nRequirement already satisfied: et-xmlfile in /root/venv/lib/python3.9/site-packages (from openpyxl) (1.1.0)\n\u001b[33mWARNING: You are using pip version 22.0.4; however, version 23.1.2 is available.\nYou should consider upgrading via the '/root/venv/bin/python -m pip install --upgrade pip' command.\u001b[0m\u001b[33m\n\u001b[0m",
          "output_type": "stream"
        }
      ]
    },
    {
      "cell_type": "markdown",
      "metadata": {
        "formattedRanges": [],
        "deepnote_app_coordinates": {
          "h": 5,
          "w": 12,
          "x": 0,
          "y": 38
        },
        "cell_id": "ce5df64c8c11466fae793915f581f354",
        "deepnote_cell_type": "text-cell-h1",
        "id": "nTrL2CLOJrIT"
      },
      "source": [
        "# Data"
      ]
    },
    {
      "cell_type": "markdown",
      "metadata": {
        "formattedRanges": [],
        "deepnote_app_coordinates": {
          "h": 2,
          "w": 8,
          "x": 0,
          "y": 44
        },
        "cell_id": "bb1664a282044f869202839b5697be84",
        "deepnote_cell_type": "text-cell-p",
        "id": "coHvf9S_JrIU"
      },
      "source": [
        "Membaca Data"
      ]
    },
    {
      "cell_type": "code",
      "metadata": {
        "source_hash": "5710fc59",
        "execution_start": 1687000941725,
        "execution_millis": 777,
        "deepnote_app_coordinates": {
          "h": 25,
          "w": 12,
          "x": 0,
          "y": 47
        },
        "deepnote_to_be_reexecuted": false,
        "cell_id": "d5de49e77cf7418797a059669be9969d",
        "deepnote_cell_type": "code",
        "id": "DhhC3G6zJrIV",
        "outputId": "5e512341-f470-4140-9ffd-1be7f31911e7"
      },
      "source": [
        "data = pd.read_excel(\"https://github.com/Nwulanhan/Analisa-Data-TUBES/blob/main/factbook-2.xlsx?raw=true\")\n",
        "data"
      ],
      "execution_count": null,
      "outputs": [
        {
          "output_type": "execute_result",
          "execution_count": 2,
          "data": {
            "application/vnd.deepnote.dataframe.v3+json": {
              "column_count": 29,
              "row_count": 149,
              "columns": [
                {
                  "name": "Country",
                  "dtype": "object",
                  "stats": {
                    "unique_count": 149,
                    "nan_count": 0,
                    "categories": [
                      {
                        "name": "Japan",
                        "count": 1
                      },
                      {
                        "name": "Germany",
                        "count": 1
                      },
                      {
                        "name": "147 others",
                        "count": 147
                      }
                    ]
                  }
                },
                {
                  "name": "Area",
                  "dtype": "object",
                  "stats": {
                    "unique_count": 5,
                    "nan_count": 0,
                    "categories": [
                      {
                        "name": "Africa",
                        "count": 42
                      },
                      {
                        "name": "Asia",
                        "count": 41
                      },
                      {
                        "name": "3 others",
                        "count": 66
                      }
                    ]
                  }
                },
                {
                  "name": "Birth_rate",
                  "dtype": "float64",
                  "stats": {
                    "unique_count": 146,
                    "nan_count": 0,
                    "min": "7.23",
                    "max": "47.39",
                    "histogram": [
                      {
                        "bin_start": 7.23,
                        "bin_end": 11.246,
                        "count": 33
                      },
                      {
                        "bin_start": 11.246,
                        "bin_end": 15.262,
                        "count": 19
                      },
                      {
                        "bin_start": 15.262,
                        "bin_end": 19.278,
                        "count": 25
                      },
                      {
                        "bin_start": 19.278,
                        "bin_end": 23.294,
                        "count": 14
                      },
                      {
                        "bin_start": 23.294,
                        "bin_end": 27.31,
                        "count": 13
                      },
                      {
                        "bin_start": 27.31,
                        "bin_end": 31.326,
                        "count": 12
                      },
                      {
                        "bin_start": 31.326,
                        "bin_end": 35.342,
                        "count": 7
                      },
                      {
                        "bin_start": 35.342,
                        "bin_end": 39.358000000000004,
                        "count": 10
                      },
                      {
                        "bin_start": 39.358000000000004,
                        "bin_end": 43.373999999999995,
                        "count": 11
                      },
                      {
                        "bin_start": 43.373999999999995,
                        "bin_end": 47.39,
                        "count": 5
                      }
                    ]
                  }
                },
                {
                  "name": "Current account balance",
                  "dtype": "int64",
                  "stats": {
                    "unique_count": 149,
                    "nan_count": 0,
                    "min": "-64650000000000",
                    "max": "17020000000000",
                    "histogram": [
                      {
                        "bin_start": -64650000000000,
                        "bin_end": -56483000000000,
                        "count": 1
                      },
                      {
                        "bin_start": -56483000000000,
                        "bin_end": -48316000000000,
                        "count": 0
                      },
                      {
                        "bin_start": -48316000000000,
                        "bin_end": -40149000000000,
                        "count": 0
                      },
                      {
                        "bin_start": -40149000000000,
                        "bin_end": -31982000000000,
                        "count": 0
                      },
                      {
                        "bin_start": -31982000000000,
                        "bin_end": -23815000000000,
                        "count": 0
                      },
                      {
                        "bin_start": -23815000000000,
                        "bin_end": -15648000000000,
                        "count": 0
                      },
                      {
                        "bin_start": -15648000000000,
                        "bin_end": -7481000000000,
                        "count": 0
                      },
                      {
                        "bin_start": -7481000000000,
                        "bin_end": 686000000000,
                        "count": 125
                      },
                      {
                        "bin_start": 686000000000,
                        "bin_end": 8853000000000,
                        "count": 22
                      },
                      {
                        "bin_start": 8853000000000,
                        "bin_end": 17020000000000,
                        "count": 1
                      }
                    ]
                  }
                },
                {
                  "name": "Death_rate",
                  "dtype": "float64",
                  "stats": {
                    "unique_count": 144,
                    "nan_count": 0,
                    "min": "2.42",
                    "max": "29.36",
                    "histogram": [
                      {
                        "bin_start": 2.42,
                        "bin_end": 5.114,
                        "count": 19
                      },
                      {
                        "bin_start": 5.114,
                        "bin_end": 7.808,
                        "count": 42
                      },
                      {
                        "bin_start": 7.808,
                        "bin_end": 10.502,
                        "count": 40
                      },
                      {
                        "bin_start": 10.502,
                        "bin_end": 13.196,
                        "count": 18
                      },
                      {
                        "bin_start": 13.196,
                        "bin_end": 15.889999999999999,
                        "count": 13
                      },
                      {
                        "bin_start": 15.889999999999999,
                        "bin_end": 18.584000000000003,
                        "count": 7
                      },
                      {
                        "bin_start": 18.584000000000003,
                        "bin_end": 21.278,
                        "count": 3
                      },
                      {
                        "bin_start": 21.278,
                        "bin_end": 23.972,
                        "count": 2
                      },
                      {
                        "bin_start": 23.972,
                        "bin_end": 26.665999999999997,
                        "count": 4
                      },
                      {
                        "bin_start": 26.665999999999997,
                        "bin_end": 29.36,
                        "count": 1
                      }
                    ]
                  }
                },
                {
                  "name": "Electricity consumption",
                  "dtype": "int64",
                  "stats": {
                    "unique_count": 148,
                    "nan_count": 0,
                    "min": "15810000",
                    "max": "3660000000000",
                    "histogram": [
                      {
                        "bin_start": 15810000,
                        "bin_end": 366014229000,
                        "count": 141
                      },
                      {
                        "bin_start": 366014229000,
                        "bin_end": 732012648000,
                        "count": 4
                      },
                      {
                        "bin_start": 732012648000,
                        "bin_end": 1098011067000,
                        "count": 2
                      },
                      {
                        "bin_start": 1098011067000,
                        "bin_end": 1464009486000,
                        "count": 0
                      },
                      {
                        "bin_start": 1464009486000,
                        "bin_end": 1830007905000,
                        "count": 1
                      },
                      {
                        "bin_start": 1830007905000,
                        "bin_end": 2196006324000,
                        "count": 0
                      },
                      {
                        "bin_start": 2196006324000,
                        "bin_end": 2562004743000,
                        "count": 0
                      },
                      {
                        "bin_start": 2562004743000,
                        "bin_end": 2928003162000,
                        "count": 0
                      },
                      {
                        "bin_start": 2928003162000,
                        "bin_end": 3294001581000,
                        "count": 0
                      },
                      {
                        "bin_start": 3294001581000,
                        "bin_end": 3660000000000,
                        "count": 1
                      }
                    ]
                  }
                },
                {
                  "name": "Electricity production",
                  "dtype": "int64",
                  "stats": {
                    "unique_count": 147,
                    "nan_count": 0,
                    "min": "17000000",
                    "max": "3839000000000",
                    "histogram": [
                      {
                        "bin_start": 17000000,
                        "bin_end": 383915300000,
                        "count": 140
                      },
                      {
                        "bin_start": 383915300000,
                        "bin_end": 767813600000,
                        "count": 5
                      },
                      {
                        "bin_start": 767813600000,
                        "bin_end": 1151711900000,
                        "count": 2
                      },
                      {
                        "bin_start": 1151711900000,
                        "bin_end": 1535610200000,
                        "count": 0
                      },
                      {
                        "bin_start": 1535610200000,
                        "bin_end": 1919508500000,
                        "count": 1
                      },
                      {
                        "bin_start": 1919508500000,
                        "bin_end": 2303406800000,
                        "count": 0
                      },
                      {
                        "bin_start": 2303406800000,
                        "bin_end": 2687305100000,
                        "count": 0
                      },
                      {
                        "bin_start": 2687305100000,
                        "bin_end": 3071203400000,
                        "count": 0
                      },
                      {
                        "bin_start": 3071203400000,
                        "bin_end": 3455101700000,
                        "count": 0
                      },
                      {
                        "bin_start": 3455101700000,
                        "bin_end": 3839000000000,
                        "count": 1
                      }
                    ]
                  }
                },
                {
                  "name": "Exports",
                  "dtype": "float64",
                  "stats": {
                    "unique_count": 140,
                    "nan_count": 1,
                    "min": "0.0",
                    "max": "87900.0",
                    "histogram": [
                      {
                        "bin_start": 0,
                        "bin_end": 8790,
                        "count": 106
                      },
                      {
                        "bin_start": 8790,
                        "bin_end": 17580,
                        "count": 9
                      },
                      {
                        "bin_start": 17580,
                        "bin_end": 26370,
                        "count": 5
                      },
                      {
                        "bin_start": 26370,
                        "bin_end": 35160,
                        "count": 8
                      },
                      {
                        "bin_start": 35160,
                        "bin_end": 43950,
                        "count": 5
                      },
                      {
                        "bin_start": 43950,
                        "bin_end": 52740,
                        "count": 0
                      },
                      {
                        "bin_start": 52740,
                        "bin_end": 61530,
                        "count": 3
                      },
                      {
                        "bin_start": 61530,
                        "bin_end": 70320,
                        "count": 7
                      },
                      {
                        "bin_start": 70320,
                        "bin_end": 79110,
                        "count": 3
                      },
                      {
                        "bin_start": 79110,
                        "bin_end": 87900,
                        "count": 2
                      }
                    ]
                  }
                },
                {
                  "name": "GDP",
                  "dtype": "int64",
                  "stats": {
                    "unique_count": 149,
                    "nan_count": 0,
                    "min": "214000000",
                    "max": "11750000000000",
                    "histogram": [
                      {
                        "bin_start": 214000000,
                        "bin_end": 1175192600000,
                        "count": 139
                      },
                      {
                        "bin_start": 1175192600000,
                        "bin_end": 2350171200000,
                        "count": 5
                      },
                      {
                        "bin_start": 2350171200000,
                        "bin_end": 3525149800000,
                        "count": 2
                      },
                      {
                        "bin_start": 3525149800000,
                        "bin_end": 4700128400000,
                        "count": 1
                      },
                      {
                        "bin_start": 4700128400000,
                        "bin_end": 5875107000000,
                        "count": 0
                      },
                      {
                        "bin_start": 5875107000000,
                        "bin_end": 7050085600000,
                        "count": 0
                      },
                      {
                        "bin_start": 7050085600000,
                        "bin_end": 8225064200000,
                        "count": 1
                      },
                      {
                        "bin_start": 8225064200000,
                        "bin_end": 9400042800000,
                        "count": 0
                      },
                      {
                        "bin_start": 9400042800000,
                        "bin_end": 10575021400000,
                        "count": 0
                      },
                      {
                        "bin_start": 10575021400000,
                        "bin_end": 11750000000000,
                        "count": 1
                      }
                    ]
                  }
                },
                {
                  "name": "GDP per capita",
                  "dtype": "int64",
                  "stats": {
                    "unique_count": 102,
                    "nan_count": 0,
                    "min": "600",
                    "max": "40100",
                    "histogram": [
                      {
                        "bin_start": 600,
                        "bin_end": 4550,
                        "count": 62
                      },
                      {
                        "bin_start": 4550,
                        "bin_end": 8500,
                        "count": 33
                      },
                      {
                        "bin_start": 8500,
                        "bin_end": 12450,
                        "count": 13
                      },
                      {
                        "bin_start": 12450,
                        "bin_end": 16400,
                        "count": 7
                      },
                      {
                        "bin_start": 16400,
                        "bin_end": 20350,
                        "count": 6
                      },
                      {
                        "bin_start": 20350,
                        "bin_end": 24300,
                        "count": 6
                      },
                      {
                        "bin_start": 24300,
                        "bin_end": 28250,
                        "count": 4
                      },
                      {
                        "bin_start": 28250,
                        "bin_end": 32200,
                        "count": 13
                      },
                      {
                        "bin_start": 32200,
                        "bin_end": 36150,
                        "count": 3
                      },
                      {
                        "bin_start": 36150,
                        "bin_end": 40100,
                        "count": 2
                      }
                    ]
                  }
                },
                {
                  "name": "GDP real growth rate",
                  "dtype": "float64",
                  "stats": {
                    "unique_count": 78,
                    "nan_count": 0,
                    "min": "-8.2",
                    "max": "52.3",
                    "histogram": [
                      {
                        "bin_start": -8.2,
                        "bin_end": -2.1499999999999995,
                        "count": 2
                      },
                      {
                        "bin_start": -2.1499999999999995,
                        "bin_end": 3.9000000000000004,
                        "count": 58
                      },
                      {
                        "bin_start": 3.9000000000000004,
                        "bin_end": 9.95,
                        "count": 80
                      },
                      {
                        "bin_start": 9.95,
                        "bin_end": 16,
                        "count": 5
                      },
                      {
                        "bin_start": 16,
                        "bin_end": 22.05,
                        "count": 2
                      },
                      {
                        "bin_start": 22.05,
                        "bin_end": 28.099999999999998,
                        "count": 0
                      },
                      {
                        "bin_start": 28.099999999999998,
                        "bin_end": 34.150000000000006,
                        "count": 0
                      },
                      {
                        "bin_start": 34.150000000000006,
                        "bin_end": 40.2,
                        "count": 1
                      },
                      {
                        "bin_start": 40.2,
                        "bin_end": 46.25,
                        "count": 0
                      },
                      {
                        "bin_start": 46.25,
                        "bin_end": 52.3,
                        "count": 1
                      }
                    ]
                  }
                },
                {
                  "name": "Highways",
                  "dtype": "int64",
                  "stats": {
                    "unique_count": 149,
                    "nan_count": 0,
                    "min": "320",
                    "max": "6393603",
                    "histogram": [
                      {
                        "bin_start": 320,
                        "bin_end": 639648.3,
                        "count": 140
                      },
                      {
                        "bin_start": 639648.3,
                        "bin_end": 1278976.6,
                        "count": 4
                      },
                      {
                        "bin_start": 1278976.6,
                        "bin_end": 1918304.9000000001,
                        "count": 3
                      },
                      {
                        "bin_start": 1918304.9000000001,
                        "bin_end": 2557633.2,
                        "count": 1
                      },
                      {
                        "bin_start": 2557633.2,
                        "bin_end": 3196961.5,
                        "count": 0
                      },
                      {
                        "bin_start": 3196961.5,
                        "bin_end": 3836289.8000000003,
                        "count": 0
                      },
                      {
                        "bin_start": 3836289.8000000003,
                        "bin_end": 4475618.100000001,
                        "count": 0
                      },
                      {
                        "bin_start": 4475618.100000001,
                        "bin_end": 5114946.4,
                        "count": 0
                      },
                      {
                        "bin_start": 5114946.4,
                        "bin_end": 5754274.7,
                        "count": 0
                      },
                      {
                        "bin_start": 5754274.7,
                        "bin_end": 6393603,
                        "count": 1
                      }
                    ]
                  }
                },
                {
                  "name": "Imports",
                  "dtype": "int64",
                  "stats": {
                    "unique_count": 148,
                    "nan_count": 0,
                    "min": "41000000",
                    "max": "1476000000000",
                    "histogram": [
                      {
                        "bin_start": 41000000,
                        "bin_end": 147636900000,
                        "count": 133
                      },
                      {
                        "bin_start": 147636900000,
                        "bin_end": 295232800000,
                        "count": 9
                      },
                      {
                        "bin_start": 295232800000,
                        "bin_end": 442828700000,
                        "count": 4
                      },
                      {
                        "bin_start": 442828700000,
                        "bin_end": 590424600000,
                        "count": 1
                      },
                      {
                        "bin_start": 590424600000,
                        "bin_end": 738020500000,
                        "count": 1
                      },
                      {
                        "bin_start": 738020500000,
                        "bin_end": 885616400000,
                        "count": 0
                      },
                      {
                        "bin_start": 885616400000,
                        "bin_end": 1033212300000,
                        "count": 0
                      },
                      {
                        "bin_start": 1033212300000,
                        "bin_end": 1180808200000,
                        "count": 0
                      },
                      {
                        "bin_start": 1180808200000,
                        "bin_end": 1328404100000,
                        "count": 0
                      },
                      {
                        "bin_start": 1328404100000,
                        "bin_end": 1476000000000,
                        "count": 1
                      }
                    ]
                  }
                },
                {
                  "name": "Industrial production growth rate",
                  "dtype": "float64",
                  "stats": {
                    "unique_count": 87,
                    "nan_count": 0,
                    "min": "-7.8",
                    "max": "30.0",
                    "histogram": [
                      {
                        "bin_start": -7.8,
                        "bin_end": -4.02,
                        "count": 2
                      },
                      {
                        "bin_start": -4.02,
                        "bin_end": -0.2400000000000002,
                        "count": 3
                      },
                      {
                        "bin_start": -0.2400000000000002,
                        "bin_end": 3.54,
                        "count": 53
                      },
                      {
                        "bin_start": 3.54,
                        "bin_end": 7.319999999999999,
                        "count": 51
                      },
                      {
                        "bin_start": 7.319999999999999,
                        "bin_end": 11.099999999999998,
                        "count": 20
                      },
                      {
                        "bin_start": 11.099999999999998,
                        "bin_end": 14.879999999999999,
                        "count": 7
                      },
                      {
                        "bin_start": 14.879999999999999,
                        "bin_end": 18.659999999999997,
                        "count": 9
                      },
                      {
                        "bin_start": 18.659999999999997,
                        "bin_end": 22.439999999999998,
                        "count": 3
                      },
                      {
                        "bin_start": 22.439999999999998,
                        "bin_end": 26.219999999999995,
                        "count": 0
                      },
                      {
                        "bin_start": 26.219999999999995,
                        "bin_end": 30,
                        "count": 1
                      }
                    ]
                  }
                },
                {
                  "name": "Infant mortality rate",
                  "dtype": "float64",
                  "stats": {
                    "unique_count": 148,
                    "nan_count": 0,
                    "min": "2.29",
                    "max": "191.19",
                    "histogram": [
                      {
                        "bin_start": 2.29,
                        "bin_end": 21.18,
                        "count": 67
                      },
                      {
                        "bin_start": 21.18,
                        "bin_end": 40.07,
                        "count": 28
                      },
                      {
                        "bin_start": 40.07,
                        "bin_end": 58.96,
                        "count": 15
                      },
                      {
                        "bin_start": 58.96,
                        "bin_end": 77.85000000000001,
                        "count": 20
                      },
                      {
                        "bin_start": 77.85000000000001,
                        "bin_end": 96.74000000000001,
                        "count": 12
                      },
                      {
                        "bin_start": 96.74000000000001,
                        "bin_end": 115.63000000000001,
                        "count": 5
                      },
                      {
                        "bin_start": 115.63000000000001,
                        "bin_end": 134.52,
                        "count": 1
                      },
                      {
                        "bin_start": 134.52,
                        "bin_end": 153.41,
                        "count": 0
                      },
                      {
                        "bin_start": 153.41,
                        "bin_end": 172.29999999999998,
                        "count": 0
                      },
                      {
                        "bin_start": 172.29999999999998,
                        "bin_end": 191.19,
                        "count": 1
                      }
                    ]
                  }
                },
                {
                  "name": "Inflation rate",
                  "dtype": "float64",
                  "stats": {
                    "unique_count": 82,
                    "nan_count": 0,
                    "min": "-0.3",
                    "max": "133.0",
                    "histogram": [
                      {
                        "bin_start": -0.3,
                        "bin_end": 13.030000000000001,
                        "count": 136
                      },
                      {
                        "bin_start": 13.030000000000001,
                        "bin_end": 26.360000000000003,
                        "count": 10
                      },
                      {
                        "bin_start": 26.360000000000003,
                        "bin_end": 39.69000000000001,
                        "count": 0
                      },
                      {
                        "bin_start": 39.69000000000001,
                        "bin_end": 53.02000000000001,
                        "count": 1
                      },
                      {
                        "bin_start": 53.02000000000001,
                        "bin_end": 66.35000000000001,
                        "count": 1
                      },
                      {
                        "bin_start": 66.35000000000001,
                        "bin_end": 79.68000000000002,
                        "count": 0
                      },
                      {
                        "bin_start": 79.68000000000002,
                        "bin_end": 93.01000000000002,
                        "count": 0
                      },
                      {
                        "bin_start": 93.01000000000002,
                        "bin_end": 106.34000000000002,
                        "count": 0
                      },
                      {
                        "bin_start": 106.34000000000002,
                        "bin_end": 119.67000000000002,
                        "count": 0
                      },
                      {
                        "bin_start": 119.67000000000002,
                        "bin_end": 133,
                        "count": 1
                      }
                    ]
                  }
                },
                {
                  "name": "Internet users",
                  "dtype": "int64",
                  "stats": {
                    "unique_count": 117,
                    "nan_count": 0,
                    "min": "1800",
                    "max": "159000000",
                    "histogram": [
                      {
                        "bin_start": 1800,
                        "bin_end": 15901620,
                        "count": 139
                      },
                      {
                        "bin_start": 15901620,
                        "bin_end": 31801440,
                        "count": 6
                      },
                      {
                        "bin_start": 31801440,
                        "bin_end": 47701260,
                        "count": 1
                      },
                      {
                        "bin_start": 47701260,
                        "bin_end": 63601080,
                        "count": 1
                      },
                      {
                        "bin_start": 63601080,
                        "bin_end": 79500900,
                        "count": 0
                      },
                      {
                        "bin_start": 79500900,
                        "bin_end": 95400720,
                        "count": 1
                      },
                      {
                        "bin_start": 95400720,
                        "bin_end": 111300540,
                        "count": 0
                      },
                      {
                        "bin_start": 111300540,
                        "bin_end": 127200360,
                        "count": 0
                      },
                      {
                        "bin_start": 127200360,
                        "bin_end": 143100180,
                        "count": 0
                      },
                      {
                        "bin_start": 143100180,
                        "bin_end": 159000000,
                        "count": 1
                      }
                    ]
                  }
                },
                {
                  "name": "Investment",
                  "dtype": "float64",
                  "stats": {
                    "unique_count": 109,
                    "nan_count": 0,
                    "min": "0.0",
                    "max": "65.1",
                    "histogram": [
                      {
                        "bin_start": 0,
                        "bin_end": 6.51,
                        "count": 5
                      },
                      {
                        "bin_start": 6.51,
                        "bin_end": 13.02,
                        "count": 13
                      },
                      {
                        "bin_start": 13.02,
                        "bin_end": 19.53,
                        "count": 54
                      },
                      {
                        "bin_start": 19.53,
                        "bin_end": 26.04,
                        "count": 50
                      },
                      {
                        "bin_start": 26.04,
                        "bin_end": 32.55,
                        "count": 16
                      },
                      {
                        "bin_start": 32.55,
                        "bin_end": 39.06,
                        "count": 4
                      },
                      {
                        "bin_start": 39.06,
                        "bin_end": 45.57,
                        "count": 3
                      },
                      {
                        "bin_start": 45.57,
                        "bin_end": 52.08,
                        "count": 3
                      },
                      {
                        "bin_start": 52.08,
                        "bin_end": 58.589999999999996,
                        "count": 0
                      },
                      {
                        "bin_start": 58.589999999999996,
                        "bin_end": 65.1,
                        "count": 1
                      }
                    ]
                  }
                },
                {
                  "name": "Labor force",
                  "dtype": "int64",
                  "stats": {
                    "unique_count": 137,
                    "nan_count": 0,
                    "min": "0",
                    "max": "760800000",
                    "histogram": [
                      {
                        "bin_start": 0,
                        "bin_end": 76080000,
                        "count": 144
                      },
                      {
                        "bin_start": 76080000,
                        "bin_end": 152160000,
                        "count": 3
                      },
                      {
                        "bin_start": 152160000,
                        "bin_end": 228240000,
                        "count": 0
                      },
                      {
                        "bin_start": 228240000,
                        "bin_end": 304320000,
                        "count": 0
                      },
                      {
                        "bin_start": 304320000,
                        "bin_end": 380400000,
                        "count": 0
                      },
                      {
                        "bin_start": 380400000,
                        "bin_end": 456480000,
                        "count": 0
                      },
                      {
                        "bin_start": 456480000,
                        "bin_end": 532560000,
                        "count": 1
                      },
                      {
                        "bin_start": 532560000,
                        "bin_end": 608640000,
                        "count": 0
                      },
                      {
                        "bin_start": 608640000,
                        "bin_end": 684720000,
                        "count": 0
                      },
                      {
                        "bin_start": 684720000,
                        "bin_end": 760800000,
                        "count": 1
                      }
                    ]
                  }
                },
                {
                  "name": "LifeExpBirth",
                  "dtype": "float64",
                  "stats": {
                    "unique_count": 146,
                    "nan_count": 0,
                    "min": "33.87",
                    "max": "81.62",
                    "histogram": [
                      {
                        "bin_start": 33.87,
                        "bin_end": 38.644999999999996,
                        "count": 6
                      },
                      {
                        "bin_start": 38.644999999999996,
                        "bin_end": 43.42,
                        "count": 3
                      },
                      {
                        "bin_start": 43.42,
                        "bin_end": 48.195,
                        "count": 9
                      },
                      {
                        "bin_start": 48.195,
                        "bin_end": 52.97,
                        "count": 9
                      },
                      {
                        "bin_start": 52.97,
                        "bin_end": 57.745,
                        "count": 8
                      },
                      {
                        "bin_start": 57.745,
                        "bin_end": 62.519999999999996,
                        "count": 5
                      },
                      {
                        "bin_start": 62.519999999999996,
                        "bin_end": 67.295,
                        "count": 16
                      },
                      {
                        "bin_start": 67.295,
                        "bin_end": 72.07,
                        "count": 26
                      },
                      {
                        "bin_start": 72.07,
                        "bin_end": 76.845,
                        "count": 35
                      },
                      {
                        "bin_start": 76.845,
                        "bin_end": 81.62,
                        "count": 32
                      }
                    ]
                  }
                },
                {
                  "name": "Military expenditures",
                  "dtype": "float64",
                  "stats": {
                    "unique_count": 61,
                    "nan_count": 0,
                    "min": "0.0",
                    "max": "14.6",
                    "histogram": [
                      {
                        "bin_start": 0,
                        "bin_end": 1.46,
                        "count": 51
                      },
                      {
                        "bin_start": 1.46,
                        "bin_end": 2.92,
                        "count": 57
                      },
                      {
                        "bin_start": 2.92,
                        "bin_end": 4.38,
                        "count": 21
                      },
                      {
                        "bin_start": 4.38,
                        "bin_end": 5.84,
                        "count": 7
                      },
                      {
                        "bin_start": 5.84,
                        "bin_end": 7.3,
                        "count": 5
                      },
                      {
                        "bin_start": 7.3,
                        "bin_end": 8.76,
                        "count": 2
                      },
                      {
                        "bin_start": 8.76,
                        "bin_end": 10.219999999999999,
                        "count": 2
                      },
                      {
                        "bin_start": 10.219999999999999,
                        "bin_end": 11.68,
                        "count": 2
                      },
                      {
                        "bin_start": 11.68,
                        "bin_end": 13.14,
                        "count": 0
                      },
                      {
                        "bin_start": 13.14,
                        "bin_end": 14.6,
                        "count": 2
                      }
                    ]
                  }
                },
                {
                  "name": "Natural gas consumption",
                  "dtype": "int64",
                  "stats": {
                    "unique_count": 98,
                    "nan_count": 0,
                    "min": "0",
                    "max": "640900000000",
                    "histogram": [
                      {
                        "bin_start": 0,
                        "bin_end": 64090000000,
                        "count": 141
                      },
                      {
                        "bin_start": 64090000000,
                        "bin_end": 128180000000,
                        "count": 6
                      },
                      {
                        "bin_start": 128180000000,
                        "bin_end": 192270000000,
                        "count": 0
                      },
                      {
                        "bin_start": 192270000000,
                        "bin_end": 256360000000,
                        "count": 0
                      },
                      {
                        "bin_start": 256360000000,
                        "bin_end": 320450000000,
                        "count": 0
                      },
                      {
                        "bin_start": 320450000000,
                        "bin_end": 384540000000,
                        "count": 0
                      },
                      {
                        "bin_start": 384540000000,
                        "bin_end": 448630000000,
                        "count": 1
                      },
                      {
                        "bin_start": 448630000000,
                        "bin_end": 512720000000,
                        "count": 0
                      },
                      {
                        "bin_start": 512720000000,
                        "bin_end": 576810000000,
                        "count": 0
                      },
                      {
                        "bin_start": 576810000000,
                        "bin_end": 640900000000,
                        "count": 1
                      }
                    ]
                  }
                },
                {
                  "name": "Oil consumption",
                  "dtype": "int64",
                  "stats": {
                    "unique_count": 129,
                    "nan_count": 0,
                    "min": "700",
                    "max": "19650000",
                    "histogram": [
                      {
                        "bin_start": 700,
                        "bin_end": 1965630,
                        "count": 139
                      },
                      {
                        "bin_start": 1965630,
                        "bin_end": 3930560,
                        "count": 7
                      },
                      {
                        "bin_start": 3930560,
                        "bin_end": 5895490,
                        "count": 2
                      },
                      {
                        "bin_start": 5895490,
                        "bin_end": 7860420,
                        "count": 0
                      },
                      {
                        "bin_start": 7860420,
                        "bin_end": 9825350,
                        "count": 0
                      },
                      {
                        "bin_start": 9825350,
                        "bin_end": 11790280,
                        "count": 0
                      },
                      {
                        "bin_start": 11790280,
                        "bin_end": 13755210,
                        "count": 0
                      },
                      {
                        "bin_start": 13755210,
                        "bin_end": 15720140,
                        "count": 0
                      },
                      {
                        "bin_start": 15720140,
                        "bin_end": 17685070,
                        "count": 0
                      },
                      {
                        "bin_start": 17685070,
                        "bin_end": 19650000,
                        "count": 1
                      }
                    ]
                  }
                },
                {
                  "name": "Population",
                  "dtype": "int64",
                  "stats": {
                    "unique_count": 149,
                    "nan_count": 0,
                    "min": "81188",
                    "max": "1306313812",
                    "histogram": [
                      {
                        "bin_start": 81188,
                        "bin_end": 130704450.4,
                        "count": 141
                      },
                      {
                        "bin_start": 130704450.4,
                        "bin_end": 261327712.8,
                        "count": 5
                      },
                      {
                        "bin_start": 261327712.8,
                        "bin_end": 391950975.20000005,
                        "count": 1
                      },
                      {
                        "bin_start": 391950975.20000005,
                        "bin_end": 522574237.6,
                        "count": 0
                      },
                      {
                        "bin_start": 522574237.6,
                        "bin_end": 653197500,
                        "count": 0
                      },
                      {
                        "bin_start": 653197500,
                        "bin_end": 783820762.4000001,
                        "count": 0
                      },
                      {
                        "bin_start": 783820762.4000001,
                        "bin_end": 914444024.8000001,
                        "count": 0
                      },
                      {
                        "bin_start": 914444024.8000001,
                        "bin_end": 1045067287.2,
                        "count": 0
                      },
                      {
                        "bin_start": 1045067287.2,
                        "bin_end": 1175690549.6000001,
                        "count": 1
                      },
                      {
                        "bin_start": 1175690549.6000001,
                        "bin_end": 1306313812,
                        "count": 1
                      }
                    ]
                  }
                },
                {
                  "name": "Public debt",
                  "dtype": "float64",
                  "stats": {
                    "unique_count": 105,
                    "nan_count": 0,
                    "min": "0.0",
                    "max": "228.3",
                    "histogram": [
                      {
                        "bin_start": 0,
                        "bin_end": 22.830000000000002,
                        "count": 57
                      },
                      {
                        "bin_start": 22.830000000000002,
                        "bin_end": 45.660000000000004,
                        "count": 31
                      },
                      {
                        "bin_start": 45.660000000000004,
                        "bin_end": 68.49000000000001,
                        "count": 31
                      },
                      {
                        "bin_start": 68.49000000000001,
                        "bin_end": 91.32000000000001,
                        "count": 16
                      },
                      {
                        "bin_start": 91.32000000000001,
                        "bin_end": 114.15,
                        "count": 7
                      },
                      {
                        "bin_start": 114.15,
                        "bin_end": 136.98000000000002,
                        "count": 3
                      },
                      {
                        "bin_start": 136.98000000000002,
                        "bin_end": 159.81,
                        "count": 1
                      },
                      {
                        "bin_start": 159.81,
                        "bin_end": 182.64000000000001,
                        "count": 2
                      },
                      {
                        "bin_start": 182.64000000000001,
                        "bin_end": 205.47000000000003,
                        "count": 0
                      },
                      {
                        "bin_start": 205.47000000000003,
                        "bin_end": 228.3,
                        "count": 1
                      }
                    ]
                  }
                },
                {
                  "name": "Railways",
                  "dtype": "int64",
                  "stats": {
                    "unique_count": 122,
                    "nan_count": 0,
                    "min": "0",
                    "max": "228464",
                    "histogram": [
                      {
                        "bin_start": 0,
                        "bin_end": 22846.4,
                        "count": 137
                      },
                      {
                        "bin_start": 22846.4,
                        "bin_end": 45692.8,
                        "count": 6
                      },
                      {
                        "bin_start": 45692.8,
                        "bin_end": 68539.20000000001,
                        "count": 3
                      },
                      {
                        "bin_start": 68539.20000000001,
                        "bin_end": 91385.6,
                        "count": 2
                      },
                      {
                        "bin_start": 91385.6,
                        "bin_end": 114232,
                        "count": 0
                      },
                      {
                        "bin_start": 114232,
                        "bin_end": 137078.40000000002,
                        "count": 0
                      },
                      {
                        "bin_start": 137078.40000000002,
                        "bin_end": 159924.80000000002,
                        "count": 0
                      },
                      {
                        "bin_start": 159924.80000000002,
                        "bin_end": 182771.2,
                        "count": 0
                      },
                      {
                        "bin_start": 182771.2,
                        "bin_end": 205617.6,
                        "count": 0
                      },
                      {
                        "bin_start": 205617.6,
                        "bin_end": 228464,
                        "count": 1
                      }
                    ]
                  }
                },
                {
                  "name": "Reserves of foreign exchange & gold",
                  "dtype": "int64",
                  "stats": {
                    "unique_count": 147,
                    "nan_count": 0,
                    "min": "0",
                    "max": "664600000000",
                    "histogram": [
                      {
                        "bin_start": 0,
                        "bin_end": 66460000000,
                        "count": 137
                      },
                      {
                        "bin_start": 66460000000,
                        "bin_end": 132920000000,
                        "count": 8
                      },
                      {
                        "bin_start": 132920000000,
                        "bin_end": 199380000000,
                        "count": 1
                      },
                      {
                        "bin_start": 199380000000,
                        "bin_end": 265840000000,
                        "count": 1
                      },
                      {
                        "bin_start": 265840000000,
                        "bin_end": 332300000000,
                        "count": 0
                      },
                      {
                        "bin_start": 332300000000,
                        "bin_end": 398760000000,
                        "count": 0
                      },
                      {
                        "bin_start": 398760000000,
                        "bin_end": 465220000000,
                        "count": 0
                      },
                      {
                        "bin_start": 465220000000,
                        "bin_end": 531680000000,
                        "count": 0
                      },
                      {
                        "bin_start": 531680000000,
                        "bin_end": 598140000000,
                        "count": 0
                      },
                      {
                        "bin_start": 598140000000,
                        "bin_end": 664600000000,
                        "count": 2
                      }
                    ]
                  }
                },
                {
                  "name": "Total fertility rate",
                  "dtype": "float64",
                  "stats": {
                    "unique_count": 119,
                    "nan_count": 0,
                    "min": "0.91",
                    "max": "6.74",
                    "histogram": [
                      {
                        "bin_start": 0.91,
                        "bin_end": 1.4929999999999999,
                        "count": 27
                      },
                      {
                        "bin_start": 1.4929999999999999,
                        "bin_end": 2.076,
                        "count": 41
                      },
                      {
                        "bin_start": 2.076,
                        "bin_end": 2.659,
                        "count": 13
                      },
                      {
                        "bin_start": 2.659,
                        "bin_end": 3.242,
                        "count": 20
                      },
                      {
                        "bin_start": 3.242,
                        "bin_end": 3.825,
                        "count": 10
                      },
                      {
                        "bin_start": 3.825,
                        "bin_end": 4.4079999999999995,
                        "count": 7
                      },
                      {
                        "bin_start": 4.4079999999999995,
                        "bin_end": 4.991,
                        "count": 11
                      },
                      {
                        "bin_start": 4.991,
                        "bin_end": 5.574,
                        "count": 7
                      },
                      {
                        "bin_start": 5.574,
                        "bin_end": 6.157,
                        "count": 8
                      },
                      {
                        "bin_start": 6.157,
                        "bin_end": 6.74,
                        "count": 5
                      }
                    ]
                  }
                },
                {
                  "name": "Unemployment rate",
                  "dtype": "float64",
                  "stats": {
                    "unique_count": 94,
                    "nan_count": 0,
                    "min": "0.0",
                    "max": "70.0",
                    "histogram": [
                      {
                        "bin_start": 0,
                        "bin_end": 7,
                        "count": 61
                      },
                      {
                        "bin_start": 7,
                        "bin_end": 14,
                        "count": 45
                      },
                      {
                        "bin_start": 14,
                        "bin_end": 21,
                        "count": 16
                      },
                      {
                        "bin_start": 21,
                        "bin_end": 28,
                        "count": 8
                      },
                      {
                        "bin_start": 28,
                        "bin_end": 35,
                        "count": 7
                      },
                      {
                        "bin_start": 35,
                        "bin_end": 42,
                        "count": 6
                      },
                      {
                        "bin_start": 42,
                        "bin_end": 49,
                        "count": 3
                      },
                      {
                        "bin_start": 49,
                        "bin_end": 56,
                        "count": 1
                      },
                      {
                        "bin_start": 56,
                        "bin_end": 63,
                        "count": 1
                      },
                      {
                        "bin_start": 63,
                        "bin_end": 70,
                        "count": 1
                      }
                    ]
                  }
                },
                {
                  "name": "_deepnote_index_column",
                  "dtype": "int64"
                }
              ],
              "rows": [
                {
                  "Country": "Japan",
                  "Area": "Asia",
                  "Birth_rate": 9.47,
                  "Current account balance": 17020000000000,
                  "Death_rate": 8.95,
                  "Electricity consumption": 971000000000,
                  "Electricity production": 1044000000000,
                  "Exports": 538,
                  "GDP": 3745000000000,
                  "GDP per capita": 29400,
                  "GDP real growth rate": 2.9,
                  "Highways": 1171647,
                  "Imports": 401800000000,
                  "Industrial production growth rate": 6.6,
                  "Infant mortality rate": 3.26,
                  "Inflation rate": -0.1,
                  "Internet users": 57200000,
                  "Investment": 24,
                  "Labor force": 66970000,
                  "LifeExpBirth": 81.15,
                  "Military expenditures": 1,
                  "Natural gas consumption": 80420000000,
                  "Oil consumption": 5290000,
                  "Population": 127417244,
                  "Public debt": 164.3,
                  "Railways": 23705,
                  "Reserves of foreign exchange & gold": 664600000000,
                  "Total fertility rate": 1.39,
                  "Unemployment rate": 4.7,
                  "_deepnote_index_column": 0
                },
                {
                  "Country": "Germany",
                  "Area": "Europe",
                  "Birth_rate": 8.33,
                  "Current account balance": 7359000000000,
                  "Death_rate": 10.55,
                  "Electricity consumption": 519500000000,
                  "Electricity production": 560000000000,
                  "Exports": 893,
                  "GDP": 2362000000000,
                  "GDP per capita": 28700,
                  "GDP real growth rate": 1.7,
                  "Highways": 230735,
                  "Imports": 716700000000,
                  "Industrial production growth rate": 2.2,
                  "Infant mortality rate": 4.16,
                  "Inflation rate": 1.6,
                  "Internet users": 39000000,
                  "Investment": 17.6,
                  "Labor force": 42630000,
                  "LifeExpBirth": 78.65,
                  "Military expenditures": 1.5,
                  "Natural gas consumption": 99550000000,
                  "Oil consumption": 2891000,
                  "Population": 82431390,
                  "Public debt": 65.8,
                  "Railways": 46039,
                  "Reserves of foreign exchange & gold": 96840000000,
                  "Total fertility rate": 1.39,
                  "Unemployment rate": 10.6,
                  "_deepnote_index_column": 1
                },
                {
                  "Country": "Saudi Arabia",
                  "Area": "Asia",
                  "Birth_rate": 29.56,
                  "Current account balance": 5150000000000,
                  "Death_rate": 2.62,
                  "Electricity consumption": 128500000000,
                  "Electricity production": 138200000000,
                  "Exports": 110,
                  "GDP": 310200000000,
                  "GDP per capita": 12000,
                  "GDP real growth rate": 5,
                  "Highways": 152044,
                  "Imports": 36210000000,
                  "Industrial production growth rate": 2.8,
                  "Infant mortality rate": 13.24,
                  "Inflation rate": 0.8,
                  "Internet users": 1500000,
                  "Investment": 17.2,
                  "Labor force": 6620000,
                  "LifeExpBirth": 75.46,
                  "Military expenditures": 10,
                  "Natural gas consumption": 56400000000,
                  "Oil consumption": 1550000,
                  "Population": 26417599,
                  "Public debt": 75,
                  "Railways": 1392,
                  "Reserves of foreign exchange & gold": 23620000000,
                  "Total fertility rate": 4.05,
                  "Unemployment rate": 25,
                  "_deepnote_index_column": 2
                },
                {
                  "Country": "Russia",
                  "Area": "Europe",
                  "Birth_rate": 9.8,
                  "Current account balance": 4604000000000,
                  "Death_rate": 14.52,
                  "Electricity consumption": 894300000000,
                  "Electricity production": 915000000000,
                  "Exports": 162,
                  "GDP": 1408000000000,
                  "GDP per capita": 9800,
                  "GDP real growth rate": 6.7,
                  "Highways": 537289,
                  "Imports": 92910000000,
                  "Industrial production growth rate": 6.4,
                  "Infant mortality rate": 15.39,
                  "Inflation rate": 11.5,
                  "Internet users": 6000000,
                  "Investment": 19.1,
                  "Labor force": 71830000,
                  "LifeExpBirth": 67.1,
                  "Military expenditures": 0,
                  "Natural gas consumption": 405800000000,
                  "Oil consumption": 2310000,
                  "Population": 143420309,
                  "Public debt": 28.2,
                  "Railways": 87157,
                  "Reserves of foreign exchange & gold": 124500000000,
                  "Total fertility rate": 1.27,
                  "Unemployment rate": 8.3,
                  "_deepnote_index_column": 3
                },
                {
                  "Country": "Switzerland",
                  "Area": "Europe",
                  "Birth_rate": 9.77,
                  "Current account balance": 4095000000000,
                  "Death_rate": 8.48,
                  "Electricity consumption": 54530000000,
                  "Electricity production": 63470000000,
                  "Exports": 130,
                  "GDP": 251900000000,
                  "GDP per capita": 33800,
                  "GDP real growth rate": 1.8,
                  "Highways": 71212,
                  "Imports": 121100000000,
                  "Industrial production growth rate": 4.7,
                  "Infant mortality rate": 4.39,
                  "Inflation rate": 0.9,
                  "Internet users": 2556000,
                  "Investment": 20.4,
                  "Labor force": 3770000,
                  "LifeExpBirth": 80.39,
                  "Military expenditures": 1,
                  "Natural gas consumption": 3093000000,
                  "Oil consumption": 290400,
                  "Population": 7489370,
                  "Public debt": 57.2,
                  "Railways": 4533,
                  "Reserves of foreign exchange & gold": 69580000000,
                  "Total fertility rate": 1.42,
                  "Unemployment rate": 3.4,
                  "_deepnote_index_column": 4
                },
                {
                  "Country": "Norway",
                  "Area": "Europe",
                  "Birth_rate": 11.67,
                  "Current account balance": 3052000000000,
                  "Death_rate": 9.45,
                  "Electricity consumption": 107400000000,
                  "Electricity production": 125900000000,
                  "Exports": 76600,
                  "GDP": 183000000000,
                  "GDP per capita": 40000,
                  "GDP real growth rate": 3.3,
                  "Highways": 91852,
                  "Imports": 45960000000,
                  "Industrial production growth rate": 5.2,
                  "Infant mortality rate": 3.7,
                  "Inflation rate": 1,
                  "Internet users": 2288000,
                  "Investment": 17.5,
                  "Labor force": 2380000,
                  "LifeExpBirth": 79.4,
                  "Military expenditures": 1.9,
                  "Natural gas consumption": 4100000000,
                  "Oil consumption": 171100,
                  "Population": 4593041,
                  "Public debt": 33.1,
                  "Railways": 4077,
                  "Reserves of foreign exchange & gold": 0,
                  "Total fertility rate": 1.78,
                  "Unemployment rate": 4.3,
                  "_deepnote_index_column": 5
                },
                {
                  "Country": "China",
                  "Area": "Asia",
                  "Birth_rate": 13.14,
                  "Current account balance": 3032000000000,
                  "Death_rate": 6.94,
                  "Electricity consumption": 1630000000000,
                  "Electricity production": 1910000000000,
                  "Exports": 583,
                  "GDP": 7262000000000,
                  "GDP per capita": 5600,
                  "GDP real growth rate": 9.1,
                  "Highways": 1765222,
                  "Imports": 552400000000,
                  "Industrial production growth rate": 17.1,
                  "Infant mortality rate": 24.18,
                  "Inflation rate": 4.1,
                  "Internet users": 94000000,
                  "Investment": 46,
                  "Labor force": 760800000,
                  "LifeExpBirth": 72.27,
                  "Military expenditures": 4.3,
                  "Natural gas consumption": 29180000000,
                  "Oil consumption": 4956000,
                  "Population": 1306313812,
                  "Public debt": 31.4,
                  "Railways": 70058,
                  "Reserves of foreign exchange & gold": 609900000000,
                  "Total fertility rate": 1.72,
                  "Unemployment rate": 9.8,
                  "_deepnote_index_column": 6
                },
                {
                  "Country": "Canada",
                  "Area": "Americas",
                  "Birth_rate": 10.84,
                  "Current account balance": 2820000000000,
                  "Death_rate": 7.73,
                  "Electricity consumption": 487300000000,
                  "Electricity production": 548900000000,
                  "Exports": 315,
                  "GDP": 1023000000000,
                  "GDP per capita": 31500,
                  "GDP real growth rate": 2.4,
                  "Highways": 1408800,
                  "Imports": 256100000000,
                  "Industrial production growth rate": 2,
                  "Infant mortality rate": 4.75,
                  "Inflation rate": 1.9,
                  "Internet users": 16110000,
                  "Investment": 19.4,
                  "Labor force": 17370000,
                  "LifeExpBirth": 80.1,
                  "Military expenditures": 1.1,
                  "Natural gas consumption": 55800000000,
                  "Oil consumption": 2200000,
                  "Population": 32805041,
                  "Public debt": 0,
                  "Railways": 48909,
                  "Reserves of foreign exchange & gold": 36270000000,
                  "Total fertility rate": 1.61,
                  "Unemployment rate": 7,
                  "_deepnote_index_column": 7
                },
                {
                  "Country": "Korea South",
                  "Area": "Asia",
                  "Birth_rate": 10.08,
                  "Current account balance": 2678000000000,
                  "Death_rate": 6.26,
                  "Electricity consumption": 293600000000,
                  "Electricity production": 322500000000,
                  "Exports": 250,
                  "GDP": 925100000000,
                  "GDP per capita": 19200,
                  "GDP real growth rate": 4.6,
                  "Highways": 86990,
                  "Imports": 214200000000,
                  "Industrial production growth rate": 10.1,
                  "Infant mortality rate": 7.05,
                  "Inflation rate": 3.6,
                  "Internet users": 29220000,
                  "Investment": 28.7,
                  "Labor force": 22900000,
                  "LifeExpBirth": 75.82,
                  "Military expenditures": 2.8,
                  "Natural gas consumption": 20920000000,
                  "Oil consumption": 2070000,
                  "Population": 48422644,
                  "Public debt": 21.3,
                  "Railways": 3125,
                  "Reserves of foreign exchange & gold": 199100000000,
                  "Total fertility rate": 1.26,
                  "Unemployment rate": 3.6,
                  "_deepnote_index_column": 8
                },
                {
                  "Country": "Sweden",
                  "Area": "Europe",
                  "Birth_rate": 10.36,
                  "Current account balance": 2408000000000,
                  "Death_rate": 10.36,
                  "Electricity consumption": 138100000000,
                  "Electricity production": 142800000000,
                  "Exports": 121,
                  "GDP": 255400000000,
                  "GDP per capita": 28400,
                  "GDP real growth rate": 3.6,
                  "Highways": 213237,
                  "Imports": 97970000000,
                  "Industrial production growth rate": 5.5,
                  "Infant mortality rate": 2.77,
                  "Inflation rate": 0.7,
                  "Internet users": 5125000,
                  "Investment": 15.8,
                  "Labor force": 4460000,
                  "LifeExpBirth": 80.4,
                  "Military expenditures": 1.7,
                  "Natural gas consumption": 949000000,
                  "Oil consumption": 328600,
                  "Population": 9001774,
                  "Public debt": 51.6,
                  "Railways": 11481,
                  "Reserves of foreign exchange & gold": 19990000000,
                  "Total fertility rate": 1.66,
                  "Unemployment rate": 5.6,
                  "_deepnote_index_column": 9
                }
              ]
            },
            "text/plain": "            Country       Area  Birth_rate  Current account balance  \\\n0             Japan       Asia        9.47           17020000000000   \n1           Germany     Europe        8.33            7359000000000   \n2      Saudi Arabia       Asia       29.56            5150000000000   \n3            Russia     Europe        9.80            4604000000000   \n4       Switzerland     Europe        9.77            4095000000000   \n..              ...        ...         ...                      ...   \n144           Italy     Europe        8.89           -2110000000000   \n145           Spain     Europe       10.10           -3089000000000   \n146  United Kingdom     Europe       10.78           -3346000000000   \n147       Australia  Australia       12.26           -3830000000000   \n148   United States   Americas       14.14          -64650000000000   \n\n     Death_rate  Electricity consumption  Electricity production  Exports  \\\n0          8.95             971000000000           1044000000000    538.0   \n1         10.55             519500000000            560000000000    893.0   \n2          2.62             128500000000            138200000000    110.0   \n3         14.52             894300000000            915000000000    162.0   \n4          8.48              54530000000             63470000000    130.0   \n..          ...                      ...                     ...      ...   \n144       10.30             293900000000            261600000000    336.0   \n145        9.63             218400000000            229000000000    172.0   \n146       10.18             337400000000            395900000000    347.0   \n147        7.44             195600000000            210300000000  86800.0   \n148        8.25            3660000000000           3839000000000    790.0   \n\n                GDP  GDP per capita  ...  LifeExpBirth  Military expenditures  \\\n0     3745000000000           29400  ...         81.15                    1.0   \n1     2362000000000           28700  ...         78.65                    1.5   \n2      310200000000           12000  ...         75.46                   10.0   \n3     1408000000000            9800  ...         67.10                    0.0   \n4      251900000000           33800  ...         80.39                    1.0   \n..              ...             ...  ...           ...                    ...   \n144   1609000000000           27700  ...         79.68                    1.8   \n145    937600000000           23300  ...         79.52                    1.2   \n146   1782000000000           29600  ...         78.38                    2.4   \n147    611700000000           30700  ...         80.39                    2.7   \n148  11750000000000           40100  ...         77.71                    3.3   \n\n     Natural gas consumption  Oil consumption  Population  Public debt  \\\n0                80420000000          5290000   127417244        164.3   \n1                99550000000          2891000    82431390         65.8   \n2                56400000000          1550000    26417599         75.0   \n3               405800000000          2310000   143420309         28.2   \n4                 3093000000           290400     7489370         57.2   \n..                       ...              ...         ...          ...   \n144              71180000000          1866000    58103033        105.6   \n145              17960000000          1497000    40341462         53.2   \n146              92850000000          1692000    60441457         39.6   \n147              23330000000           796500    20090437         17.4   \n148             640900000000         19650000   295734134         65.0   \n\n     Railways  Reserves of foreign exchange & gold  Total fertility rate  \\\n0       23705                         664600000000                  1.39   \n1       46039                          96840000000                  1.39   \n2        1392                          23620000000                  4.05   \n3       87157                         124500000000                  1.27   \n4        4533                          69580000000                  1.42   \n..        ...                                  ...                   ...   \n144     19507                          61500000000                  1.28   \n145     14268                          19700000000                  1.28   \n146     17186                          48730000000                  1.66   \n147     43802                          35140000000                  1.76   \n148    228464                          85940000000                  2.08   \n\n     Unemployment rate  \n0                  4.7  \n1                 10.6  \n2                 25.0  \n3                  8.3  \n4                  3.4  \n..                 ...  \n144                8.6  \n145               10.4  \n146                4.8  \n147                5.1  \n148                5.5  \n\n[149 rows x 29 columns]",
            "text/html": "<div>\n<style scoped>\n    .dataframe tbody tr th:only-of-type {\n        vertical-align: middle;\n    }\n\n    .dataframe tbody tr th {\n        vertical-align: top;\n    }\n\n    .dataframe thead th {\n        text-align: right;\n    }\n</style>\n<table border=\"1\" class=\"dataframe\">\n  <thead>\n    <tr style=\"text-align: right;\">\n      <th></th>\n      <th>Country</th>\n      <th>Area</th>\n      <th>Birth_rate</th>\n      <th>Current account balance</th>\n      <th>Death_rate</th>\n      <th>Electricity consumption</th>\n      <th>Electricity production</th>\n      <th>Exports</th>\n      <th>GDP</th>\n      <th>GDP per capita</th>\n      <th>...</th>\n      <th>LifeExpBirth</th>\n      <th>Military expenditures</th>\n      <th>Natural gas consumption</th>\n      <th>Oil consumption</th>\n      <th>Population</th>\n      <th>Public debt</th>\n      <th>Railways</th>\n      <th>Reserves of foreign exchange &amp; gold</th>\n      <th>Total fertility rate</th>\n      <th>Unemployment rate</th>\n    </tr>\n  </thead>\n  <tbody>\n    <tr>\n      <th>0</th>\n      <td>Japan</td>\n      <td>Asia</td>\n      <td>9.47</td>\n      <td>17020000000000</td>\n      <td>8.95</td>\n      <td>971000000000</td>\n      <td>1044000000000</td>\n      <td>538.0</td>\n      <td>3745000000000</td>\n      <td>29400</td>\n      <td>...</td>\n      <td>81.15</td>\n      <td>1.0</td>\n      <td>80420000000</td>\n      <td>5290000</td>\n      <td>127417244</td>\n      <td>164.3</td>\n      <td>23705</td>\n      <td>664600000000</td>\n      <td>1.39</td>\n      <td>4.7</td>\n    </tr>\n    <tr>\n      <th>1</th>\n      <td>Germany</td>\n      <td>Europe</td>\n      <td>8.33</td>\n      <td>7359000000000</td>\n      <td>10.55</td>\n      <td>519500000000</td>\n      <td>560000000000</td>\n      <td>893.0</td>\n      <td>2362000000000</td>\n      <td>28700</td>\n      <td>...</td>\n      <td>78.65</td>\n      <td>1.5</td>\n      <td>99550000000</td>\n      <td>2891000</td>\n      <td>82431390</td>\n      <td>65.8</td>\n      <td>46039</td>\n      <td>96840000000</td>\n      <td>1.39</td>\n      <td>10.6</td>\n    </tr>\n    <tr>\n      <th>2</th>\n      <td>Saudi Arabia</td>\n      <td>Asia</td>\n      <td>29.56</td>\n      <td>5150000000000</td>\n      <td>2.62</td>\n      <td>128500000000</td>\n      <td>138200000000</td>\n      <td>110.0</td>\n      <td>310200000000</td>\n      <td>12000</td>\n      <td>...</td>\n      <td>75.46</td>\n      <td>10.0</td>\n      <td>56400000000</td>\n      <td>1550000</td>\n      <td>26417599</td>\n      <td>75.0</td>\n      <td>1392</td>\n      <td>23620000000</td>\n      <td>4.05</td>\n      <td>25.0</td>\n    </tr>\n    <tr>\n      <th>3</th>\n      <td>Russia</td>\n      <td>Europe</td>\n      <td>9.80</td>\n      <td>4604000000000</td>\n      <td>14.52</td>\n      <td>894300000000</td>\n      <td>915000000000</td>\n      <td>162.0</td>\n      <td>1408000000000</td>\n      <td>9800</td>\n      <td>...</td>\n      <td>67.10</td>\n      <td>0.0</td>\n      <td>405800000000</td>\n      <td>2310000</td>\n      <td>143420309</td>\n      <td>28.2</td>\n      <td>87157</td>\n      <td>124500000000</td>\n      <td>1.27</td>\n      <td>8.3</td>\n    </tr>\n    <tr>\n      <th>4</th>\n      <td>Switzerland</td>\n      <td>Europe</td>\n      <td>9.77</td>\n      <td>4095000000000</td>\n      <td>8.48</td>\n      <td>54530000000</td>\n      <td>63470000000</td>\n      <td>130.0</td>\n      <td>251900000000</td>\n      <td>33800</td>\n      <td>...</td>\n      <td>80.39</td>\n      <td>1.0</td>\n      <td>3093000000</td>\n      <td>290400</td>\n      <td>7489370</td>\n      <td>57.2</td>\n      <td>4533</td>\n      <td>69580000000</td>\n      <td>1.42</td>\n      <td>3.4</td>\n    </tr>\n    <tr>\n      <th>...</th>\n      <td>...</td>\n      <td>...</td>\n      <td>...</td>\n      <td>...</td>\n      <td>...</td>\n      <td>...</td>\n      <td>...</td>\n      <td>...</td>\n      <td>...</td>\n      <td>...</td>\n      <td>...</td>\n      <td>...</td>\n      <td>...</td>\n      <td>...</td>\n      <td>...</td>\n      <td>...</td>\n      <td>...</td>\n      <td>...</td>\n      <td>...</td>\n      <td>...</td>\n      <td>...</td>\n    </tr>\n    <tr>\n      <th>144</th>\n      <td>Italy</td>\n      <td>Europe</td>\n      <td>8.89</td>\n      <td>-2110000000000</td>\n      <td>10.30</td>\n      <td>293900000000</td>\n      <td>261600000000</td>\n      <td>336.0</td>\n      <td>1609000000000</td>\n      <td>27700</td>\n      <td>...</td>\n      <td>79.68</td>\n      <td>1.8</td>\n      <td>71180000000</td>\n      <td>1866000</td>\n      <td>58103033</td>\n      <td>105.6</td>\n      <td>19507</td>\n      <td>61500000000</td>\n      <td>1.28</td>\n      <td>8.6</td>\n    </tr>\n    <tr>\n      <th>145</th>\n      <td>Spain</td>\n      <td>Europe</td>\n      <td>10.10</td>\n      <td>-3089000000000</td>\n      <td>9.63</td>\n      <td>218400000000</td>\n      <td>229000000000</td>\n      <td>172.0</td>\n      <td>937600000000</td>\n      <td>23300</td>\n      <td>...</td>\n      <td>79.52</td>\n      <td>1.2</td>\n      <td>17960000000</td>\n      <td>1497000</td>\n      <td>40341462</td>\n      <td>53.2</td>\n      <td>14268</td>\n      <td>19700000000</td>\n      <td>1.28</td>\n      <td>10.4</td>\n    </tr>\n    <tr>\n      <th>146</th>\n      <td>United Kingdom</td>\n      <td>Europe</td>\n      <td>10.78</td>\n      <td>-3346000000000</td>\n      <td>10.18</td>\n      <td>337400000000</td>\n      <td>395900000000</td>\n      <td>347.0</td>\n      <td>1782000000000</td>\n      <td>29600</td>\n      <td>...</td>\n      <td>78.38</td>\n      <td>2.4</td>\n      <td>92850000000</td>\n      <td>1692000</td>\n      <td>60441457</td>\n      <td>39.6</td>\n      <td>17186</td>\n      <td>48730000000</td>\n      <td>1.66</td>\n      <td>4.8</td>\n    </tr>\n    <tr>\n      <th>147</th>\n      <td>Australia</td>\n      <td>Australia</td>\n      <td>12.26</td>\n      <td>-3830000000000</td>\n      <td>7.44</td>\n      <td>195600000000</td>\n      <td>210300000000</td>\n      <td>86800.0</td>\n      <td>611700000000</td>\n      <td>30700</td>\n      <td>...</td>\n      <td>80.39</td>\n      <td>2.7</td>\n      <td>23330000000</td>\n      <td>796500</td>\n      <td>20090437</td>\n      <td>17.4</td>\n      <td>43802</td>\n      <td>35140000000</td>\n      <td>1.76</td>\n      <td>5.1</td>\n    </tr>\n    <tr>\n      <th>148</th>\n      <td>United States</td>\n      <td>Americas</td>\n      <td>14.14</td>\n      <td>-64650000000000</td>\n      <td>8.25</td>\n      <td>3660000000000</td>\n      <td>3839000000000</td>\n      <td>790.0</td>\n      <td>11750000000000</td>\n      <td>40100</td>\n      <td>...</td>\n      <td>77.71</td>\n      <td>3.3</td>\n      <td>640900000000</td>\n      <td>19650000</td>\n      <td>295734134</td>\n      <td>65.0</td>\n      <td>228464</td>\n      <td>85940000000</td>\n      <td>2.08</td>\n      <td>5.5</td>\n    </tr>\n  </tbody>\n</table>\n<p>149 rows × 29 columns</p>\n</div>"
          },
          "metadata": {}
        }
      ]
    },
    {
      "cell_type": "markdown",
      "metadata": {
        "formattedRanges": [],
        "deepnote_app_coordinates": {
          "h": 2,
          "w": 8,
          "x": 0,
          "y": 73
        },
        "cell_id": "5411e85d540449b088389b12d9887505",
        "deepnote_cell_type": "text-cell-p",
        "id": "Z8d0TBtMJrIW"
      },
      "source": [
        "Memilih Kolom yang akan dianalisis"
      ]
    },
    {
      "cell_type": "code",
      "metadata": {
        "source_hash": "8ae5e4c0",
        "execution_start": 1687000942545,
        "execution_millis": 18,
        "deepnote_app_coordinates": {
          "h": 26,
          "w": 12,
          "x": 0,
          "y": 76
        },
        "deepnote_to_be_reexecuted": false,
        "cell_id": "b1ff798f91a44c2495558245098de395",
        "deepnote_cell_type": "code",
        "id": "KnGivdoPJrIX",
        "outputId": "6aa29660-107b-4b67-93cb-795786ad4c30"
      },
      "source": [
        "selected_col = [\"GDP\", \"Exports\", \"Imports\", \"Industrial production growth rate\", \"Investment\", \"Unemployment rate\"]\n",
        "df = data[selected_col]\n",
        "df"
      ],
      "execution_count": null,
      "outputs": [
        {
          "output_type": "execute_result",
          "execution_count": 3,
          "data": {
            "application/vnd.deepnote.dataframe.v3+json": {
              "column_count": 6,
              "row_count": 149,
              "columns": [
                {
                  "name": "GDP",
                  "dtype": "int64",
                  "stats": {
                    "unique_count": 149,
                    "nan_count": 0,
                    "min": "214000000",
                    "max": "11750000000000",
                    "histogram": [
                      {
                        "bin_start": 214000000,
                        "bin_end": 1175192600000,
                        "count": 139
                      },
                      {
                        "bin_start": 1175192600000,
                        "bin_end": 2350171200000,
                        "count": 5
                      },
                      {
                        "bin_start": 2350171200000,
                        "bin_end": 3525149800000,
                        "count": 2
                      },
                      {
                        "bin_start": 3525149800000,
                        "bin_end": 4700128400000,
                        "count": 1
                      },
                      {
                        "bin_start": 4700128400000,
                        "bin_end": 5875107000000,
                        "count": 0
                      },
                      {
                        "bin_start": 5875107000000,
                        "bin_end": 7050085600000,
                        "count": 0
                      },
                      {
                        "bin_start": 7050085600000,
                        "bin_end": 8225064200000,
                        "count": 1
                      },
                      {
                        "bin_start": 8225064200000,
                        "bin_end": 9400042800000,
                        "count": 0
                      },
                      {
                        "bin_start": 9400042800000,
                        "bin_end": 10575021400000,
                        "count": 0
                      },
                      {
                        "bin_start": 10575021400000,
                        "bin_end": 11750000000000,
                        "count": 1
                      }
                    ]
                  }
                },
                {
                  "name": "Exports",
                  "dtype": "float64",
                  "stats": {
                    "unique_count": 140,
                    "nan_count": 1,
                    "min": "0.0",
                    "max": "87900.0",
                    "histogram": [
                      {
                        "bin_start": 0,
                        "bin_end": 8790,
                        "count": 106
                      },
                      {
                        "bin_start": 8790,
                        "bin_end": 17580,
                        "count": 9
                      },
                      {
                        "bin_start": 17580,
                        "bin_end": 26370,
                        "count": 5
                      },
                      {
                        "bin_start": 26370,
                        "bin_end": 35160,
                        "count": 8
                      },
                      {
                        "bin_start": 35160,
                        "bin_end": 43950,
                        "count": 5
                      },
                      {
                        "bin_start": 43950,
                        "bin_end": 52740,
                        "count": 0
                      },
                      {
                        "bin_start": 52740,
                        "bin_end": 61530,
                        "count": 3
                      },
                      {
                        "bin_start": 61530,
                        "bin_end": 70320,
                        "count": 7
                      },
                      {
                        "bin_start": 70320,
                        "bin_end": 79110,
                        "count": 3
                      },
                      {
                        "bin_start": 79110,
                        "bin_end": 87900,
                        "count": 2
                      }
                    ]
                  }
                },
                {
                  "name": "Imports",
                  "dtype": "int64",
                  "stats": {
                    "unique_count": 148,
                    "nan_count": 0,
                    "min": "41000000",
                    "max": "1476000000000",
                    "histogram": [
                      {
                        "bin_start": 41000000,
                        "bin_end": 147636900000,
                        "count": 133
                      },
                      {
                        "bin_start": 147636900000,
                        "bin_end": 295232800000,
                        "count": 9
                      },
                      {
                        "bin_start": 295232800000,
                        "bin_end": 442828700000,
                        "count": 4
                      },
                      {
                        "bin_start": 442828700000,
                        "bin_end": 590424600000,
                        "count": 1
                      },
                      {
                        "bin_start": 590424600000,
                        "bin_end": 738020500000,
                        "count": 1
                      },
                      {
                        "bin_start": 738020500000,
                        "bin_end": 885616400000,
                        "count": 0
                      },
                      {
                        "bin_start": 885616400000,
                        "bin_end": 1033212300000,
                        "count": 0
                      },
                      {
                        "bin_start": 1033212300000,
                        "bin_end": 1180808200000,
                        "count": 0
                      },
                      {
                        "bin_start": 1180808200000,
                        "bin_end": 1328404100000,
                        "count": 0
                      },
                      {
                        "bin_start": 1328404100000,
                        "bin_end": 1476000000000,
                        "count": 1
                      }
                    ]
                  }
                },
                {
                  "name": "Industrial production growth rate",
                  "dtype": "float64",
                  "stats": {
                    "unique_count": 87,
                    "nan_count": 0,
                    "min": "-7.8",
                    "max": "30.0",
                    "histogram": [
                      {
                        "bin_start": -7.8,
                        "bin_end": -4.02,
                        "count": 2
                      },
                      {
                        "bin_start": -4.02,
                        "bin_end": -0.2400000000000002,
                        "count": 3
                      },
                      {
                        "bin_start": -0.2400000000000002,
                        "bin_end": 3.54,
                        "count": 53
                      },
                      {
                        "bin_start": 3.54,
                        "bin_end": 7.319999999999999,
                        "count": 51
                      },
                      {
                        "bin_start": 7.319999999999999,
                        "bin_end": 11.099999999999998,
                        "count": 20
                      },
                      {
                        "bin_start": 11.099999999999998,
                        "bin_end": 14.879999999999999,
                        "count": 7
                      },
                      {
                        "bin_start": 14.879999999999999,
                        "bin_end": 18.659999999999997,
                        "count": 9
                      },
                      {
                        "bin_start": 18.659999999999997,
                        "bin_end": 22.439999999999998,
                        "count": 3
                      },
                      {
                        "bin_start": 22.439999999999998,
                        "bin_end": 26.219999999999995,
                        "count": 0
                      },
                      {
                        "bin_start": 26.219999999999995,
                        "bin_end": 30,
                        "count": 1
                      }
                    ]
                  }
                },
                {
                  "name": "Investment",
                  "dtype": "float64",
                  "stats": {
                    "unique_count": 109,
                    "nan_count": 0,
                    "min": "0.0",
                    "max": "65.1",
                    "histogram": [
                      {
                        "bin_start": 0,
                        "bin_end": 6.51,
                        "count": 5
                      },
                      {
                        "bin_start": 6.51,
                        "bin_end": 13.02,
                        "count": 13
                      },
                      {
                        "bin_start": 13.02,
                        "bin_end": 19.53,
                        "count": 54
                      },
                      {
                        "bin_start": 19.53,
                        "bin_end": 26.04,
                        "count": 50
                      },
                      {
                        "bin_start": 26.04,
                        "bin_end": 32.55,
                        "count": 16
                      },
                      {
                        "bin_start": 32.55,
                        "bin_end": 39.06,
                        "count": 4
                      },
                      {
                        "bin_start": 39.06,
                        "bin_end": 45.57,
                        "count": 3
                      },
                      {
                        "bin_start": 45.57,
                        "bin_end": 52.08,
                        "count": 3
                      },
                      {
                        "bin_start": 52.08,
                        "bin_end": 58.589999999999996,
                        "count": 0
                      },
                      {
                        "bin_start": 58.589999999999996,
                        "bin_end": 65.1,
                        "count": 1
                      }
                    ]
                  }
                },
                {
                  "name": "Unemployment rate",
                  "dtype": "float64",
                  "stats": {
                    "unique_count": 94,
                    "nan_count": 0,
                    "min": "0.0",
                    "max": "70.0",
                    "histogram": [
                      {
                        "bin_start": 0,
                        "bin_end": 7,
                        "count": 61
                      },
                      {
                        "bin_start": 7,
                        "bin_end": 14,
                        "count": 45
                      },
                      {
                        "bin_start": 14,
                        "bin_end": 21,
                        "count": 16
                      },
                      {
                        "bin_start": 21,
                        "bin_end": 28,
                        "count": 8
                      },
                      {
                        "bin_start": 28,
                        "bin_end": 35,
                        "count": 7
                      },
                      {
                        "bin_start": 35,
                        "bin_end": 42,
                        "count": 6
                      },
                      {
                        "bin_start": 42,
                        "bin_end": 49,
                        "count": 3
                      },
                      {
                        "bin_start": 49,
                        "bin_end": 56,
                        "count": 1
                      },
                      {
                        "bin_start": 56,
                        "bin_end": 63,
                        "count": 1
                      },
                      {
                        "bin_start": 63,
                        "bin_end": 70,
                        "count": 1
                      }
                    ]
                  }
                },
                {
                  "name": "_deepnote_index_column",
                  "dtype": "int64"
                }
              ],
              "rows": [
                {
                  "GDP": 3745000000000,
                  "Exports": 538,
                  "Imports": 401800000000,
                  "Industrial production growth rate": 6.6,
                  "Investment": 24,
                  "Unemployment rate": 4.7,
                  "_deepnote_index_column": 0
                },
                {
                  "GDP": 2362000000000,
                  "Exports": 893,
                  "Imports": 716700000000,
                  "Industrial production growth rate": 2.2,
                  "Investment": 17.6,
                  "Unemployment rate": 10.6,
                  "_deepnote_index_column": 1
                },
                {
                  "GDP": 310200000000,
                  "Exports": 110,
                  "Imports": 36210000000,
                  "Industrial production growth rate": 2.8,
                  "Investment": 17.2,
                  "Unemployment rate": 25,
                  "_deepnote_index_column": 2
                },
                {
                  "GDP": 1408000000000,
                  "Exports": 162,
                  "Imports": 92910000000,
                  "Industrial production growth rate": 6.4,
                  "Investment": 19.1,
                  "Unemployment rate": 8.3,
                  "_deepnote_index_column": 3
                },
                {
                  "GDP": 251900000000,
                  "Exports": 130,
                  "Imports": 121100000000,
                  "Industrial production growth rate": 4.7,
                  "Investment": 20.4,
                  "Unemployment rate": 3.4,
                  "_deepnote_index_column": 4
                },
                {
                  "GDP": 183000000000,
                  "Exports": 76600,
                  "Imports": 45960000000,
                  "Industrial production growth rate": 5.2,
                  "Investment": 17.5,
                  "Unemployment rate": 4.3,
                  "_deepnote_index_column": 5
                },
                {
                  "GDP": 7262000000000,
                  "Exports": 583,
                  "Imports": 552400000000,
                  "Industrial production growth rate": 17.1,
                  "Investment": 46,
                  "Unemployment rate": 9.8,
                  "_deepnote_index_column": 6
                },
                {
                  "GDP": 1023000000000,
                  "Exports": 315,
                  "Imports": 256100000000,
                  "Industrial production growth rate": 2,
                  "Investment": 19.4,
                  "Unemployment rate": 7,
                  "_deepnote_index_column": 7
                },
                {
                  "GDP": 925100000000,
                  "Exports": 250,
                  "Imports": 214200000000,
                  "Industrial production growth rate": 10.1,
                  "Investment": 28.7,
                  "Unemployment rate": 3.6,
                  "_deepnote_index_column": 8
                },
                {
                  "GDP": 255400000000,
                  "Exports": 121,
                  "Imports": 97970000000,
                  "Industrial production growth rate": 5.5,
                  "Investment": 15.8,
                  "Unemployment rate": 5.6,
                  "_deepnote_index_column": 9
                }
              ]
            },
            "text/plain": "                GDP  Exports        Imports  \\\n0     3745000000000    538.0   401800000000   \n1     2362000000000    893.0   716700000000   \n2      310200000000    110.0    36210000000   \n3     1408000000000    162.0    92910000000   \n4      251900000000    130.0   121100000000   \n..              ...      ...            ...   \n144   1609000000000    336.0   329300000000   \n145    937600000000    172.0   222000000000   \n146   1782000000000    347.0   439400000000   \n147    611700000000  86800.0    98100000000   \n148  11750000000000    790.0  1476000000000   \n\n     Industrial production growth rate  Investment  Unemployment rate  \n0                                  6.6        24.0                4.7  \n1                                  2.2        17.6               10.6  \n2                                  2.8        17.2               25.0  \n3                                  6.4        19.1                8.3  \n4                                  4.7        20.4                3.4  \n..                                 ...         ...                ...  \n144                                0.7        19.3                8.6  \n145                                3.0        25.4               10.4  \n146                                0.9        16.2                4.8  \n147                                1.9        25.3                5.1  \n148                                4.4        15.7                5.5  \n\n[149 rows x 6 columns]",
            "text/html": "<div>\n<style scoped>\n    .dataframe tbody tr th:only-of-type {\n        vertical-align: middle;\n    }\n\n    .dataframe tbody tr th {\n        vertical-align: top;\n    }\n\n    .dataframe thead th {\n        text-align: right;\n    }\n</style>\n<table border=\"1\" class=\"dataframe\">\n  <thead>\n    <tr style=\"text-align: right;\">\n      <th></th>\n      <th>GDP</th>\n      <th>Exports</th>\n      <th>Imports</th>\n      <th>Industrial production growth rate</th>\n      <th>Investment</th>\n      <th>Unemployment rate</th>\n    </tr>\n  </thead>\n  <tbody>\n    <tr>\n      <th>0</th>\n      <td>3745000000000</td>\n      <td>538.0</td>\n      <td>401800000000</td>\n      <td>6.6</td>\n      <td>24.0</td>\n      <td>4.7</td>\n    </tr>\n    <tr>\n      <th>1</th>\n      <td>2362000000000</td>\n      <td>893.0</td>\n      <td>716700000000</td>\n      <td>2.2</td>\n      <td>17.6</td>\n      <td>10.6</td>\n    </tr>\n    <tr>\n      <th>2</th>\n      <td>310200000000</td>\n      <td>110.0</td>\n      <td>36210000000</td>\n      <td>2.8</td>\n      <td>17.2</td>\n      <td>25.0</td>\n    </tr>\n    <tr>\n      <th>3</th>\n      <td>1408000000000</td>\n      <td>162.0</td>\n      <td>92910000000</td>\n      <td>6.4</td>\n      <td>19.1</td>\n      <td>8.3</td>\n    </tr>\n    <tr>\n      <th>4</th>\n      <td>251900000000</td>\n      <td>130.0</td>\n      <td>121100000000</td>\n      <td>4.7</td>\n      <td>20.4</td>\n      <td>3.4</td>\n    </tr>\n    <tr>\n      <th>...</th>\n      <td>...</td>\n      <td>...</td>\n      <td>...</td>\n      <td>...</td>\n      <td>...</td>\n      <td>...</td>\n    </tr>\n    <tr>\n      <th>144</th>\n      <td>1609000000000</td>\n      <td>336.0</td>\n      <td>329300000000</td>\n      <td>0.7</td>\n      <td>19.3</td>\n      <td>8.6</td>\n    </tr>\n    <tr>\n      <th>145</th>\n      <td>937600000000</td>\n      <td>172.0</td>\n      <td>222000000000</td>\n      <td>3.0</td>\n      <td>25.4</td>\n      <td>10.4</td>\n    </tr>\n    <tr>\n      <th>146</th>\n      <td>1782000000000</td>\n      <td>347.0</td>\n      <td>439400000000</td>\n      <td>0.9</td>\n      <td>16.2</td>\n      <td>4.8</td>\n    </tr>\n    <tr>\n      <th>147</th>\n      <td>611700000000</td>\n      <td>86800.0</td>\n      <td>98100000000</td>\n      <td>1.9</td>\n      <td>25.3</td>\n      <td>5.1</td>\n    </tr>\n    <tr>\n      <th>148</th>\n      <td>11750000000000</td>\n      <td>790.0</td>\n      <td>1476000000000</td>\n      <td>4.4</td>\n      <td>15.7</td>\n      <td>5.5</td>\n    </tr>\n  </tbody>\n</table>\n<p>149 rows × 6 columns</p>\n</div>"
          },
          "metadata": {}
        }
      ]
    },
    {
      "cell_type": "markdown",
      "metadata": {
        "formattedRanges": [],
        "deepnote_app_coordinates": {
          "h": 2,
          "w": 8,
          "x": 0,
          "y": 103
        },
        "cell_id": "dab8d852828944b89d058569b877947c",
        "deepnote_cell_type": "text-cell-p",
        "id": "JhTn0607JrIZ"
      },
      "source": [
        "Mengganti Nama Kolom dengan variabel regresi"
      ]
    },
    {
      "cell_type": "code",
      "metadata": {
        "source_hash": "87d36604",
        "execution_start": 1687000942567,
        "execution_millis": 29,
        "deepnote_app_coordinates": {
          "h": 25,
          "w": 12,
          "x": 0,
          "y": 106
        },
        "deepnote_to_be_reexecuted": false,
        "cell_id": "0c26648caf644d96976d011d30eb2aa7",
        "deepnote_cell_type": "code",
        "id": "KitcJ2ggJrIa",
        "outputId": "34c654f5-3457-4835-f280-da7f3de72d01"
      },
      "source": [
        "df = df.rename(columns = {'GDP':'Y','Exports':'X1','Imports':'X2','Industrial production growth rate':'X3','Investment':'X4','Unemployment rate':'X5'})\n",
        "df"
      ],
      "execution_count": null,
      "outputs": [
        {
          "output_type": "execute_result",
          "execution_count": 4,
          "data": {
            "application/vnd.deepnote.dataframe.v3+json": {
              "column_count": 6,
              "row_count": 149,
              "columns": [
                {
                  "name": "Y",
                  "dtype": "int64",
                  "stats": {
                    "unique_count": 149,
                    "nan_count": 0,
                    "min": "214000000",
                    "max": "11750000000000",
                    "histogram": [
                      {
                        "bin_start": 214000000,
                        "bin_end": 1175192600000,
                        "count": 139
                      },
                      {
                        "bin_start": 1175192600000,
                        "bin_end": 2350171200000,
                        "count": 5
                      },
                      {
                        "bin_start": 2350171200000,
                        "bin_end": 3525149800000,
                        "count": 2
                      },
                      {
                        "bin_start": 3525149800000,
                        "bin_end": 4700128400000,
                        "count": 1
                      },
                      {
                        "bin_start": 4700128400000,
                        "bin_end": 5875107000000,
                        "count": 0
                      },
                      {
                        "bin_start": 5875107000000,
                        "bin_end": 7050085600000,
                        "count": 0
                      },
                      {
                        "bin_start": 7050085600000,
                        "bin_end": 8225064200000,
                        "count": 1
                      },
                      {
                        "bin_start": 8225064200000,
                        "bin_end": 9400042800000,
                        "count": 0
                      },
                      {
                        "bin_start": 9400042800000,
                        "bin_end": 10575021400000,
                        "count": 0
                      },
                      {
                        "bin_start": 10575021400000,
                        "bin_end": 11750000000000,
                        "count": 1
                      }
                    ]
                  }
                },
                {
                  "name": "X1",
                  "dtype": "float64",
                  "stats": {
                    "unique_count": 140,
                    "nan_count": 1,
                    "min": "0.0",
                    "max": "87900.0",
                    "histogram": [
                      {
                        "bin_start": 0,
                        "bin_end": 8790,
                        "count": 106
                      },
                      {
                        "bin_start": 8790,
                        "bin_end": 17580,
                        "count": 9
                      },
                      {
                        "bin_start": 17580,
                        "bin_end": 26370,
                        "count": 5
                      },
                      {
                        "bin_start": 26370,
                        "bin_end": 35160,
                        "count": 8
                      },
                      {
                        "bin_start": 35160,
                        "bin_end": 43950,
                        "count": 5
                      },
                      {
                        "bin_start": 43950,
                        "bin_end": 52740,
                        "count": 0
                      },
                      {
                        "bin_start": 52740,
                        "bin_end": 61530,
                        "count": 3
                      },
                      {
                        "bin_start": 61530,
                        "bin_end": 70320,
                        "count": 7
                      },
                      {
                        "bin_start": 70320,
                        "bin_end": 79110,
                        "count": 3
                      },
                      {
                        "bin_start": 79110,
                        "bin_end": 87900,
                        "count": 2
                      }
                    ]
                  }
                },
                {
                  "name": "X2",
                  "dtype": "int64",
                  "stats": {
                    "unique_count": 148,
                    "nan_count": 0,
                    "min": "41000000",
                    "max": "1476000000000",
                    "histogram": [
                      {
                        "bin_start": 41000000,
                        "bin_end": 147636900000,
                        "count": 133
                      },
                      {
                        "bin_start": 147636900000,
                        "bin_end": 295232800000,
                        "count": 9
                      },
                      {
                        "bin_start": 295232800000,
                        "bin_end": 442828700000,
                        "count": 4
                      },
                      {
                        "bin_start": 442828700000,
                        "bin_end": 590424600000,
                        "count": 1
                      },
                      {
                        "bin_start": 590424600000,
                        "bin_end": 738020500000,
                        "count": 1
                      },
                      {
                        "bin_start": 738020500000,
                        "bin_end": 885616400000,
                        "count": 0
                      },
                      {
                        "bin_start": 885616400000,
                        "bin_end": 1033212300000,
                        "count": 0
                      },
                      {
                        "bin_start": 1033212300000,
                        "bin_end": 1180808200000,
                        "count": 0
                      },
                      {
                        "bin_start": 1180808200000,
                        "bin_end": 1328404100000,
                        "count": 0
                      },
                      {
                        "bin_start": 1328404100000,
                        "bin_end": 1476000000000,
                        "count": 1
                      }
                    ]
                  }
                },
                {
                  "name": "X3",
                  "dtype": "float64",
                  "stats": {
                    "unique_count": 87,
                    "nan_count": 0,
                    "min": "-7.8",
                    "max": "30.0",
                    "histogram": [
                      {
                        "bin_start": -7.8,
                        "bin_end": -4.02,
                        "count": 2
                      },
                      {
                        "bin_start": -4.02,
                        "bin_end": -0.2400000000000002,
                        "count": 3
                      },
                      {
                        "bin_start": -0.2400000000000002,
                        "bin_end": 3.54,
                        "count": 53
                      },
                      {
                        "bin_start": 3.54,
                        "bin_end": 7.319999999999999,
                        "count": 51
                      },
                      {
                        "bin_start": 7.319999999999999,
                        "bin_end": 11.099999999999998,
                        "count": 20
                      },
                      {
                        "bin_start": 11.099999999999998,
                        "bin_end": 14.879999999999999,
                        "count": 7
                      },
                      {
                        "bin_start": 14.879999999999999,
                        "bin_end": 18.659999999999997,
                        "count": 9
                      },
                      {
                        "bin_start": 18.659999999999997,
                        "bin_end": 22.439999999999998,
                        "count": 3
                      },
                      {
                        "bin_start": 22.439999999999998,
                        "bin_end": 26.219999999999995,
                        "count": 0
                      },
                      {
                        "bin_start": 26.219999999999995,
                        "bin_end": 30,
                        "count": 1
                      }
                    ]
                  }
                },
                {
                  "name": "X4",
                  "dtype": "float64",
                  "stats": {
                    "unique_count": 109,
                    "nan_count": 0,
                    "min": "0.0",
                    "max": "65.1",
                    "histogram": [
                      {
                        "bin_start": 0,
                        "bin_end": 6.51,
                        "count": 5
                      },
                      {
                        "bin_start": 6.51,
                        "bin_end": 13.02,
                        "count": 13
                      },
                      {
                        "bin_start": 13.02,
                        "bin_end": 19.53,
                        "count": 54
                      },
                      {
                        "bin_start": 19.53,
                        "bin_end": 26.04,
                        "count": 50
                      },
                      {
                        "bin_start": 26.04,
                        "bin_end": 32.55,
                        "count": 16
                      },
                      {
                        "bin_start": 32.55,
                        "bin_end": 39.06,
                        "count": 4
                      },
                      {
                        "bin_start": 39.06,
                        "bin_end": 45.57,
                        "count": 3
                      },
                      {
                        "bin_start": 45.57,
                        "bin_end": 52.08,
                        "count": 3
                      },
                      {
                        "bin_start": 52.08,
                        "bin_end": 58.589999999999996,
                        "count": 0
                      },
                      {
                        "bin_start": 58.589999999999996,
                        "bin_end": 65.1,
                        "count": 1
                      }
                    ]
                  }
                },
                {
                  "name": "X5",
                  "dtype": "float64",
                  "stats": {
                    "unique_count": 94,
                    "nan_count": 0,
                    "min": "0.0",
                    "max": "70.0",
                    "histogram": [
                      {
                        "bin_start": 0,
                        "bin_end": 7,
                        "count": 61
                      },
                      {
                        "bin_start": 7,
                        "bin_end": 14,
                        "count": 45
                      },
                      {
                        "bin_start": 14,
                        "bin_end": 21,
                        "count": 16
                      },
                      {
                        "bin_start": 21,
                        "bin_end": 28,
                        "count": 8
                      },
                      {
                        "bin_start": 28,
                        "bin_end": 35,
                        "count": 7
                      },
                      {
                        "bin_start": 35,
                        "bin_end": 42,
                        "count": 6
                      },
                      {
                        "bin_start": 42,
                        "bin_end": 49,
                        "count": 3
                      },
                      {
                        "bin_start": 49,
                        "bin_end": 56,
                        "count": 1
                      },
                      {
                        "bin_start": 56,
                        "bin_end": 63,
                        "count": 1
                      },
                      {
                        "bin_start": 63,
                        "bin_end": 70,
                        "count": 1
                      }
                    ]
                  }
                },
                {
                  "name": "_deepnote_index_column",
                  "dtype": "int64"
                }
              ],
              "rows": [
                {
                  "Y": 3745000000000,
                  "X1": 538,
                  "X2": 401800000000,
                  "X3": 6.6,
                  "X4": 24,
                  "X5": 4.7,
                  "_deepnote_index_column": 0
                },
                {
                  "Y": 2362000000000,
                  "X1": 893,
                  "X2": 716700000000,
                  "X3": 2.2,
                  "X4": 17.6,
                  "X5": 10.6,
                  "_deepnote_index_column": 1
                },
                {
                  "Y": 310200000000,
                  "X1": 110,
                  "X2": 36210000000,
                  "X3": 2.8,
                  "X4": 17.2,
                  "X5": 25,
                  "_deepnote_index_column": 2
                },
                {
                  "Y": 1408000000000,
                  "X1": 162,
                  "X2": 92910000000,
                  "X3": 6.4,
                  "X4": 19.1,
                  "X5": 8.3,
                  "_deepnote_index_column": 3
                },
                {
                  "Y": 251900000000,
                  "X1": 130,
                  "X2": 121100000000,
                  "X3": 4.7,
                  "X4": 20.4,
                  "X5": 3.4,
                  "_deepnote_index_column": 4
                },
                {
                  "Y": 183000000000,
                  "X1": 76600,
                  "X2": 45960000000,
                  "X3": 5.2,
                  "X4": 17.5,
                  "X5": 4.3,
                  "_deepnote_index_column": 5
                },
                {
                  "Y": 7262000000000,
                  "X1": 583,
                  "X2": 552400000000,
                  "X3": 17.1,
                  "X4": 46,
                  "X5": 9.8,
                  "_deepnote_index_column": 6
                },
                {
                  "Y": 1023000000000,
                  "X1": 315,
                  "X2": 256100000000,
                  "X3": 2,
                  "X4": 19.4,
                  "X5": 7,
                  "_deepnote_index_column": 7
                },
                {
                  "Y": 925100000000,
                  "X1": 250,
                  "X2": 214200000000,
                  "X3": 10.1,
                  "X4": 28.7,
                  "X5": 3.6,
                  "_deepnote_index_column": 8
                },
                {
                  "Y": 255400000000,
                  "X1": 121,
                  "X2": 97970000000,
                  "X3": 5.5,
                  "X4": 15.8,
                  "X5": 5.6,
                  "_deepnote_index_column": 9
                }
              ]
            },
            "text/plain": "                  Y       X1             X2   X3    X4    X5\n0     3745000000000    538.0   401800000000  6.6  24.0   4.7\n1     2362000000000    893.0   716700000000  2.2  17.6  10.6\n2      310200000000    110.0    36210000000  2.8  17.2  25.0\n3     1408000000000    162.0    92910000000  6.4  19.1   8.3\n4      251900000000    130.0   121100000000  4.7  20.4   3.4\n..              ...      ...            ...  ...   ...   ...\n144   1609000000000    336.0   329300000000  0.7  19.3   8.6\n145    937600000000    172.0   222000000000  3.0  25.4  10.4\n146   1782000000000    347.0   439400000000  0.9  16.2   4.8\n147    611700000000  86800.0    98100000000  1.9  25.3   5.1\n148  11750000000000    790.0  1476000000000  4.4  15.7   5.5\n\n[149 rows x 6 columns]",
            "text/html": "<div>\n<style scoped>\n    .dataframe tbody tr th:only-of-type {\n        vertical-align: middle;\n    }\n\n    .dataframe tbody tr th {\n        vertical-align: top;\n    }\n\n    .dataframe thead th {\n        text-align: right;\n    }\n</style>\n<table border=\"1\" class=\"dataframe\">\n  <thead>\n    <tr style=\"text-align: right;\">\n      <th></th>\n      <th>Y</th>\n      <th>X1</th>\n      <th>X2</th>\n      <th>X3</th>\n      <th>X4</th>\n      <th>X5</th>\n    </tr>\n  </thead>\n  <tbody>\n    <tr>\n      <th>0</th>\n      <td>3745000000000</td>\n      <td>538.0</td>\n      <td>401800000000</td>\n      <td>6.6</td>\n      <td>24.0</td>\n      <td>4.7</td>\n    </tr>\n    <tr>\n      <th>1</th>\n      <td>2362000000000</td>\n      <td>893.0</td>\n      <td>716700000000</td>\n      <td>2.2</td>\n      <td>17.6</td>\n      <td>10.6</td>\n    </tr>\n    <tr>\n      <th>2</th>\n      <td>310200000000</td>\n      <td>110.0</td>\n      <td>36210000000</td>\n      <td>2.8</td>\n      <td>17.2</td>\n      <td>25.0</td>\n    </tr>\n    <tr>\n      <th>3</th>\n      <td>1408000000000</td>\n      <td>162.0</td>\n      <td>92910000000</td>\n      <td>6.4</td>\n      <td>19.1</td>\n      <td>8.3</td>\n    </tr>\n    <tr>\n      <th>4</th>\n      <td>251900000000</td>\n      <td>130.0</td>\n      <td>121100000000</td>\n      <td>4.7</td>\n      <td>20.4</td>\n      <td>3.4</td>\n    </tr>\n    <tr>\n      <th>...</th>\n      <td>...</td>\n      <td>...</td>\n      <td>...</td>\n      <td>...</td>\n      <td>...</td>\n      <td>...</td>\n    </tr>\n    <tr>\n      <th>144</th>\n      <td>1609000000000</td>\n      <td>336.0</td>\n      <td>329300000000</td>\n      <td>0.7</td>\n      <td>19.3</td>\n      <td>8.6</td>\n    </tr>\n    <tr>\n      <th>145</th>\n      <td>937600000000</td>\n      <td>172.0</td>\n      <td>222000000000</td>\n      <td>3.0</td>\n      <td>25.4</td>\n      <td>10.4</td>\n    </tr>\n    <tr>\n      <th>146</th>\n      <td>1782000000000</td>\n      <td>347.0</td>\n      <td>439400000000</td>\n      <td>0.9</td>\n      <td>16.2</td>\n      <td>4.8</td>\n    </tr>\n    <tr>\n      <th>147</th>\n      <td>611700000000</td>\n      <td>86800.0</td>\n      <td>98100000000</td>\n      <td>1.9</td>\n      <td>25.3</td>\n      <td>5.1</td>\n    </tr>\n    <tr>\n      <th>148</th>\n      <td>11750000000000</td>\n      <td>790.0</td>\n      <td>1476000000000</td>\n      <td>4.4</td>\n      <td>15.7</td>\n      <td>5.5</td>\n    </tr>\n  </tbody>\n</table>\n<p>149 rows × 6 columns</p>\n</div>"
          },
          "metadata": {}
        }
      ]
    },
    {
      "cell_type": "markdown",
      "metadata": {
        "formattedRanges": [],
        "deepnote_app_coordinates": {
          "h": 2,
          "w": 8,
          "x": 0,
          "y": 132
        },
        "cell_id": "29a8defef6424174b7cf23eae37bf006",
        "deepnote_cell_type": "text-cell-p",
        "id": "rIlVzVphJrIb"
      },
      "source": [
        "\n",
        "Konversi Kolom menjadi numerik"
      ]
    },
    {
      "cell_type": "code",
      "metadata": {
        "source_hash": "48e197ca",
        "execution_start": 1687000942626,
        "execution_millis": 40,
        "deepnote_app_coordinates": {
          "h": 27,
          "w": 12,
          "x": 0,
          "y": 135
        },
        "deepnote_to_be_reexecuted": false,
        "cell_id": "c19bd7cf7687498196adf29858c27893",
        "deepnote_cell_type": "code",
        "id": "ZEwlwJwRJrIb",
        "outputId": "79327ca2-9522-4501-c15d-d8f4d1e37937"
      },
      "source": [
        "for col in df.columns:\n",
        "    if df[col].dtype == \"object\":\n",
        "        df[col] = df[col].str.replace(\",\", \"\").astype(float)\n",
        "\n",
        "df"
      ],
      "execution_count": null,
      "outputs": [
        {
          "output_type": "execute_result",
          "execution_count": 5,
          "data": {
            "application/vnd.deepnote.dataframe.v3+json": {
              "column_count": 6,
              "row_count": 149,
              "columns": [
                {
                  "name": "Y",
                  "dtype": "int64",
                  "stats": {
                    "unique_count": 149,
                    "nan_count": 0,
                    "min": "214000000",
                    "max": "11750000000000",
                    "histogram": [
                      {
                        "bin_start": 214000000,
                        "bin_end": 1175192600000,
                        "count": 139
                      },
                      {
                        "bin_start": 1175192600000,
                        "bin_end": 2350171200000,
                        "count": 5
                      },
                      {
                        "bin_start": 2350171200000,
                        "bin_end": 3525149800000,
                        "count": 2
                      },
                      {
                        "bin_start": 3525149800000,
                        "bin_end": 4700128400000,
                        "count": 1
                      },
                      {
                        "bin_start": 4700128400000,
                        "bin_end": 5875107000000,
                        "count": 0
                      },
                      {
                        "bin_start": 5875107000000,
                        "bin_end": 7050085600000,
                        "count": 0
                      },
                      {
                        "bin_start": 7050085600000,
                        "bin_end": 8225064200000,
                        "count": 1
                      },
                      {
                        "bin_start": 8225064200000,
                        "bin_end": 9400042800000,
                        "count": 0
                      },
                      {
                        "bin_start": 9400042800000,
                        "bin_end": 10575021400000,
                        "count": 0
                      },
                      {
                        "bin_start": 10575021400000,
                        "bin_end": 11750000000000,
                        "count": 1
                      }
                    ]
                  }
                },
                {
                  "name": "X1",
                  "dtype": "float64",
                  "stats": {
                    "unique_count": 140,
                    "nan_count": 1,
                    "min": "0.0",
                    "max": "87900.0",
                    "histogram": [
                      {
                        "bin_start": 0,
                        "bin_end": 8790,
                        "count": 106
                      },
                      {
                        "bin_start": 8790,
                        "bin_end": 17580,
                        "count": 9
                      },
                      {
                        "bin_start": 17580,
                        "bin_end": 26370,
                        "count": 5
                      },
                      {
                        "bin_start": 26370,
                        "bin_end": 35160,
                        "count": 8
                      },
                      {
                        "bin_start": 35160,
                        "bin_end": 43950,
                        "count": 5
                      },
                      {
                        "bin_start": 43950,
                        "bin_end": 52740,
                        "count": 0
                      },
                      {
                        "bin_start": 52740,
                        "bin_end": 61530,
                        "count": 3
                      },
                      {
                        "bin_start": 61530,
                        "bin_end": 70320,
                        "count": 7
                      },
                      {
                        "bin_start": 70320,
                        "bin_end": 79110,
                        "count": 3
                      },
                      {
                        "bin_start": 79110,
                        "bin_end": 87900,
                        "count": 2
                      }
                    ]
                  }
                },
                {
                  "name": "X2",
                  "dtype": "int64",
                  "stats": {
                    "unique_count": 148,
                    "nan_count": 0,
                    "min": "41000000",
                    "max": "1476000000000",
                    "histogram": [
                      {
                        "bin_start": 41000000,
                        "bin_end": 147636900000,
                        "count": 133
                      },
                      {
                        "bin_start": 147636900000,
                        "bin_end": 295232800000,
                        "count": 9
                      },
                      {
                        "bin_start": 295232800000,
                        "bin_end": 442828700000,
                        "count": 4
                      },
                      {
                        "bin_start": 442828700000,
                        "bin_end": 590424600000,
                        "count": 1
                      },
                      {
                        "bin_start": 590424600000,
                        "bin_end": 738020500000,
                        "count": 1
                      },
                      {
                        "bin_start": 738020500000,
                        "bin_end": 885616400000,
                        "count": 0
                      },
                      {
                        "bin_start": 885616400000,
                        "bin_end": 1033212300000,
                        "count": 0
                      },
                      {
                        "bin_start": 1033212300000,
                        "bin_end": 1180808200000,
                        "count": 0
                      },
                      {
                        "bin_start": 1180808200000,
                        "bin_end": 1328404100000,
                        "count": 0
                      },
                      {
                        "bin_start": 1328404100000,
                        "bin_end": 1476000000000,
                        "count": 1
                      }
                    ]
                  }
                },
                {
                  "name": "X3",
                  "dtype": "float64",
                  "stats": {
                    "unique_count": 87,
                    "nan_count": 0,
                    "min": "-7.8",
                    "max": "30.0",
                    "histogram": [
                      {
                        "bin_start": -7.8,
                        "bin_end": -4.02,
                        "count": 2
                      },
                      {
                        "bin_start": -4.02,
                        "bin_end": -0.2400000000000002,
                        "count": 3
                      },
                      {
                        "bin_start": -0.2400000000000002,
                        "bin_end": 3.54,
                        "count": 53
                      },
                      {
                        "bin_start": 3.54,
                        "bin_end": 7.319999999999999,
                        "count": 51
                      },
                      {
                        "bin_start": 7.319999999999999,
                        "bin_end": 11.099999999999998,
                        "count": 20
                      },
                      {
                        "bin_start": 11.099999999999998,
                        "bin_end": 14.879999999999999,
                        "count": 7
                      },
                      {
                        "bin_start": 14.879999999999999,
                        "bin_end": 18.659999999999997,
                        "count": 9
                      },
                      {
                        "bin_start": 18.659999999999997,
                        "bin_end": 22.439999999999998,
                        "count": 3
                      },
                      {
                        "bin_start": 22.439999999999998,
                        "bin_end": 26.219999999999995,
                        "count": 0
                      },
                      {
                        "bin_start": 26.219999999999995,
                        "bin_end": 30,
                        "count": 1
                      }
                    ]
                  }
                },
                {
                  "name": "X4",
                  "dtype": "float64",
                  "stats": {
                    "unique_count": 109,
                    "nan_count": 0,
                    "min": "0.0",
                    "max": "65.1",
                    "histogram": [
                      {
                        "bin_start": 0,
                        "bin_end": 6.51,
                        "count": 5
                      },
                      {
                        "bin_start": 6.51,
                        "bin_end": 13.02,
                        "count": 13
                      },
                      {
                        "bin_start": 13.02,
                        "bin_end": 19.53,
                        "count": 54
                      },
                      {
                        "bin_start": 19.53,
                        "bin_end": 26.04,
                        "count": 50
                      },
                      {
                        "bin_start": 26.04,
                        "bin_end": 32.55,
                        "count": 16
                      },
                      {
                        "bin_start": 32.55,
                        "bin_end": 39.06,
                        "count": 4
                      },
                      {
                        "bin_start": 39.06,
                        "bin_end": 45.57,
                        "count": 3
                      },
                      {
                        "bin_start": 45.57,
                        "bin_end": 52.08,
                        "count": 3
                      },
                      {
                        "bin_start": 52.08,
                        "bin_end": 58.589999999999996,
                        "count": 0
                      },
                      {
                        "bin_start": 58.589999999999996,
                        "bin_end": 65.1,
                        "count": 1
                      }
                    ]
                  }
                },
                {
                  "name": "X5",
                  "dtype": "float64",
                  "stats": {
                    "unique_count": 94,
                    "nan_count": 0,
                    "min": "0.0",
                    "max": "70.0",
                    "histogram": [
                      {
                        "bin_start": 0,
                        "bin_end": 7,
                        "count": 61
                      },
                      {
                        "bin_start": 7,
                        "bin_end": 14,
                        "count": 45
                      },
                      {
                        "bin_start": 14,
                        "bin_end": 21,
                        "count": 16
                      },
                      {
                        "bin_start": 21,
                        "bin_end": 28,
                        "count": 8
                      },
                      {
                        "bin_start": 28,
                        "bin_end": 35,
                        "count": 7
                      },
                      {
                        "bin_start": 35,
                        "bin_end": 42,
                        "count": 6
                      },
                      {
                        "bin_start": 42,
                        "bin_end": 49,
                        "count": 3
                      },
                      {
                        "bin_start": 49,
                        "bin_end": 56,
                        "count": 1
                      },
                      {
                        "bin_start": 56,
                        "bin_end": 63,
                        "count": 1
                      },
                      {
                        "bin_start": 63,
                        "bin_end": 70,
                        "count": 1
                      }
                    ]
                  }
                },
                {
                  "name": "_deepnote_index_column",
                  "dtype": "int64"
                }
              ],
              "rows": [
                {
                  "Y": 3745000000000,
                  "X1": 538,
                  "X2": 401800000000,
                  "X3": 6.6,
                  "X4": 24,
                  "X5": 4.7,
                  "_deepnote_index_column": 0
                },
                {
                  "Y": 2362000000000,
                  "X1": 893,
                  "X2": 716700000000,
                  "X3": 2.2,
                  "X4": 17.6,
                  "X5": 10.6,
                  "_deepnote_index_column": 1
                },
                {
                  "Y": 310200000000,
                  "X1": 110,
                  "X2": 36210000000,
                  "X3": 2.8,
                  "X4": 17.2,
                  "X5": 25,
                  "_deepnote_index_column": 2
                },
                {
                  "Y": 1408000000000,
                  "X1": 162,
                  "X2": 92910000000,
                  "X3": 6.4,
                  "X4": 19.1,
                  "X5": 8.3,
                  "_deepnote_index_column": 3
                },
                {
                  "Y": 251900000000,
                  "X1": 130,
                  "X2": 121100000000,
                  "X3": 4.7,
                  "X4": 20.4,
                  "X5": 3.4,
                  "_deepnote_index_column": 4
                },
                {
                  "Y": 183000000000,
                  "X1": 76600,
                  "X2": 45960000000,
                  "X3": 5.2,
                  "X4": 17.5,
                  "X5": 4.3,
                  "_deepnote_index_column": 5
                },
                {
                  "Y": 7262000000000,
                  "X1": 583,
                  "X2": 552400000000,
                  "X3": 17.1,
                  "X4": 46,
                  "X5": 9.8,
                  "_deepnote_index_column": 6
                },
                {
                  "Y": 1023000000000,
                  "X1": 315,
                  "X2": 256100000000,
                  "X3": 2,
                  "X4": 19.4,
                  "X5": 7,
                  "_deepnote_index_column": 7
                },
                {
                  "Y": 925100000000,
                  "X1": 250,
                  "X2": 214200000000,
                  "X3": 10.1,
                  "X4": 28.7,
                  "X5": 3.6,
                  "_deepnote_index_column": 8
                },
                {
                  "Y": 255400000000,
                  "X1": 121,
                  "X2": 97970000000,
                  "X3": 5.5,
                  "X4": 15.8,
                  "X5": 5.6,
                  "_deepnote_index_column": 9
                }
              ]
            },
            "text/plain": "                  Y       X1             X2   X3    X4    X5\n0     3745000000000    538.0   401800000000  6.6  24.0   4.7\n1     2362000000000    893.0   716700000000  2.2  17.6  10.6\n2      310200000000    110.0    36210000000  2.8  17.2  25.0\n3     1408000000000    162.0    92910000000  6.4  19.1   8.3\n4      251900000000    130.0   121100000000  4.7  20.4   3.4\n..              ...      ...            ...  ...   ...   ...\n144   1609000000000    336.0   329300000000  0.7  19.3   8.6\n145    937600000000    172.0   222000000000  3.0  25.4  10.4\n146   1782000000000    347.0   439400000000  0.9  16.2   4.8\n147    611700000000  86800.0    98100000000  1.9  25.3   5.1\n148  11750000000000    790.0  1476000000000  4.4  15.7   5.5\n\n[149 rows x 6 columns]",
            "text/html": "<div>\n<style scoped>\n    .dataframe tbody tr th:only-of-type {\n        vertical-align: middle;\n    }\n\n    .dataframe tbody tr th {\n        vertical-align: top;\n    }\n\n    .dataframe thead th {\n        text-align: right;\n    }\n</style>\n<table border=\"1\" class=\"dataframe\">\n  <thead>\n    <tr style=\"text-align: right;\">\n      <th></th>\n      <th>Y</th>\n      <th>X1</th>\n      <th>X2</th>\n      <th>X3</th>\n      <th>X4</th>\n      <th>X5</th>\n    </tr>\n  </thead>\n  <tbody>\n    <tr>\n      <th>0</th>\n      <td>3745000000000</td>\n      <td>538.0</td>\n      <td>401800000000</td>\n      <td>6.6</td>\n      <td>24.0</td>\n      <td>4.7</td>\n    </tr>\n    <tr>\n      <th>1</th>\n      <td>2362000000000</td>\n      <td>893.0</td>\n      <td>716700000000</td>\n      <td>2.2</td>\n      <td>17.6</td>\n      <td>10.6</td>\n    </tr>\n    <tr>\n      <th>2</th>\n      <td>310200000000</td>\n      <td>110.0</td>\n      <td>36210000000</td>\n      <td>2.8</td>\n      <td>17.2</td>\n      <td>25.0</td>\n    </tr>\n    <tr>\n      <th>3</th>\n      <td>1408000000000</td>\n      <td>162.0</td>\n      <td>92910000000</td>\n      <td>6.4</td>\n      <td>19.1</td>\n      <td>8.3</td>\n    </tr>\n    <tr>\n      <th>4</th>\n      <td>251900000000</td>\n      <td>130.0</td>\n      <td>121100000000</td>\n      <td>4.7</td>\n      <td>20.4</td>\n      <td>3.4</td>\n    </tr>\n    <tr>\n      <th>...</th>\n      <td>...</td>\n      <td>...</td>\n      <td>...</td>\n      <td>...</td>\n      <td>...</td>\n      <td>...</td>\n    </tr>\n    <tr>\n      <th>144</th>\n      <td>1609000000000</td>\n      <td>336.0</td>\n      <td>329300000000</td>\n      <td>0.7</td>\n      <td>19.3</td>\n      <td>8.6</td>\n    </tr>\n    <tr>\n      <th>145</th>\n      <td>937600000000</td>\n      <td>172.0</td>\n      <td>222000000000</td>\n      <td>3.0</td>\n      <td>25.4</td>\n      <td>10.4</td>\n    </tr>\n    <tr>\n      <th>146</th>\n      <td>1782000000000</td>\n      <td>347.0</td>\n      <td>439400000000</td>\n      <td>0.9</td>\n      <td>16.2</td>\n      <td>4.8</td>\n    </tr>\n    <tr>\n      <th>147</th>\n      <td>611700000000</td>\n      <td>86800.0</td>\n      <td>98100000000</td>\n      <td>1.9</td>\n      <td>25.3</td>\n      <td>5.1</td>\n    </tr>\n    <tr>\n      <th>148</th>\n      <td>11750000000000</td>\n      <td>790.0</td>\n      <td>1476000000000</td>\n      <td>4.4</td>\n      <td>15.7</td>\n      <td>5.5</td>\n    </tr>\n  </tbody>\n</table>\n<p>149 rows × 6 columns</p>\n</div>"
          },
          "metadata": {}
        }
      ]
    },
    {
      "cell_type": "markdown",
      "metadata": {
        "formattedRanges": [],
        "deepnote_app_coordinates": {
          "h": 2,
          "w": 8,
          "x": 0,
          "y": 163
        },
        "cell_id": "f8e45490ba2542ebadf9508cd2b12aac",
        "deepnote_cell_type": "text-cell-p",
        "id": "FpRDjMlDJrIc"
      },
      "source": [
        "Menghapus missing Value dalam dataframe"
      ]
    },
    {
      "cell_type": "code",
      "metadata": {
        "source_hash": "caf19ea3",
        "execution_start": 1687000942708,
        "execution_millis": 4,
        "deepnote_app_coordinates": {
          "h": 26,
          "w": 12,
          "x": 0,
          "y": 166
        },
        "deepnote_to_be_reexecuted": false,
        "cell_id": "87da723bcc8a455eaec6de449a80cb6b",
        "deepnote_cell_type": "code",
        "id": "efwFamH6JrId",
        "outputId": "71e969f8-b4c1-4514-d9e9-19cd4a3fdb30"
      },
      "source": [
        "df = df.dropna()\n",
        "df.reset_index(drop=True, inplace=True)\n",
        "df"
      ],
      "execution_count": null,
      "outputs": [
        {
          "output_type": "execute_result",
          "execution_count": 6,
          "data": {
            "application/vnd.deepnote.dataframe.v3+json": {
              "column_count": 6,
              "row_count": 148,
              "columns": [
                {
                  "name": "Y",
                  "dtype": "int64",
                  "stats": {
                    "unique_count": 148,
                    "nan_count": 0,
                    "min": "214000000",
                    "max": "11750000000000",
                    "histogram": [
                      {
                        "bin_start": 214000000,
                        "bin_end": 1175192600000,
                        "count": 138
                      },
                      {
                        "bin_start": 1175192600000,
                        "bin_end": 2350171200000,
                        "count": 5
                      },
                      {
                        "bin_start": 2350171200000,
                        "bin_end": 3525149800000,
                        "count": 2
                      },
                      {
                        "bin_start": 3525149800000,
                        "bin_end": 4700128400000,
                        "count": 1
                      },
                      {
                        "bin_start": 4700128400000,
                        "bin_end": 5875107000000,
                        "count": 0
                      },
                      {
                        "bin_start": 5875107000000,
                        "bin_end": 7050085600000,
                        "count": 0
                      },
                      {
                        "bin_start": 7050085600000,
                        "bin_end": 8225064200000,
                        "count": 1
                      },
                      {
                        "bin_start": 8225064200000,
                        "bin_end": 9400042800000,
                        "count": 0
                      },
                      {
                        "bin_start": 9400042800000,
                        "bin_end": 10575021400000,
                        "count": 0
                      },
                      {
                        "bin_start": 10575021400000,
                        "bin_end": 11750000000000,
                        "count": 1
                      }
                    ]
                  }
                },
                {
                  "name": "X1",
                  "dtype": "float64",
                  "stats": {
                    "unique_count": 140,
                    "nan_count": 0,
                    "min": "0.0",
                    "max": "87900.0",
                    "histogram": [
                      {
                        "bin_start": 0,
                        "bin_end": 8790,
                        "count": 106
                      },
                      {
                        "bin_start": 8790,
                        "bin_end": 17580,
                        "count": 9
                      },
                      {
                        "bin_start": 17580,
                        "bin_end": 26370,
                        "count": 5
                      },
                      {
                        "bin_start": 26370,
                        "bin_end": 35160,
                        "count": 8
                      },
                      {
                        "bin_start": 35160,
                        "bin_end": 43950,
                        "count": 5
                      },
                      {
                        "bin_start": 43950,
                        "bin_end": 52740,
                        "count": 0
                      },
                      {
                        "bin_start": 52740,
                        "bin_end": 61530,
                        "count": 3
                      },
                      {
                        "bin_start": 61530,
                        "bin_end": 70320,
                        "count": 7
                      },
                      {
                        "bin_start": 70320,
                        "bin_end": 79110,
                        "count": 3
                      },
                      {
                        "bin_start": 79110,
                        "bin_end": 87900,
                        "count": 2
                      }
                    ]
                  }
                },
                {
                  "name": "X2",
                  "dtype": "int64",
                  "stats": {
                    "unique_count": 147,
                    "nan_count": 0,
                    "min": "41000000",
                    "max": "1476000000000",
                    "histogram": [
                      {
                        "bin_start": 41000000,
                        "bin_end": 147636900000,
                        "count": 132
                      },
                      {
                        "bin_start": 147636900000,
                        "bin_end": 295232800000,
                        "count": 9
                      },
                      {
                        "bin_start": 295232800000,
                        "bin_end": 442828700000,
                        "count": 4
                      },
                      {
                        "bin_start": 442828700000,
                        "bin_end": 590424600000,
                        "count": 1
                      },
                      {
                        "bin_start": 590424600000,
                        "bin_end": 738020500000,
                        "count": 1
                      },
                      {
                        "bin_start": 738020500000,
                        "bin_end": 885616400000,
                        "count": 0
                      },
                      {
                        "bin_start": 885616400000,
                        "bin_end": 1033212300000,
                        "count": 0
                      },
                      {
                        "bin_start": 1033212300000,
                        "bin_end": 1180808200000,
                        "count": 0
                      },
                      {
                        "bin_start": 1180808200000,
                        "bin_end": 1328404100000,
                        "count": 0
                      },
                      {
                        "bin_start": 1328404100000,
                        "bin_end": 1476000000000,
                        "count": 1
                      }
                    ]
                  }
                },
                {
                  "name": "X3",
                  "dtype": "float64",
                  "stats": {
                    "unique_count": 86,
                    "nan_count": 0,
                    "min": "-7.8",
                    "max": "30.0",
                    "histogram": [
                      {
                        "bin_start": -7.8,
                        "bin_end": -4.02,
                        "count": 2
                      },
                      {
                        "bin_start": -4.02,
                        "bin_end": -0.2400000000000002,
                        "count": 3
                      },
                      {
                        "bin_start": -0.2400000000000002,
                        "bin_end": 3.54,
                        "count": 53
                      },
                      {
                        "bin_start": 3.54,
                        "bin_end": 7.319999999999999,
                        "count": 50
                      },
                      {
                        "bin_start": 7.319999999999999,
                        "bin_end": 11.099999999999998,
                        "count": 20
                      },
                      {
                        "bin_start": 11.099999999999998,
                        "bin_end": 14.879999999999999,
                        "count": 7
                      },
                      {
                        "bin_start": 14.879999999999999,
                        "bin_end": 18.659999999999997,
                        "count": 9
                      },
                      {
                        "bin_start": 18.659999999999997,
                        "bin_end": 22.439999999999998,
                        "count": 3
                      },
                      {
                        "bin_start": 22.439999999999998,
                        "bin_end": 26.219999999999995,
                        "count": 0
                      },
                      {
                        "bin_start": 26.219999999999995,
                        "bin_end": 30,
                        "count": 1
                      }
                    ]
                  }
                },
                {
                  "name": "X4",
                  "dtype": "float64",
                  "stats": {
                    "unique_count": 108,
                    "nan_count": 0,
                    "min": "0.0",
                    "max": "65.1",
                    "histogram": [
                      {
                        "bin_start": 0,
                        "bin_end": 6.51,
                        "count": 5
                      },
                      {
                        "bin_start": 6.51,
                        "bin_end": 13.02,
                        "count": 13
                      },
                      {
                        "bin_start": 13.02,
                        "bin_end": 19.53,
                        "count": 54
                      },
                      {
                        "bin_start": 19.53,
                        "bin_end": 26.04,
                        "count": 49
                      },
                      {
                        "bin_start": 26.04,
                        "bin_end": 32.55,
                        "count": 16
                      },
                      {
                        "bin_start": 32.55,
                        "bin_end": 39.06,
                        "count": 4
                      },
                      {
                        "bin_start": 39.06,
                        "bin_end": 45.57,
                        "count": 3
                      },
                      {
                        "bin_start": 45.57,
                        "bin_end": 52.08,
                        "count": 3
                      },
                      {
                        "bin_start": 52.08,
                        "bin_end": 58.589999999999996,
                        "count": 0
                      },
                      {
                        "bin_start": 58.589999999999996,
                        "bin_end": 65.1,
                        "count": 1
                      }
                    ]
                  }
                },
                {
                  "name": "X5",
                  "dtype": "float64",
                  "stats": {
                    "unique_count": 93,
                    "nan_count": 0,
                    "min": "0.0",
                    "max": "70.0",
                    "histogram": [
                      {
                        "bin_start": 0,
                        "bin_end": 7,
                        "count": 61
                      },
                      {
                        "bin_start": 7,
                        "bin_end": 14,
                        "count": 45
                      },
                      {
                        "bin_start": 14,
                        "bin_end": 21,
                        "count": 16
                      },
                      {
                        "bin_start": 21,
                        "bin_end": 28,
                        "count": 8
                      },
                      {
                        "bin_start": 28,
                        "bin_end": 35,
                        "count": 6
                      },
                      {
                        "bin_start": 35,
                        "bin_end": 42,
                        "count": 6
                      },
                      {
                        "bin_start": 42,
                        "bin_end": 49,
                        "count": 3
                      },
                      {
                        "bin_start": 49,
                        "bin_end": 56,
                        "count": 1
                      },
                      {
                        "bin_start": 56,
                        "bin_end": 63,
                        "count": 1
                      },
                      {
                        "bin_start": 63,
                        "bin_end": 70,
                        "count": 1
                      }
                    ]
                  }
                },
                {
                  "name": "_deepnote_index_column",
                  "dtype": "int64"
                }
              ],
              "rows": [
                {
                  "Y": 3745000000000,
                  "X1": 538,
                  "X2": 401800000000,
                  "X3": 6.6,
                  "X4": 24,
                  "X5": 4.7,
                  "_deepnote_index_column": 0
                },
                {
                  "Y": 2362000000000,
                  "X1": 893,
                  "X2": 716700000000,
                  "X3": 2.2,
                  "X4": 17.6,
                  "X5": 10.6,
                  "_deepnote_index_column": 1
                },
                {
                  "Y": 310200000000,
                  "X1": 110,
                  "X2": 36210000000,
                  "X3": 2.8,
                  "X4": 17.2,
                  "X5": 25,
                  "_deepnote_index_column": 2
                },
                {
                  "Y": 1408000000000,
                  "X1": 162,
                  "X2": 92910000000,
                  "X3": 6.4,
                  "X4": 19.1,
                  "X5": 8.3,
                  "_deepnote_index_column": 3
                },
                {
                  "Y": 251900000000,
                  "X1": 130,
                  "X2": 121100000000,
                  "X3": 4.7,
                  "X4": 20.4,
                  "X5": 3.4,
                  "_deepnote_index_column": 4
                },
                {
                  "Y": 183000000000,
                  "X1": 76600,
                  "X2": 45960000000,
                  "X3": 5.2,
                  "X4": 17.5,
                  "X5": 4.3,
                  "_deepnote_index_column": 5
                },
                {
                  "Y": 7262000000000,
                  "X1": 583,
                  "X2": 552400000000,
                  "X3": 17.1,
                  "X4": 46,
                  "X5": 9.8,
                  "_deepnote_index_column": 6
                },
                {
                  "Y": 1023000000000,
                  "X1": 315,
                  "X2": 256100000000,
                  "X3": 2,
                  "X4": 19.4,
                  "X5": 7,
                  "_deepnote_index_column": 7
                },
                {
                  "Y": 925100000000,
                  "X1": 250,
                  "X2": 214200000000,
                  "X3": 10.1,
                  "X4": 28.7,
                  "X5": 3.6,
                  "_deepnote_index_column": 8
                },
                {
                  "Y": 255400000000,
                  "X1": 121,
                  "X2": 97970000000,
                  "X3": 5.5,
                  "X4": 15.8,
                  "X5": 5.6,
                  "_deepnote_index_column": 9
                }
              ]
            },
            "text/plain": "                  Y       X1             X2   X3    X4    X5\n0     3745000000000    538.0   401800000000  6.6  24.0   4.7\n1     2362000000000    893.0   716700000000  2.2  17.6  10.6\n2      310200000000    110.0    36210000000  2.8  17.2  25.0\n3     1408000000000    162.0    92910000000  6.4  19.1   8.3\n4      251900000000    130.0   121100000000  4.7  20.4   3.4\n..              ...      ...            ...  ...   ...   ...\n143   1609000000000    336.0   329300000000  0.7  19.3   8.6\n144    937600000000    172.0   222000000000  3.0  25.4  10.4\n145   1782000000000    347.0   439400000000  0.9  16.2   4.8\n146    611700000000  86800.0    98100000000  1.9  25.3   5.1\n147  11750000000000    790.0  1476000000000  4.4  15.7   5.5\n\n[148 rows x 6 columns]",
            "text/html": "<div>\n<style scoped>\n    .dataframe tbody tr th:only-of-type {\n        vertical-align: middle;\n    }\n\n    .dataframe tbody tr th {\n        vertical-align: top;\n    }\n\n    .dataframe thead th {\n        text-align: right;\n    }\n</style>\n<table border=\"1\" class=\"dataframe\">\n  <thead>\n    <tr style=\"text-align: right;\">\n      <th></th>\n      <th>Y</th>\n      <th>X1</th>\n      <th>X2</th>\n      <th>X3</th>\n      <th>X4</th>\n      <th>X5</th>\n    </tr>\n  </thead>\n  <tbody>\n    <tr>\n      <th>0</th>\n      <td>3745000000000</td>\n      <td>538.0</td>\n      <td>401800000000</td>\n      <td>6.6</td>\n      <td>24.0</td>\n      <td>4.7</td>\n    </tr>\n    <tr>\n      <th>1</th>\n      <td>2362000000000</td>\n      <td>893.0</td>\n      <td>716700000000</td>\n      <td>2.2</td>\n      <td>17.6</td>\n      <td>10.6</td>\n    </tr>\n    <tr>\n      <th>2</th>\n      <td>310200000000</td>\n      <td>110.0</td>\n      <td>36210000000</td>\n      <td>2.8</td>\n      <td>17.2</td>\n      <td>25.0</td>\n    </tr>\n    <tr>\n      <th>3</th>\n      <td>1408000000000</td>\n      <td>162.0</td>\n      <td>92910000000</td>\n      <td>6.4</td>\n      <td>19.1</td>\n      <td>8.3</td>\n    </tr>\n    <tr>\n      <th>4</th>\n      <td>251900000000</td>\n      <td>130.0</td>\n      <td>121100000000</td>\n      <td>4.7</td>\n      <td>20.4</td>\n      <td>3.4</td>\n    </tr>\n    <tr>\n      <th>...</th>\n      <td>...</td>\n      <td>...</td>\n      <td>...</td>\n      <td>...</td>\n      <td>...</td>\n      <td>...</td>\n    </tr>\n    <tr>\n      <th>143</th>\n      <td>1609000000000</td>\n      <td>336.0</td>\n      <td>329300000000</td>\n      <td>0.7</td>\n      <td>19.3</td>\n      <td>8.6</td>\n    </tr>\n    <tr>\n      <th>144</th>\n      <td>937600000000</td>\n      <td>172.0</td>\n      <td>222000000000</td>\n      <td>3.0</td>\n      <td>25.4</td>\n      <td>10.4</td>\n    </tr>\n    <tr>\n      <th>145</th>\n      <td>1782000000000</td>\n      <td>347.0</td>\n      <td>439400000000</td>\n      <td>0.9</td>\n      <td>16.2</td>\n      <td>4.8</td>\n    </tr>\n    <tr>\n      <th>146</th>\n      <td>611700000000</td>\n      <td>86800.0</td>\n      <td>98100000000</td>\n      <td>1.9</td>\n      <td>25.3</td>\n      <td>5.1</td>\n    </tr>\n    <tr>\n      <th>147</th>\n      <td>11750000000000</td>\n      <td>790.0</td>\n      <td>1476000000000</td>\n      <td>4.4</td>\n      <td>15.7</td>\n      <td>5.5</td>\n    </tr>\n  </tbody>\n</table>\n<p>148 rows × 6 columns</p>\n</div>"
          },
          "metadata": {}
        }
      ]
    },
    {
      "cell_type": "markdown",
      "metadata": {
        "formattedRanges": [],
        "deepnote_app_coordinates": {
          "h": 2,
          "w": 8,
          "x": 0,
          "y": 193
        },
        "cell_id": "dc18147160e84a629b4724940ae353ff",
        "deepnote_cell_type": "text-cell-p",
        "id": "MNRLKRjMJrId"
      },
      "source": [
        "check missing value dari setiap kolom"
      ]
    },
    {
      "cell_type": "code",
      "metadata": {
        "source_hash": "be3b9ac4",
        "execution_start": 1687000942737,
        "execution_millis": 23,
        "deepnote_app_coordinates": {
          "h": 10,
          "w": 12,
          "x": 0,
          "y": 196
        },
        "deepnote_to_be_reexecuted": false,
        "cell_id": "652ab4f99bac40c2853efa5236709dde",
        "deepnote_cell_type": "code",
        "id": "y5ugC2WZJrIe",
        "outputId": "26388172-86f8-4dd4-9dd8-30b97a9226ee"
      },
      "source": [
        "print(df.isnull().sum())"
      ],
      "execution_count": null,
      "outputs": [
        {
          "name": "stdout",
          "text": "Y     0\nX1    0\nX2    0\nX3    0\nX4    0\nX5    0\ndtype: int64\n",
          "output_type": "stream"
        }
      ]
    },
    {
      "cell_type": "markdown",
      "metadata": {
        "formattedRanges": [],
        "deepnote_app_coordinates": {
          "h": 5,
          "w": 12,
          "x": 0,
          "y": 207
        },
        "cell_id": "bf1f8542b92047f4b9c40914f44023b3",
        "deepnote_cell_type": "text-cell-h1",
        "id": "HhWKDG0HJrIf"
      },
      "source": [
        "# Model Regresi Linear Berganda"
      ]
    },
    {
      "cell_type": "markdown",
      "metadata": {
        "formattedRanges": [],
        "deepnote_app_coordinates": {
          "h": 2,
          "w": 8,
          "x": 0,
          "y": 213
        },
        "cell_id": "231c19ea3ead4108bb17ff23142e8224",
        "deepnote_cell_type": "text-cell-p",
        "id": "p4HLn0vRJrIf"
      },
      "source": [
        "inisialisasi Kolom menjadi list"
      ]
    },
    {
      "cell_type": "code",
      "metadata": {
        "source_hash": "ad93dbb4",
        "execution_start": 1687000942787,
        "execution_millis": 3,
        "deepnote_app_coordinates": {
          "h": 8,
          "w": 12,
          "x": 0,
          "y": 216
        },
        "deepnote_to_be_reexecuted": false,
        "cell_id": "533aebb5c62242fbb1a063ccc3cfcdf9",
        "deepnote_cell_type": "code",
        "id": "kzNxiriQJrIg"
      },
      "source": [
        "list_Y = df[\"Y\"]\n",
        "list_X1 = df[\"X1\"]\n",
        "list_X2 = df[\"X2\"]\n",
        "list_X3 = df[\"X3\"]\n",
        "list_X4 = df[\"X4\"]\n",
        "list_X5 = df[\"X5\"]\n"
      ],
      "execution_count": null,
      "outputs": []
    },
    {
      "cell_type": "markdown",
      "metadata": {
        "formattedRanges": [],
        "deepnote_app_coordinates": {
          "h": 5,
          "w": 12,
          "x": 0,
          "y": 225
        },
        "cell_id": "6fd9e688853a4dea9df2522c11a2c813",
        "deepnote_cell_type": "text-cell-h3",
        "id": "Y5iD9P4sJrIh"
      },
      "source": [
        "### Perhitungan Sigma Variabel regresi\n"
      ]
    },
    {
      "cell_type": "code",
      "metadata": {
        "source_hash": "1d7bfbc3",
        "execution_start": 1687000942788,
        "execution_millis": 2,
        "deepnote_app_coordinates": {
          "h": 8,
          "w": 12,
          "x": 0,
          "y": 231
        },
        "deepnote_to_be_reexecuted": false,
        "cell_id": "90de171ded2c4b9aabda069fd6560c4d",
        "deepnote_cell_type": "code",
        "id": "vdL3Px1NJrIh",
        "outputId": "451237a3-aaa8-478c-c202-f434f5c754e9"
      },
      "source": [
        "tot_Y = 0\n",
        "for i in range (len(list_Y)):\n",
        "  temp = list_Y[i]\n",
        "  tot_Y += temp\n",
        "print(tot_Y)"
      ],
      "execution_count": null,
      "outputs": [
        {
          "name": "stdout",
          "text": "55249036000000\n",
          "output_type": "stream"
        }
      ]
    },
    {
      "cell_type": "code",
      "metadata": {
        "source_hash": "758d3991",
        "execution_start": 1687000942789,
        "execution_millis": 3,
        "deepnote_app_coordinates": {
          "h": 8,
          "w": 12,
          "x": 0,
          "y": 240
        },
        "deepnote_to_be_reexecuted": false,
        "cell_id": "6c641998bc0947ab993570de2e629f94",
        "deepnote_cell_type": "code",
        "id": "IE5dw37VJrIi",
        "outputId": "5c1657b7-015c-43fb-f554-7e4aeb4d4f73"
      },
      "source": [
        "tot_X1 = 0\n",
        "for i in range (len(list_X1)):\n",
        "  temp = list_X1[i]\n",
        "  tot_X1 += temp\n",
        "\n",
        "print(tot_X1)"
      ],
      "execution_count": null,
      "outputs": [
        {
          "name": "stdout",
          "text": "1888916.0\n",
          "output_type": "stream"
        }
      ]
    },
    {
      "cell_type": "code",
      "metadata": {
        "source_hash": "885dfff3",
        "execution_start": 1687000942793,
        "execution_millis": 5,
        "deepnote_app_coordinates": {
          "h": 8,
          "w": 12,
          "x": 0,
          "y": 249
        },
        "deepnote_to_be_reexecuted": false,
        "cell_id": "72ed6505bd3d45fd86658c6134ea3810",
        "deepnote_cell_type": "code",
        "id": "Ks8dMlmCJrIl",
        "outputId": "de6e2475-a210-4dac-c9fa-823c63953c51"
      },
      "source": [
        "tot_X2 = 0\n",
        "for i in range (len(list_X2)):\n",
        "  temp = list_X2[i]\n",
        "  tot_X2 += temp\n",
        "\n",
        "print(tot_X2)"
      ],
      "execution_count": null,
      "outputs": [
        {
          "name": "stdout",
          "text": "8711241700000\n",
          "output_type": "stream"
        }
      ]
    },
    {
      "cell_type": "code",
      "metadata": {
        "source_hash": "3455e81d",
        "execution_start": 1687000942799,
        "execution_millis": 5,
        "deepnote_app_coordinates": {
          "h": 8,
          "w": 12,
          "x": 0,
          "y": 258
        },
        "deepnote_to_be_reexecuted": false,
        "cell_id": "7d881920a01d430a9ae1696665afff75",
        "deepnote_cell_type": "code",
        "id": "OQsEYj2MJrIn",
        "outputId": "88fee264-0f5f-404c-a57c-57225b5a8d00"
      },
      "source": [
        "tot_X3 = 0\n",
        "for i in range (len(list_X3)):\n",
        "  temp = list_X3[i]\n",
        "  tot_X3 += temp\n",
        "\n",
        "print(tot_X3)"
      ],
      "execution_count": null,
      "outputs": [
        {
          "name": "stdout",
          "text": "833.3000000000003\n",
          "output_type": "stream"
        }
      ]
    },
    {
      "cell_type": "code",
      "metadata": {
        "source_hash": "faf17c86",
        "execution_start": 1687000942806,
        "execution_millis": 28,
        "deepnote_app_coordinates": {
          "h": 8,
          "w": 12,
          "x": 0,
          "y": 267
        },
        "deepnote_to_be_reexecuted": false,
        "cell_id": "150a8d0fd97649a081153d2628c28986",
        "deepnote_cell_type": "code",
        "id": "UnjNq0XcJrIp",
        "outputId": "8ffd3b9b-069e-4350-9a44-d36d251005c3"
      },
      "source": [
        "tot_X4 = 0\n",
        "for i in range (len(list_X4)):\n",
        "  temp = list_X4[i]\n",
        "  tot_X4 += temp\n",
        "\n",
        "print(tot_X4)"
      ],
      "execution_count": null,
      "outputs": [
        {
          "name": "stdout",
          "text": "3108.0000000000005\n",
          "output_type": "stream"
        }
      ]
    },
    {
      "cell_type": "code",
      "metadata": {
        "source_hash": "25fb90b0",
        "execution_start": 1687000942842,
        "execution_millis": 6,
        "deepnote_app_coordinates": {
          "h": 8,
          "w": 12,
          "x": 0,
          "y": 276
        },
        "deepnote_to_be_reexecuted": false,
        "cell_id": "c89c80d4f1ae4e83be31564da1f98fd2",
        "deepnote_cell_type": "code",
        "id": "myVtUgFZJrIp",
        "outputId": "e44cbf84-ca71-4dea-cd8c-385fe489829d"
      },
      "source": [
        "tot_X5 = 0\n",
        "for i in range (len(list_X5)):\n",
        "  temp = list_X5[i]\n",
        "  tot_X5 += temp\n",
        "\n",
        "print(tot_X5)"
      ],
      "execution_count": null,
      "outputs": [
        {
          "name": "stdout",
          "text": "1803.6999999999994\n",
          "output_type": "stream"
        }
      ]
    },
    {
      "cell_type": "code",
      "metadata": {
        "source_hash": "bca39dcb",
        "execution_start": 1687000942878,
        "execution_millis": 8,
        "deepnote_app_coordinates": {
          "h": 11,
          "w": 12,
          "x": 0,
          "y": 285
        },
        "deepnote_to_be_reexecuted": false,
        "cell_id": "7904b24818e34013984ba414145b09ec",
        "deepnote_cell_type": "code",
        "id": "ggFTBRo-JrIq",
        "outputId": "c3f244f3-0336-492c-ad20-232f04282dee"
      },
      "source": [
        "tot_Ypangkat2 = 0\n",
        "\n",
        "for i in range (len(list_Y)):\n",
        "  temp = list_Y[i]**2\n",
        "  tot_Ypangkat2 += temp\n",
        "\n",
        "print(tot_Ypangkat2)"
      ],
      "execution_count": null,
      "outputs": [
        {
          "name": "stdout",
          "text": "6874216167903789056\n/tmp/ipykernel_971/2129884090.py:5: RuntimeWarning: overflow encountered in long_scalars\n  tot_Ypangkat2 += temp\n",
          "output_type": "stream"
        }
      ]
    },
    {
      "cell_type": "code",
      "metadata": {
        "source_hash": "9ab8f7e4",
        "execution_start": 1687000942879,
        "execution_millis": 7,
        "deepnote_app_coordinates": {
          "h": 9,
          "w": 12,
          "x": 0,
          "y": 297
        },
        "deepnote_to_be_reexecuted": false,
        "cell_id": "456935a6d36d4e1881d92325402be0c6",
        "deepnote_cell_type": "code",
        "id": "xd9dfq5UJrIq",
        "outputId": "03c77a98-6cfd-49b7-adb2-39f6fd4e3294"
      },
      "source": [
        "tot_X1pangkat2 = 0\n",
        "\n",
        "for i in range (len(list_X1)):\n",
        "  temp = list_X1[i]**2\n",
        "  tot_X1pangkat2 += temp\n",
        "\n",
        "print(tot_X1pangkat2)"
      ],
      "execution_count": null,
      "outputs": [
        {
          "name": "stdout",
          "text": "95183879512.0\n",
          "output_type": "stream"
        }
      ]
    },
    {
      "cell_type": "code",
      "metadata": {
        "source_hash": "f151e74b",
        "execution_start": 1687000942880,
        "execution_millis": 12,
        "deepnote_app_coordinates": {
          "h": 11,
          "w": 12,
          "x": 0,
          "y": 307
        },
        "deepnote_to_be_reexecuted": false,
        "cell_id": "fea46ae001d84b9d84a9231f3a470e83",
        "deepnote_cell_type": "code",
        "id": "6lj4jitlJrIr",
        "outputId": "f9276cad-a5a4-4c19-c45c-4a115910c1eb"
      },
      "source": [
        "tot_X2pangkat2 = 0\n",
        "\n",
        "for i in range (len(list_X2)):\n",
        "  temp = list_X2[i]**2\n",
        "  tot_X2pangkat2 += temp\n",
        "\n",
        "print(tot_X2pangkat2)"
      ],
      "execution_count": null,
      "outputs": [
        {
          "name": "stdout",
          "text": "-5939034728622212096\n/tmp/ipykernel_971/3178122072.py:5: RuntimeWarning: overflow encountered in long_scalars\n  tot_X2pangkat2 += temp\n",
          "output_type": "stream"
        }
      ]
    },
    {
      "cell_type": "code",
      "metadata": {
        "source_hash": "5c436e88",
        "execution_start": 1687000942890,
        "execution_millis": 3,
        "deepnote_app_coordinates": {
          "h": 9,
          "w": 12,
          "x": 0,
          "y": 319
        },
        "deepnote_to_be_reexecuted": false,
        "cell_id": "e27b63d3332e406a8aa2b7cce522e9e7",
        "deepnote_cell_type": "code",
        "id": "oDj8XdyWJrIs",
        "outputId": "b87821d2-0851-45c5-f55a-ed62c21d0deb"
      },
      "source": [
        "tot_X3pangkat2 = 0\n",
        "\n",
        "for i in range (len(list_X3)):\n",
        "  temp = list_X3[i]**2\n",
        "  tot_X3pangkat2 += temp\n",
        "\n",
        "print(tot_X3pangkat2)"
      ],
      "execution_count": null,
      "outputs": [
        {
          "name": "stdout",
          "text": "9213.73\n",
          "output_type": "stream"
        }
      ]
    },
    {
      "cell_type": "code",
      "metadata": {
        "source_hash": "9f8a18be",
        "execution_start": 1687000942890,
        "execution_millis": 5,
        "deepnote_app_coordinates": {
          "h": 9,
          "w": 12,
          "x": 0,
          "y": 329
        },
        "deepnote_to_be_reexecuted": false,
        "cell_id": "53877bbe12cd43d3ab43d76d7a3c5f7f",
        "deepnote_cell_type": "code",
        "id": "qIedb0RxJrIs",
        "outputId": "b96a8448-e942-4664-afec-85e27118b4a9"
      },
      "source": [
        "tot_X4pangkat2 = 0\n",
        "\n",
        "for i in range (len(list_X4)):\n",
        "  temp = list_X4[i]**2\n",
        "  tot_X4pangkat2 += temp\n",
        "\n",
        "print(tot_X4pangkat2)"
      ],
      "execution_count": null,
      "outputs": [
        {
          "name": "stdout",
          "text": "76977.33999999997\n",
          "output_type": "stream"
        }
      ]
    },
    {
      "cell_type": "code",
      "metadata": {
        "source_hash": "6d60796f",
        "execution_start": 1687000942937,
        "execution_millis": 2,
        "deepnote_app_coordinates": {
          "h": 9,
          "w": 12,
          "x": 0,
          "y": 339
        },
        "deepnote_to_be_reexecuted": false,
        "cell_id": "b07768071edf4e08b7c9dd9cabe7834a",
        "deepnote_cell_type": "code",
        "id": "Y9-OJCjjJrIt",
        "outputId": "cf71b397-6f4e-4167-b8c3-fbfd1b634652"
      },
      "source": [
        "tot_X5pangkat2 = 0\n",
        "\n",
        "for i in range (len(list_X5)):\n",
        "  temp = list_X5[i]**2\n",
        "  tot_X5pangkat2 += temp\n",
        "\n",
        "print(tot_X5pangkat2)"
      ],
      "execution_count": null,
      "outputs": [
        {
          "name": "stdout",
          "text": "46002.73000000001\n",
          "output_type": "stream"
        }
      ]
    },
    {
      "cell_type": "code",
      "metadata": {
        "source_hash": "6ca40c7c",
        "execution_start": 1687000942975,
        "execution_millis": 4,
        "deepnote_app_coordinates": {
          "h": 9,
          "w": 12,
          "x": 0,
          "y": 349
        },
        "deepnote_to_be_reexecuted": false,
        "cell_id": "1da65f18f11e4d36be983e3569f49edf",
        "deepnote_cell_type": "code",
        "id": "3k4OGNqcJrIu",
        "outputId": "5d2158d5-68de-4a32-b836-d2da61282d75"
      },
      "source": [
        "tot_X1xX2 = 0\n",
        "\n",
        "for i in range (len(list_X1)):\n",
        "  temp = list_X1[i] * list_X2[i]\n",
        "  tot_X1xX2 += temp\n",
        "\n",
        "print(tot_X1xX2)"
      ],
      "execution_count": null,
      "outputs": [
        {
          "name": "stdout",
          "text": "7.92017679514e+16\n",
          "output_type": "stream"
        }
      ]
    },
    {
      "cell_type": "code",
      "metadata": {
        "source_hash": "51d97002",
        "execution_start": 1687000942976,
        "execution_millis": 3,
        "deepnote_app_coordinates": {
          "h": 9,
          "w": 12,
          "x": 0,
          "y": 359
        },
        "deepnote_to_be_reexecuted": false,
        "cell_id": "411723ce55d148c485409b80f5b81aef",
        "deepnote_cell_type": "code",
        "id": "fOXPsu2-JrIv",
        "outputId": "b4cea25d-dd3d-4ce4-a6d5-c177af5b96b4"
      },
      "source": [
        "tot_X1xX3 = 0\n",
        "\n",
        "for i in range (len(list_X1)):\n",
        "  temp = list_X1[i] * list_X3[i]\n",
        "  tot_X1xX3 += temp\n",
        "\n",
        "print(tot_X1xX3)"
      ],
      "execution_count": null,
      "outputs": [
        {
          "name": "stdout",
          "text": "11519114.6\n",
          "output_type": "stream"
        }
      ]
    },
    {
      "cell_type": "code",
      "metadata": {
        "source_hash": "4f14ade6",
        "execution_start": 1687000942977,
        "execution_millis": 4,
        "deepnote_app_coordinates": {
          "h": 9,
          "w": 12,
          "x": 0,
          "y": 369
        },
        "deepnote_to_be_reexecuted": false,
        "cell_id": "f48eb340153c4f49992b553b2b4b2511",
        "deepnote_cell_type": "code",
        "id": "0MzPHizjJrIw",
        "outputId": "4cb8d01a-a67a-455a-e250-c8cb684e06f6"
      },
      "source": [
        "tot_X1xX4 = 0\n",
        "\n",
        "for i in range (len(list_X1)):\n",
        "  temp = list_X1[i] * list_X4[i]\n",
        "  tot_X1xX4 += temp\n",
        "\n",
        "print(tot_X1xX4)"
      ],
      "execution_count": null,
      "outputs": [
        {
          "name": "stdout",
          "text": "39377512.199999996\n",
          "output_type": "stream"
        }
      ]
    },
    {
      "cell_type": "code",
      "metadata": {
        "source_hash": "fb880b72",
        "execution_start": 1687000942980,
        "execution_millis": 3,
        "deepnote_app_coordinates": {
          "h": 9,
          "w": 12,
          "x": 0,
          "y": 379
        },
        "deepnote_to_be_reexecuted": false,
        "cell_id": "c50b4fa447304b84b2e5d1b70923b1cd",
        "deepnote_cell_type": "code",
        "id": "KZLIg59ZJrIx",
        "outputId": "ea7212b8-5382-4037-b3e8-d205226a59c0"
      },
      "source": [
        "tot_X1xX5 = 0\n",
        "\n",
        "for i in range (len(list_X1)):\n",
        "  temp = list_X1[i] * list_X5[i]\n",
        "  tot_X1xX5 += temp\n",
        "\n",
        "print(tot_X1xX5)"
      ],
      "execution_count": null,
      "outputs": [
        {
          "name": "stdout",
          "text": "17547271.000000004\n",
          "output_type": "stream"
        }
      ]
    },
    {
      "cell_type": "code",
      "metadata": {
        "source_hash": "e575cc43",
        "execution_start": 1687000942984,
        "execution_millis": 4,
        "deepnote_app_coordinates": {
          "h": 9,
          "w": 12,
          "x": 0,
          "y": 389
        },
        "deepnote_to_be_reexecuted": false,
        "cell_id": "422736930dc04374b18946abe0fbbb02",
        "deepnote_cell_type": "code",
        "id": "1TFF-7pUJrI6",
        "outputId": "492acd34-6368-4627-88ef-45cceca9f0c9"
      },
      "source": [
        "tot_X2xX3 = 0\n",
        "\n",
        "for i in range (len(list_X1)):\n",
        "  temp = list_X2[i] * list_X3[i]\n",
        "  tot_X2xX3 += temp\n",
        "\n",
        "print(tot_X2xX3)"
      ],
      "execution_count": null,
      "outputs": [
        {
          "name": "stdout",
          "text": "45580418340000.0\n",
          "output_type": "stream"
        }
      ]
    },
    {
      "cell_type": "code",
      "metadata": {
        "source_hash": "dbd52479",
        "execution_start": 1687000943029,
        "execution_millis": 42,
        "deepnote_app_coordinates": {
          "h": 9,
          "w": 12,
          "x": 0,
          "y": 399
        },
        "deepnote_to_be_reexecuted": false,
        "cell_id": "0ef272eedb324531818b048a866741e8",
        "deepnote_cell_type": "code",
        "id": "7YU3ulR8JrI7",
        "outputId": "d30c5d39-a095-44e3-c63a-0e5398b017c8"
      },
      "source": [
        "tot_X2xX4 = 0\n",
        "\n",
        "for i in range (len(list_X2)):\n",
        "  temp = list_X2[i] * list_X4[i]\n",
        "  tot_X2xX4 += temp\n",
        "\n",
        "print(tot_X2xX4)"
      ],
      "execution_count": null,
      "outputs": [
        {
          "name": "stdout",
          "text": "186249577150000.0\n",
          "output_type": "stream"
        }
      ]
    },
    {
      "cell_type": "code",
      "metadata": {
        "source_hash": "f7203493",
        "execution_start": 1687000943067,
        "execution_millis": 4,
        "deepnote_app_coordinates": {
          "h": 9,
          "w": 12,
          "x": 0,
          "y": 409
        },
        "deepnote_to_be_reexecuted": false,
        "cell_id": "95aaea2eae344e6d976aa2e833f307c7",
        "deepnote_cell_type": "code",
        "id": "WHn6dno3JrI7",
        "outputId": "ea65359d-24fa-4271-bd76-a24612c03d1d"
      },
      "source": [
        "tot_X2xX5 = 0\n",
        "\n",
        "for i in range (len(list_X2)):\n",
        "  temp = list_X2[i] * list_X5[i]\n",
        "  tot_X2xX5 += temp\n",
        "\n",
        "print(tot_X2xX5)"
      ],
      "execution_count": null,
      "outputs": [
        {
          "name": "stdout",
          "text": "67262079100000.0\n",
          "output_type": "stream"
        }
      ]
    },
    {
      "cell_type": "code",
      "metadata": {
        "source_hash": "f2a08dc6",
        "execution_start": 1687000943068,
        "execution_millis": 6,
        "deepnote_app_coordinates": {
          "h": 9,
          "w": 12,
          "x": 0,
          "y": 419
        },
        "deepnote_to_be_reexecuted": false,
        "cell_id": "63972ccb0aac473d85631addeb512dcf",
        "deepnote_cell_type": "code",
        "id": "wEJxmjIHJrI8",
        "outputId": "6abdcaad-7594-48d6-f66d-7cbbbc9682bd"
      },
      "source": [
        "tot_X3xX4 = 0\n",
        "\n",
        "for i in range (len(list_X3)):\n",
        "  temp = list_X3[i] * list_X4[i]\n",
        "  tot_X3xX4 += temp\n",
        "\n",
        "print(tot_X3xX4)"
      ],
      "execution_count": null,
      "outputs": [
        {
          "name": "stdout",
          "text": "18928.65000000001\n",
          "output_type": "stream"
        }
      ]
    },
    {
      "cell_type": "code",
      "metadata": {
        "source_hash": "655fa7bc",
        "execution_start": 1687000943073,
        "execution_millis": 2,
        "deepnote_app_coordinates": {
          "h": 9,
          "w": 12,
          "x": 0,
          "y": 429
        },
        "deepnote_to_be_reexecuted": false,
        "cell_id": "e453832c890f4c69a941ff708c0b07cd",
        "deepnote_cell_type": "code",
        "id": "ckOz_kmQJrI9",
        "outputId": "d78d2d78-f748-4e32-a3aa-a51a2df95167"
      },
      "source": [
        "tot_X3xX5 = 0\n",
        "\n",
        "for i in range (len(list_X3)):\n",
        "  temp = list_X3[i] * list_X5[i]\n",
        "  tot_X3xX5 += temp\n",
        "\n",
        "print(tot_X3xX5)"
      ],
      "execution_count": null,
      "outputs": [
        {
          "name": "stdout",
          "text": "10507.64\n",
          "output_type": "stream"
        }
      ]
    },
    {
      "cell_type": "code",
      "metadata": {
        "source_hash": "f1ce9599",
        "execution_start": 1687000943076,
        "execution_millis": 5,
        "deepnote_app_coordinates": {
          "h": 9,
          "w": 12,
          "x": 0,
          "y": 439
        },
        "deepnote_to_be_reexecuted": false,
        "cell_id": "3412233c7c0a46debae9ac68bd55a60f",
        "deepnote_cell_type": "code",
        "id": "6ue2-cW0JrI-",
        "outputId": "c8161b57-9c65-42d8-fcd4-d680fc1050d0"
      },
      "source": [
        "tot_X4xX5 = 0\n",
        "\n",
        "for i in range (len(list_X4)):\n",
        "  temp = list_X4[i] * list_X5[i]\n",
        "  tot_X4xX5 += temp\n",
        "\n",
        "print(tot_X4xX5)"
      ],
      "execution_count": null,
      "outputs": [
        {
          "name": "stdout",
          "text": "37637.88000000001\n",
          "output_type": "stream"
        }
      ]
    },
    {
      "cell_type": "code",
      "metadata": {
        "source_hash": "9631b7",
        "execution_start": 1687000943125,
        "execution_millis": 3,
        "deepnote_app_coordinates": {
          "h": 9,
          "w": 12,
          "x": 0,
          "y": 449
        },
        "deepnote_to_be_reexecuted": false,
        "cell_id": "1a38bb6ee4e147918425b57ede452523",
        "deepnote_cell_type": "code",
        "id": "Bs9ujKmpJrI_",
        "outputId": "74c7937c-fa07-44e9-df16-8cae2eccab67"
      },
      "source": [
        "tot_X1xY = 0\n",
        "\n",
        "for i in range (len(list_X1)):\n",
        "  temp = list_X1[i] * list_Y[i]\n",
        "  tot_X1xY += temp\n",
        "\n",
        "print(tot_X1xY)"
      ],
      "execution_count": null,
      "outputs": [
        {
          "name": "stdout",
          "text": "6.85464880854e+17\n",
          "output_type": "stream"
        }
      ]
    },
    {
      "cell_type": "code",
      "metadata": {
        "source_hash": "87010058",
        "execution_start": 1687000943168,
        "execution_millis": 3,
        "deepnote_app_coordinates": {
          "h": 12,
          "w": 12,
          "x": 0,
          "y": 459
        },
        "deepnote_to_be_reexecuted": false,
        "cell_id": "2562345d51ee44de90e0ed56a4a33845",
        "deepnote_cell_type": "code",
        "id": "1DHwSASuJrI_",
        "outputId": "d45da3f9-882e-4976-f602-1cf715fd65fb"
      },
      "source": [
        "tot_X2xY = 0\n",
        "\n",
        "for i in range (len(list_X2)):\n",
        "  temp = list_X2[i] * list_Y[i]\n",
        "  tot_X2xY += temp\n",
        "\n",
        "print(tot_X2xY)"
      ],
      "execution_count": null,
      "outputs": [
        {
          "name": "stdout",
          "text": "1699913978592389120\n/tmp/ipykernel_971/4188364042.py:4: RuntimeWarning: overflow encountered in long_scalars\n  temp = list_X2[i] * list_Y[i]\n/tmp/ipykernel_971/4188364042.py:5: RuntimeWarning: overflow encountered in long_scalars\n  tot_X2xY += temp\n",
          "output_type": "stream"
        }
      ]
    },
    {
      "cell_type": "code",
      "metadata": {
        "source_hash": "9c3e9ee7",
        "execution_start": 1687000943169,
        "execution_millis": 2,
        "deepnote_app_coordinates": {
          "h": 9,
          "w": 12,
          "x": 0,
          "y": 472
        },
        "deepnote_to_be_reexecuted": false,
        "cell_id": "9ca79b9bb351486e96b4eb773e291783",
        "deepnote_cell_type": "code",
        "id": "p8l3m7HAJrJA",
        "outputId": "8a1fdc61-9d50-4825-b7d0-f8f074a9036a"
      },
      "source": [
        "tot_X3xY = 0\n",
        "\n",
        "for i in range (len(list_X3)):\n",
        "  temp = list_X3[i] * list_Y[i]\n",
        "  tot_X3xY += temp\n",
        "\n",
        "print(tot_X3xY)"
      ],
      "execution_count": null,
      "outputs": [
        {
          "name": "stdout",
          "text": "371959358200000.0\n",
          "output_type": "stream"
        }
      ]
    },
    {
      "cell_type": "code",
      "metadata": {
        "source_hash": "354d40fe",
        "execution_start": 1687000943170,
        "execution_millis": 5,
        "deepnote_app_coordinates": {
          "h": 9,
          "w": 12,
          "x": 0,
          "y": 482
        },
        "deepnote_to_be_reexecuted": false,
        "cell_id": "093ebc311f094dacae0e66f203e3a89d",
        "deepnote_cell_type": "code",
        "id": "7LCYGmibJrJA",
        "outputId": "8149cbfb-c415-41a1-c441-de8f35d45543"
      },
      "source": [
        "tot_X4xY = 0\n",
        "\n",
        "for i in range (len(list_X4)):\n",
        "  temp = list_X4[i] * list_Y[i]\n",
        "  tot_X4xY += temp\n",
        "\n",
        "print(tot_X4xY)"
      ],
      "execution_count": null,
      "outputs": [
        {
          "name": "stdout",
          "text": "1269657310200000.0\n",
          "output_type": "stream"
        }
      ]
    },
    {
      "cell_type": "code",
      "metadata": {
        "source_hash": "8b27487",
        "execution_start": 1687000943175,
        "execution_millis": 13,
        "deepnote_app_coordinates": {
          "h": 9,
          "w": 12,
          "x": 0,
          "y": 492
        },
        "deepnote_to_be_reexecuted": false,
        "cell_id": "736e69a7d61e4202b25590b4316ea450",
        "deepnote_cell_type": "code",
        "id": "ED-ND0YOJrJB",
        "outputId": "fd549e55-c445-471b-ccd5-78a34c25778c"
      },
      "source": [
        "tot_X5xY = 0\n",
        "\n",
        "for i in range (len(list_X5)):\n",
        "  temp = list_X5[i] * list_Y[i]\n",
        "  tot_X5xY += temp\n",
        "\n",
        "print(tot_X5xY)"
      ],
      "execution_count": null,
      "outputs": [
        {
          "name": "stdout",
          "text": "462861511500000.0\n",
          "output_type": "stream"
        }
      ]
    },
    {
      "cell_type": "markdown",
      "metadata": {
        "formattedRanges": [],
        "deepnote_app_coordinates": {
          "h": 5,
          "w": 12,
          "x": 0,
          "y": 502
        },
        "cell_id": "47aa1624f42f488397aa457094fb3069",
        "deepnote_cell_type": "text-cell-h2",
        "id": "3qRyMC0-JrJB"
      },
      "source": [
        "## Membuat Matriks A untuk mencari SPL"
      ]
    },
    {
      "cell_type": "code",
      "metadata": {
        "source_hash": "fb161539",
        "execution_start": 1687000943189,
        "execution_millis": 2,
        "deepnote_app_coordinates": {
          "h": 18,
          "w": 12,
          "x": 0,
          "y": 508
        },
        "deepnote_to_be_reexecuted": false,
        "cell_id": "5f96e2b7cbf441d5b3c70ed1a39c876f",
        "deepnote_cell_type": "code",
        "id": "267_bHn9JrJC",
        "outputId": "065f5973-e0e5-4d25-9dfa-6f654900e888"
      },
      "source": [
        "A = np.array([[len(df), tot_X1,tot_X2,tot_X3,tot_X4,tot_X5],\n",
        "    [tot_X1,tot_X1pangkat2,tot_X1xX2,tot_X1xX3,tot_X1xX4,tot_X1xX5],\n",
        "    [tot_X2,tot_X1xX2,tot_X2pangkat2,tot_X2xX3,tot_X2xX4,tot_X2xX5],\n",
        "    [tot_X3,tot_X1xX3,tot_X2xX3,tot_X3pangkat2,tot_X3xX4,tot_X3xX5],\n",
        "    [tot_X4,tot_X1xX4,tot_X2xX4,tot_X3xX4,tot_X4pangkat2,tot_X4xX5],\n",
        "    [tot_X5,tot_X1xX5,tot_X2xX5,tot_X3xX5,tot_X4xX5,tot_X5pangkat2]\n",
        "])\n",
        "A"
      ],
      "execution_count": null,
      "outputs": [
        {
          "output_type": "execute_result",
          "execution_count": 36,
          "data": {
            "text/plain": "array([[ 1.48000000e+02,  1.88891600e+06,  8.71124170e+12,\n         8.33300000e+02,  3.10800000e+03,  1.80370000e+03],\n       [ 1.88891600e+06,  9.51838795e+10,  7.92017680e+16,\n         1.15191146e+07,  3.93775122e+07,  1.75472710e+07],\n       [ 8.71124170e+12,  7.92017680e+16, -5.93903473e+18,\n         4.55804183e+13,  1.86249577e+14,  6.72620791e+13],\n       [ 8.33300000e+02,  1.15191146e+07,  4.55804183e+13,\n         9.21373000e+03,  1.89286500e+04,  1.05076400e+04],\n       [ 3.10800000e+03,  3.93775122e+07,  1.86249577e+14,\n         1.89286500e+04,  7.69773400e+04,  3.76378800e+04],\n       [ 1.80370000e+03,  1.75472710e+07,  6.72620791e+13,\n         1.05076400e+04,  3.76378800e+04,  4.60027300e+04]])"
          },
          "metadata": {}
        }
      ]
    },
    {
      "cell_type": "markdown",
      "metadata": {
        "formattedRanges": [],
        "deepnote_app_coordinates": {
          "h": 5,
          "w": 12,
          "x": 0,
          "y": 527
        },
        "cell_id": "71500f26b2544c8ab39cf3ad463b1bb8",
        "deepnote_cell_type": "text-cell-h3",
        "id": "sADIqUYFJrJC"
      },
      "source": [
        "### Koefisien Variabel"
      ]
    },
    {
      "cell_type": "code",
      "metadata": {
        "source_hash": "c92e2fe7",
        "execution_start": 1687000943193,
        "execution_millis": 64,
        "deepnote_app_coordinates": {
          "h": 24,
          "w": 12,
          "x": 0,
          "y": 533
        },
        "deepnote_to_be_reexecuted": false,
        "cell_id": "1f08c22db039483fbf34a714675c1d54",
        "deepnote_cell_type": "code",
        "id": "WPqtWWKOJrJD",
        "outputId": "cfd9b20b-fa6a-4c79-cea2-ff6057cb9b8c"
      },
      "source": [
        "b = np.array([tot_Y, tot_X1xY, tot_X2xY, tot_X3xY, tot_X4xY, tot_X5xY])\n",
        "\n",
        "x = solve(A, b)\n",
        "\n",
        "SPL = pd.DataFrame(x, index=['b0', 'b1', 'b2', 'b3', 'b4', 'b5'], columns=['Nilai Koefisien'])\n",
        "SPL"
      ],
      "execution_count": null,
      "outputs": [
        {
          "name": "stderr",
          "text": "/tmp/ipykernel_971/1811625923.py:3: LinAlgWarning: Ill-conditioned matrix (rcond=3.52108e-18): result may not be accurate.\n  x = solve(A, b)\n",
          "output_type": "stream"
        },
        {
          "output_type": "execute_result",
          "execution_count": 37,
          "data": {
            "application/vnd.deepnote.dataframe.v3+json": {
              "column_count": 1,
              "row_count": 6,
              "columns": [
                {
                  "name": "Nilai Koefisien",
                  "dtype": "float64",
                  "stats": {
                    "unique_count": 6,
                    "nan_count": 0,
                    "min": "-238340947313.18008",
                    "max": "15676691506.943764",
                    "histogram": [
                      {
                        "bin_start": -238340947313.18008,
                        "bin_end": -212939183431.1677,
                        "count": 1
                      },
                      {
                        "bin_start": -212939183431.1677,
                        "bin_end": -187537419549.15533,
                        "count": 0
                      },
                      {
                        "bin_start": -187537419549.15533,
                        "bin_end": -162135655667.14294,
                        "count": 0
                      },
                      {
                        "bin_start": -162135655667.14294,
                        "bin_end": -136733891785.13055,
                        "count": 0
                      },
                      {
                        "bin_start": -136733891785.13055,
                        "bin_end": -111332127903.11816,
                        "count": 0
                      },
                      {
                        "bin_start": -111332127903.11816,
                        "bin_end": -85930364021.1058,
                        "count": 0
                      },
                      {
                        "bin_start": -85930364021.1058,
                        "bin_end": -60528600139.093414,
                        "count": 0
                      },
                      {
                        "bin_start": -60528600139.093414,
                        "bin_end": -35126836257.081024,
                        "count": 0
                      },
                      {
                        "bin_start": -35126836257.081024,
                        "bin_end": -9725072375.068634,
                        "count": 0
                      },
                      {
                        "bin_start": -9725072375.068634,
                        "bin_end": 15676691506.943764,
                        "count": 5
                      }
                    ]
                  }
                },
                {
                  "name": "_deepnote_index_column",
                  "dtype": "object"
                }
              ],
              "rows": [
                {
                  "Nilai Koefisien": -238340947313.18008,
                  "_deepnote_index_column": "b0"
                },
                {
                  "Nilai Koefisien": 2366615.8294089385,
                  "_deepnote_index_column": "b1"
                },
                {
                  "Nilai Koefisien": 6.022947115297788,
                  "_deepnote_index_column": "b2"
                },
                {
                  "Nilai Koefisien": 15676691506.943764,
                  "_deepnote_index_column": "b3"
                },
                {
                  "Nilai Koefisien": 5813726068.213866,
                  "_deepnote_index_column": "b4"
                },
                {
                  "Nilai Koefisien": 1360182943.8959346,
                  "_deepnote_index_column": "b5"
                }
              ]
            },
            "text/plain": "    Nilai Koefisien\nb0    -2.383409e+11\nb1     2.366616e+06\nb2     6.022947e+00\nb3     1.567669e+10\nb4     5.813726e+09\nb5     1.360183e+09",
            "text/html": "<div>\n<style scoped>\n    .dataframe tbody tr th:only-of-type {\n        vertical-align: middle;\n    }\n\n    .dataframe tbody tr th {\n        vertical-align: top;\n    }\n\n    .dataframe thead th {\n        text-align: right;\n    }\n</style>\n<table border=\"1\" class=\"dataframe\">\n  <thead>\n    <tr style=\"text-align: right;\">\n      <th></th>\n      <th>Nilai Koefisien</th>\n    </tr>\n  </thead>\n  <tbody>\n    <tr>\n      <th>b0</th>\n      <td>-2.383409e+11</td>\n    </tr>\n    <tr>\n      <th>b1</th>\n      <td>2.366616e+06</td>\n    </tr>\n    <tr>\n      <th>b2</th>\n      <td>6.022947e+00</td>\n    </tr>\n    <tr>\n      <th>b3</th>\n      <td>1.567669e+10</td>\n    </tr>\n    <tr>\n      <th>b4</th>\n      <td>5.813726e+09</td>\n    </tr>\n    <tr>\n      <th>b5</th>\n      <td>1.360183e+09</td>\n    </tr>\n  </tbody>\n</table>\n</div>"
          },
          "metadata": {}
        }
      ]
    },
    {
      "cell_type": "markdown",
      "metadata": {
        "formattedRanges": [],
        "deepnote_app_coordinates": {
          "h": 5,
          "w": 12,
          "x": 0,
          "y": 558
        },
        "cell_id": "bcb39e47936949c8acf9db55f39f68b6",
        "deepnote_cell_type": "text-cell-h3",
        "id": "Jj1gxgnlJrJF"
      },
      "source": [
        "### SPL regresi berganda"
      ]
    },
    {
      "cell_type": "code",
      "metadata": {
        "source_hash": "6897e674",
        "execution_start": 1687000943305,
        "execution_millis": 4,
        "deepnote_app_coordinates": {
          "h": 10,
          "w": 12,
          "x": 0,
          "y": 564
        },
        "deepnote_to_be_reexecuted": false,
        "cell_id": "c403a9dc962948a1b9c3de2917fb201d",
        "deepnote_cell_type": "code",
        "id": "7CJUMyh7JrJG",
        "outputId": "edbce754-a3ab-4eae-cc83-7db02dfc4922"
      },
      "source": [
        "b0 = x[0]\n",
        "b1 = x[1]\n",
        "b2 = x[2]\n",
        "b3 = x[3]\n",
        "b4 = x[4]\n",
        "b5 = x[5]\n",
        "\n",
        "print(\"SPL : Y =\", b0, \" + \" , b1,\"X1 + \",b2,\"X2 + \",b3,\"X3 + \",b4,\"X4 + \",b5,\"X5\")"
      ],
      "execution_count": null,
      "outputs": [
        {
          "name": "stdout",
          "text": "SPL : Y = -238340947313.18008  +  2366615.8294089385 X1 +  6.022947115297788 X2 +  15676691506.943764 X3 +  5813726068.213866 X4 +  1360182943.8959346 X5\n",
          "output_type": "stream"
        }
      ]
    },
    {
      "cell_type": "markdown",
      "metadata": {
        "formattedRanges": [],
        "deepnote_app_coordinates": {
          "h": 5,
          "w": 12,
          "x": 0,
          "y": 575
        },
        "cell_id": "9433b733f6ed44629f2d2fc436ddf42b",
        "deepnote_cell_type": "text-cell-h3",
        "id": "qTkxvfXuJrJG"
      },
      "source": [
        "###\n",
        "Koefisien Determinasi Berganda (R^2) untuk Y"
      ]
    },
    {
      "cell_type": "markdown",
      "metadata": {
        "formattedRanges": [],
        "deepnote_app_coordinates": {
          "h": 2,
          "w": 8,
          "x": 0,
          "y": 581
        },
        "cell_id": "f458c4ca555e4021ad90b14de0ba476a",
        "deepnote_cell_type": "text-cell-p",
        "id": "jr55S852JrJH"
      },
      "source": [
        "\n",
        "Koefisien Determinasi Berganda (R^2) untuk Y"
      ]
    },
    {
      "cell_type": "code",
      "metadata": {
        "source_hash": "9dba815b",
        "execution_start": 1687000943307,
        "execution_millis": 44,
        "deepnote_app_coordinates": {
          "h": 24,
          "w": 12,
          "x": 0,
          "y": 584
        },
        "deepnote_to_be_reexecuted": false,
        "cell_id": "6424eaf3503f48968819f73065bd30d8",
        "deepnote_cell_type": "code",
        "id": "6waudlvJJrJI",
        "outputId": "115983d6-461e-4348-b201-d0330f2e832e"
      },
      "source": [
        "# Membuat matriks X dan array GDP\n",
        "X = np.array([[1, x1, x2, x3, x4, x5] for x1, x2, x3, x4, x5 in zip(df['X1'], df['X2'], df['X3'], df['X4'], df['X5'])])\n",
        "Y = np.array(df['Y'])\n",
        "\n",
        "# Menggunakan matriks X invers untuk menghitung nilai koefisien\n",
        "b = np.linalg.inv(X.T.dot(X)).dot(X.T).dot(Y)\n",
        "\n",
        "# Membuat DataFrame untuk menampilkan nilai koefisien\n",
        "koef_b = pd.DataFrame(b, index=['b0', 'b1', 'b2', 'b3', 'b4', 'b5'], columns=['Nilai koefisien'])\n",
        "koef_b"
      ],
      "execution_count": null,
      "outputs": [
        {
          "output_type": "execute_result",
          "execution_count": 39,
          "data": {
            "application/vnd.deepnote.dataframe.v3+json": {
              "column_count": 1,
              "row_count": 6,
              "columns": [
                {
                  "name": "Nilai koefisien",
                  "dtype": "float64",
                  "stats": {
                    "unique_count": 6,
                    "nan_count": 0,
                    "min": "-319319131192.8208",
                    "max": "16268424532.964539",
                    "histogram": [
                      {
                        "bin_start": -319319131192.8208,
                        "bin_end": -285760375620.24225,
                        "count": 1
                      },
                      {
                        "bin_start": -285760375620.24225,
                        "bin_end": -252201620047.66373,
                        "count": 0
                      },
                      {
                        "bin_start": -252201620047.66373,
                        "bin_end": -218642864475.0852,
                        "count": 0
                      },
                      {
                        "bin_start": -218642864475.0852,
                        "bin_end": -185084108902.50665,
                        "count": 0
                      },
                      {
                        "bin_start": -185084108902.50665,
                        "bin_end": -151525353329.92813,
                        "count": 0
                      },
                      {
                        "bin_start": -151525353329.92813,
                        "bin_end": -117966597757.34961,
                        "count": 0
                      },
                      {
                        "bin_start": -117966597757.34961,
                        "bin_end": -84407842184.77106,
                        "count": 0
                      },
                      {
                        "bin_start": -84407842184.77106,
                        "bin_end": -50849086612.192535,
                        "count": 0
                      },
                      {
                        "bin_start": -50849086612.192535,
                        "bin_end": -17290331039.614014,
                        "count": 0
                      },
                      {
                        "bin_start": -17290331039.614014,
                        "bin_end": 16268424532.964539,
                        "count": 5
                      }
                    ]
                  }
                },
                {
                  "name": "_deepnote_index_column",
                  "dtype": "object"
                }
              ],
              "rows": [
                {
                  "Nilai koefisien": -319319131192.8208,
                  "_deepnote_index_column": "b0"
                },
                {
                  "Nilai koefisien": 2918329.3295660308,
                  "_deepnote_index_column": "b1"
                },
                {
                  "Nilai koefisien": 6.982649474033706,
                  "_deepnote_index_column": "b2"
                },
                {
                  "Nilai koefisien": 16268424532.964539,
                  "_deepnote_index_column": "b3"
                },
                {
                  "Nilai koefisien": 5517739113.393608,
                  "_deepnote_index_column": "b4"
                },
                {
                  "Nilai koefisien": 3028568969.462153,
                  "_deepnote_index_column": "b5"
                }
              ]
            },
            "text/plain": "    Nilai koefisien\nb0    -3.193191e+11\nb1     2.918329e+06\nb2     6.982649e+00\nb3     1.626842e+10\nb4     5.517739e+09\nb5     3.028569e+09",
            "text/html": "<div>\n<style scoped>\n    .dataframe tbody tr th:only-of-type {\n        vertical-align: middle;\n    }\n\n    .dataframe tbody tr th {\n        vertical-align: top;\n    }\n\n    .dataframe thead th {\n        text-align: right;\n    }\n</style>\n<table border=\"1\" class=\"dataframe\">\n  <thead>\n    <tr style=\"text-align: right;\">\n      <th></th>\n      <th>Nilai koefisien</th>\n    </tr>\n  </thead>\n  <tbody>\n    <tr>\n      <th>b0</th>\n      <td>-3.193191e+11</td>\n    </tr>\n    <tr>\n      <th>b1</th>\n      <td>2.918329e+06</td>\n    </tr>\n    <tr>\n      <th>b2</th>\n      <td>6.982649e+00</td>\n    </tr>\n    <tr>\n      <th>b3</th>\n      <td>1.626842e+10</td>\n    </tr>\n    <tr>\n      <th>b4</th>\n      <td>5.517739e+09</td>\n    </tr>\n    <tr>\n      <th>b5</th>\n      <td>3.028569e+09</td>\n    </tr>\n  </tbody>\n</table>\n</div>"
          },
          "metadata": {}
        }
      ]
    },
    {
      "cell_type": "markdown",
      "metadata": {
        "formattedRanges": [],
        "deepnote_app_coordinates": {
          "h": 5,
          "w": 12,
          "x": 0,
          "y": 609
        },
        "cell_id": "429123d8675f441abdf5426c444457bc",
        "deepnote_cell_type": "text-cell-h3",
        "id": "Lbkfh0nQJrJK"
      },
      "source": [
        "### menghitung JKT"
      ]
    },
    {
      "cell_type": "code",
      "metadata": {
        "source_hash": "b3b63780",
        "execution_start": 1687000943393,
        "execution_millis": 5,
        "deepnote_app_coordinates": {
          "h": 7,
          "w": 12,
          "x": 0,
          "y": 615
        },
        "deepnote_to_be_reexecuted": false,
        "cell_id": "e36880c071b740cf9a26a53b0488b514",
        "deepnote_cell_type": "code",
        "id": "iTfmEOxaJrJL",
        "outputId": "9afa3210-e678-4116-ab83-86676b4bd6f3"
      },
      "source": [
        "JKT = 0\n",
        "JKT = (tot_Ypangkat2) - (tot_Y)**2 / len(Y)\n",
        "JKT"
      ],
      "execution_count": null,
      "outputs": [
        {
          "output_type": "execute_result",
          "execution_count": 40,
          "data": {
            "text/plain": "6.850712087720137e+18"
          },
          "metadata": {}
        }
      ]
    },
    {
      "cell_type": "markdown",
      "metadata": {
        "formattedRanges": [],
        "deepnote_app_coordinates": {
          "h": 5,
          "w": 12,
          "x": 0,
          "y": 623
        },
        "cell_id": "f852c82f0b1b469c80520e02a07ee18c",
        "deepnote_cell_type": "text-cell-h3",
        "id": "H8M08pqkJrJM"
      },
      "source": [
        "### Menghitung nilai g/galat"
      ]
    },
    {
      "cell_type": "code",
      "metadata": {
        "source_hash": "fb83f883",
        "execution_start": 1687000943395,
        "execution_millis": 3,
        "deepnote_app_coordinates": {
          "h": 7,
          "w": 12,
          "x": 0,
          "y": 629
        },
        "deepnote_to_be_reexecuted": false,
        "cell_id": "a8721271ba1f4611867377e0db022ca0",
        "deepnote_cell_type": "code",
        "id": "BPRnTnRvJrJM",
        "outputId": "67289233-30ac-47b7-c114-f2d9f258328c"
      },
      "source": [
        "g = X.T.dot(Y)\n",
        "g"
      ],
      "execution_count": null,
      "outputs": [
        {
          "output_type": "execute_result",
          "execution_count": 41,
          "data": {
            "text/plain": "array([5.52490360e+13, 6.85464881e+17, 2.89070642e+25, 3.71959358e+14,\n       1.26965731e+15, 4.62861512e+14])"
          },
          "metadata": {}
        }
      ]
    },
    {
      "cell_type": "markdown",
      "metadata": {
        "formattedRanges": [],
        "deepnote_app_coordinates": {
          "h": 5,
          "w": 12,
          "x": 0,
          "y": 637
        },
        "cell_id": "abcd4d8b9ad54b0ba06703171c4ff1e1",
        "deepnote_cell_type": "text-cell-h3",
        "id": "-tnzfvW2JrJM"
      },
      "source": [
        "### menghitung JKR"
      ]
    },
    {
      "cell_type": "code",
      "metadata": {
        "source_hash": "a0d0ae2c",
        "execution_start": 1687000943396,
        "execution_millis": 43,
        "deepnote_app_coordinates": {
          "h": 9,
          "w": 12,
          "x": 0,
          "y": 643
        },
        "deepnote_to_be_reexecuted": false,
        "cell_id": "68746bed47af456aa28472a076686ea1",
        "deepnote_cell_type": "code",
        "id": "rDtSUZu8JrJN",
        "outputId": "a6502daf-8a03-4890-a7ab-f28f8cc9a9a5"
      },
      "source": [
        "JKR = 0\n",
        "\n",
        "for i in range(len(b)):\n",
        "  JKR += b[i] * g[i]\n",
        "JKR = JKR - (tot_Y)**2 / len(Y)\n",
        "\n",
        "JKR"
      ],
      "execution_count": null,
      "outputs": [
        {
          "output_type": "execute_result",
          "execution_count": 42,
          "data": {
            "text/plain": "2.0066487349988834e+26"
          },
          "metadata": {}
        }
      ]
    },
    {
      "cell_type": "markdown",
      "metadata": {
        "formattedRanges": [],
        "deepnote_app_coordinates": {
          "h": 5,
          "w": 12,
          "x": 0,
          "y": 653
        },
        "cell_id": "f60cc220ed054d1cb361f2c4cbd03547",
        "deepnote_cell_type": "text-cell-h3",
        "id": "lfztUkJZJrJN"
      },
      "source": [
        "### Menghitung JKG"
      ]
    },
    {
      "cell_type": "code",
      "metadata": {
        "source_hash": "1d5bd514",
        "execution_start": 1687000943438,
        "execution_millis": 4,
        "deepnote_app_coordinates": {
          "h": 6,
          "w": 12,
          "x": 0,
          "y": 659
        },
        "deepnote_to_be_reexecuted": false,
        "cell_id": "9f1f4fb6323549a6960d12d3d29ae846",
        "deepnote_cell_type": "code",
        "id": "9ECcAWsLJrJO",
        "outputId": "12c4b10a-a819-4f2e-9a69-4d1fa2f051c0"
      },
      "source": [
        "JKG = JKT - JKR\n",
        "JKG"
      ],
      "execution_count": null,
      "outputs": [
        {
          "output_type": "execute_result",
          "execution_count": 43,
          "data": {
            "text/plain": "-2.0066486664917625e+26"
          },
          "metadata": {}
        }
      ]
    },
    {
      "cell_type": "markdown",
      "metadata": {
        "formattedRanges": [],
        "deepnote_app_coordinates": {
          "h": 5,
          "w": 12,
          "x": 0,
          "y": 666
        },
        "cell_id": "00dcf54429954d189bf0b012be6813ab",
        "deepnote_cell_type": "text-cell-h3",
        "id": "6qIKUoI9JrJO"
      },
      "source": [
        "### mendapatkan nilai R(Determinasi berganda) dari Y(target)"
      ]
    },
    {
      "cell_type": "code",
      "metadata": {
        "source_hash": "3f643fe3",
        "execution_start": 1687000943458,
        "execution_millis": 3,
        "deepnote_app_coordinates": {
          "h": 6,
          "w": 12,
          "x": 0,
          "y": 672
        },
        "deepnote_to_be_reexecuted": false,
        "cell_id": "2d7aca3efea3409d8176f61c4170dfa4",
        "deepnote_cell_type": "code",
        "id": "CNwMsgX6JrJO",
        "outputId": "54d0b440-cdef-43c4-9858-9609fcd0add0"
      },
      "source": [
        "R2y1 = JKR / JKT\n",
        "R2y1"
      ],
      "execution_count": null,
      "outputs": [
        {
          "output_type": "execute_result",
          "execution_count": 44,
          "data": {
            "text/plain": "29291097.17799687"
          },
          "metadata": {}
        }
      ]
    },
    {
      "cell_type": "markdown",
      "metadata": {
        "formattedRanges": [],
        "deepnote_app_coordinates": {
          "h": 5,
          "w": 12,
          "x": 0,
          "y": 679
        },
        "cell_id": "8f6ce086d7084766a3d8e0a9558c990d",
        "deepnote_cell_type": "text-cell-h1",
        "id": "epRWQWrQJrJP"
      },
      "source": [
        "# Metode Regresi Bertahap"
      ]
    },
    {
      "cell_type": "markdown",
      "metadata": {
        "formattedRanges": [
          {
            "type": "marks",
            "marks": {
              "bold": true
            },
            "toCodePoint": 6,
            "fromCodePoint": 0
          }
        ],
        "deepnote_app_coordinates": {
          "h": 5,
          "w": 12,
          "x": 0,
          "y": 685
        },
        "cell_id": "6af1d52be9b14723b6cb8af22dcf0bf0",
        "deepnote_cell_type": "text-cell-h3",
        "id": "zRlmUz0UJrJP"
      },
      "source": [
        "### Step-1"
      ]
    },
    {
      "cell_type": "markdown",
      "metadata": {
        "formattedRanges": [],
        "deepnote_app_coordinates": {
          "h": 2,
          "w": 8,
          "x": 0,
          "y": 691
        },
        "cell_id": "077d93611ab241c3a3405c90c86bf03d",
        "deepnote_cell_type": "text-cell-p",
        "id": "cs7dbdAqJrJQ"
      },
      "source": [
        "\n",
        "Menghitung nilai R dari setiap X(variabel bebas), lalu dicari mana yang terbesar"
      ]
    },
    {
      "cell_type": "code",
      "metadata": {
        "source_hash": "546768bd",
        "execution_start": 1687000943513,
        "execution_millis": 3,
        "deepnote_app_coordinates": {
          "h": 29,
          "w": 12,
          "x": 0,
          "y": 694
        },
        "deepnote_to_be_reexecuted": false,
        "cell_id": "294068057ac4487b9eaa9dfb51dc5a23",
        "deepnote_cell_type": "code",
        "id": "ZE6irM2dJrJQ",
        "outputId": "3f95c0bd-ed56-466b-b818-1a4ad444c2c2"
      },
      "source": [
        "# Menghitung nilai Rmax\n",
        "Rmax = []\n",
        "for var in ['X1', 'X2', 'X3', 'X4', 'X5']:\n",
        "    X = np.array([[1, df[var][i]] for i in range(len(df))])\n",
        "    Y = np.array(df['Y'])\n",
        "    b = np.linalg.inv(X.T.dot(X)).dot(X.T).dot(Y)\n",
        "    g = X.T.dot(Y)\n",
        "\n",
        "    JKR = 0\n",
        "    for i in range(len(b)):\n",
        "        JKR += b[i] * g[i]\n",
        "    JKR = JKR - (tot_Y**2) / len(Y)\n",
        "\n",
        "    Rmax.append(JKR)\n",
        "\n",
        "# Membuat DataFrame untuk menampilkan nilai Rmax\n",
        "R = pd.DataFrame(Rmax, index=['X1', 'X2', 'X3', 'X4', 'X5'], columns=['nilai R'])\n",
        "R\n",
        "\n"
      ],
      "execution_count": null,
      "outputs": [
        {
          "output_type": "execute_result",
          "execution_count": 45,
          "data": {
            "application/vnd.deepnote.dataframe.v3+json": {
              "column_count": 1,
              "row_count": 5,
              "columns": [
                {
                  "name": "nilai R",
                  "dtype": "float64",
                  "stats": {
                    "unique_count": 5,
                    "nan_count": 0,
                    "min": "2.063014923888964e+25",
                    "max": "1.833344003926279e+26",
                    "histogram": [
                      {
                        "bin_start": 2.063014923888964e+25,
                        "bin_end": 3.690057435426347e+25,
                        "count": 4
                      },
                      {
                        "bin_start": 3.690057435426347e+25,
                        "bin_end": 5.3170999469637295e+25,
                        "count": 0
                      },
                      {
                        "bin_start": 5.3170999469637295e+25,
                        "bin_end": 6.944142458501111e+25,
                        "count": 0
                      },
                      {
                        "bin_start": 6.944142458501111e+25,
                        "bin_end": 8.571184970038495e+25,
                        "count": 0
                      },
                      {
                        "bin_start": 8.571184970038495e+25,
                        "bin_end": 1.0198227481575877e+26,
                        "count": 0
                      },
                      {
                        "bin_start": 1.0198227481575877e+26,
                        "bin_end": 1.1825269993113258e+26,
                        "count": 0
                      },
                      {
                        "bin_start": 1.1825269993113258e+26,
                        "bin_end": 1.3452312504650642e+26,
                        "count": 0
                      },
                      {
                        "bin_start": 1.3452312504650642e+26,
                        "bin_end": 1.5079355016188024e+26,
                        "count": 0
                      },
                      {
                        "bin_start": 1.5079355016188024e+26,
                        "bin_end": 1.6706397527725405e+26,
                        "count": 0
                      },
                      {
                        "bin_start": 1.6706397527725405e+26,
                        "bin_end": 1.833344003926279e+26,
                        "count": 1
                      }
                    ]
                  }
                },
                {
                  "name": "_deepnote_index_column",
                  "dtype": "object"
                }
              ],
              "rows": [
                {
                  "nilai R": 2.063014923888964e+25,
                  "_deepnote_index_column": "X1"
                },
                {
                  "nilai R": 1.833344003926279e+26,
                  "_deepnote_index_column": "X2"
                },
                {
                  "nilai R": 2.1444481544720348e+25,
                  "_deepnote_index_column": "X3"
                },
                {
                  "nilai R": 2.1647338280448527e+25,
                  "_deepnote_index_column": "X4"
                },
                {
                  "nilai R": 2.2468797971521615e+25,
                  "_deepnote_index_column": "X5"
                }
              ]
            },
            "text/plain": "         nilai R\nX1  2.063015e+25\nX2  1.833344e+26\nX3  2.144448e+25\nX4  2.164734e+25\nX5  2.246880e+25",
            "text/html": "<div>\n<style scoped>\n    .dataframe tbody tr th:only-of-type {\n        vertical-align: middle;\n    }\n\n    .dataframe tbody tr th {\n        vertical-align: top;\n    }\n\n    .dataframe thead th {\n        text-align: right;\n    }\n</style>\n<table border=\"1\" class=\"dataframe\">\n  <thead>\n    <tr style=\"text-align: right;\">\n      <th></th>\n      <th>nilai R</th>\n    </tr>\n  </thead>\n  <tbody>\n    <tr>\n      <th>X1</th>\n      <td>2.063015e+25</td>\n    </tr>\n    <tr>\n      <th>X2</th>\n      <td>1.833344e+26</td>\n    </tr>\n    <tr>\n      <th>X3</th>\n      <td>2.144448e+25</td>\n    </tr>\n    <tr>\n      <th>X4</th>\n      <td>2.164734e+25</td>\n    </tr>\n    <tr>\n      <th>X5</th>\n      <td>2.246880e+25</td>\n    </tr>\n  </tbody>\n</table>\n</div>"
          },
          "metadata": {}
        }
      ]
    },
    {
      "cell_type": "code",
      "metadata": {
        "source_hash": "194338ee",
        "execution_start": 1687000943557,
        "execution_millis": 2,
        "deepnote_app_coordinates": {
          "h": 10,
          "w": 12,
          "x": 0,
          "y": 724
        },
        "deepnote_to_be_reexecuted": false,
        "cell_id": "f48902cb2caa4887b98df648f9893f7f",
        "deepnote_cell_type": "code",
        "id": "oCX8IVGFJrJR",
        "outputId": "eea8671b-308e-4f3b-e2c3-4c89c11f1ae5"
      },
      "source": [
        "# Mengambil nilai R terbesar\n",
        "R[R['nilai R'] == R['nilai R'].max()]"
      ],
      "execution_count": null,
      "outputs": [
        {
          "output_type": "execute_result",
          "execution_count": 46,
          "data": {
            "application/vnd.deepnote.dataframe.v3+json": {
              "column_count": 1,
              "row_count": 1,
              "columns": [
                {
                  "name": "nilai R",
                  "dtype": "float64",
                  "stats": {
                    "unique_count": 1,
                    "nan_count": 0,
                    "min": "1.833344003926279e+26",
                    "max": "1.833344003926279e+26",
                    "histogram": null
                  }
                },
                {
                  "name": "_deepnote_index_column",
                  "dtype": "object"
                }
              ],
              "rows": [
                {
                  "nilai R": 1.833344003926279e+26,
                  "_deepnote_index_column": "X2"
                }
              ]
            },
            "text/plain": "         nilai R\nX2  1.833344e+26",
            "text/html": "<div>\n<style scoped>\n    .dataframe tbody tr th:only-of-type {\n        vertical-align: middle;\n    }\n\n    .dataframe tbody tr th {\n        vertical-align: top;\n    }\n\n    .dataframe thead th {\n        text-align: right;\n    }\n</style>\n<table border=\"1\" class=\"dataframe\">\n  <thead>\n    <tr style=\"text-align: right;\">\n      <th></th>\n      <th>nilai R</th>\n    </tr>\n  </thead>\n  <tbody>\n    <tr>\n      <th>X2</th>\n      <td>1.833344e+26</td>\n    </tr>\n  </tbody>\n</table>\n</div>"
          },
          "metadata": {}
        }
      ]
    },
    {
      "cell_type": "code",
      "metadata": {
        "source_hash": "96cdf7b9",
        "execution_start": 1687000943583,
        "execution_millis": 47,
        "deepnote_app_coordinates": {
          "h": 23,
          "w": 12,
          "x": 0,
          "y": 735
        },
        "deepnote_to_be_reexecuted": false,
        "cell_id": "371723e2bea44da68924ea876214757d",
        "deepnote_cell_type": "code",
        "id": "ry2y8CbcJrJR",
        "outputId": "6e3cb0bb-9e34-4224-ce45-1f5cf75eb3cb"
      },
      "source": [
        "# Menghitung nilai variansi residu (s^2) pada X2\n",
        "X = np.array([[1, df['X2'][i]] for i in range(len(df))])\n",
        "Y = np.array(df['Y'])\n",
        "b = np.linalg.inv(X.T.dot(X)).dot(X.T).dot(Y)\n",
        "g = X.T.dot(Y)\n",
        "\n",
        "JKT = tot_Ypangkat2 - tot_Y**2 / len(Y)\n",
        "JKR = np.sum(b * g) - tot_Y**2 / len(Y)\n",
        "JKG = JKT - JKR\n",
        "s2 = JKG / (len(Y) - 2)\n",
        "\n",
        "print (\"s^2(X2) =\", s2)\n",
        "\n",
        "# Menghitung nilai F hitung dan F tabel\n",
        "Fhitung = JKR / s2\n",
        "Ftabel = stats.f.isf(0.05, 1, len(Y) - 2)\n",
        "\n",
        "# Menampilkan hasil\n",
        "if Fhitung > Ftabel:\n",
        "    print('f hitung =', Fhitung, '>', 'f tabel =', Ftabel)\n",
        "    print('Maka peubah X2 masuk dalam model')\n",
        "else:\n",
        "    print('f hitung =', Fhitung, '<', 'f tabel =', Ftabel)\n",
        "    print('Maka peubah X2 tidak masuk dalam model')"
      ],
      "execution_count": null,
      "outputs": [
        {
          "name": "stdout",
          "text": "s^2(X2) = -1.2557150242596972e+24\nf hitung = -146.00000545562645 < f tabel = 3.9059421464318516\nMaka peubah X2 tidak masuk dalam model\n",
          "output_type": "stream"
        }
      ]
    },
    {
      "cell_type": "markdown",
      "metadata": {
        "formattedRanges": [],
        "deepnote_app_coordinates": {
          "h": 5,
          "w": 12,
          "x": 0,
          "y": 759
        },
        "cell_id": "5c8e6b7220484047a937f0d38cab1c75",
        "deepnote_cell_type": "text-cell-h3",
        "id": "0tvg3ytzJrJS"
      },
      "source": [
        "### Step-2"
      ]
    },
    {
      "cell_type": "markdown",
      "metadata": {
        "formattedRanges": [],
        "deepnote_app_coordinates": {
          "h": 2,
          "w": 8,
          "x": 0,
          "y": 765
        },
        "cell_id": "0cf5c1fdbff24fe9a0bcb5412dbddf66",
        "deepnote_cell_type": "text-cell-p",
        "id": "xE67GKOBJrJS"
      },
      "source": [
        "X2 sudah diambil sebagai variabel yang termasuk model, sehingga tersisa X1, X3, X4, X5"
      ]
    },
    {
      "cell_type": "code",
      "metadata": {
        "source_hash": "88e343c6",
        "execution_start": 1687000943672,
        "execution_millis": 47,
        "deepnote_app_coordinates": {
          "h": 24,
          "w": 12,
          "x": 0,
          "y": 768
        },
        "deepnote_to_be_reexecuted": false,
        "cell_id": "2decce7464f04209a5404f3cd3e8e06a",
        "deepnote_cell_type": "code",
        "id": "ynzW5wWTJrJT",
        "outputId": "830b7fbb-2e32-4895-bb23-d8c48f38e972"
      },
      "source": [
        "# Menghitung nilai R2max\n",
        "R2max = []\n",
        "for var in ['X1', 'X3', 'X4', 'X5']:\n",
        "    X = np.array([[1, df['X2'][i], df[var][i]] for i in range(len(df))])\n",
        "    Y = np.array(df['Y'])\n",
        "    b = np.linalg.inv(X.T.dot(X)).dot(X.T).dot(Y)\n",
        "    g = X.T.dot(Y)\n",
        "\n",
        "    JKR = np.sum(b * g) - (tot_Y**2) / len(Y)\n",
        "    R2max.append(JKR - Rmax[1])\n",
        "\n",
        "# Membuat DataFrame untuk menampilkan nilai R2max\n",
        "R2 = pd.DataFrame(R2max, index=['X1', 'X3', 'X4', 'X5'], columns=['nilai R'])\n",
        "R2"
      ],
      "execution_count": null,
      "outputs": [
        {
          "output_type": "execute_result",
          "execution_count": 48,
          "data": {
            "application/vnd.deepnote.dataframe.v3+json": {
              "column_count": 1,
              "row_count": 4,
              "columns": [
                {
                  "name": "nilai R",
                  "dtype": "float64",
                  "stats": {
                    "unique_count": 4,
                    "nan_count": 0,
                    "min": "1.4852434109421123e+25",
                    "max": "1.6300966209661145e+25",
                    "histogram": [
                      {
                        "bin_start": 1.4852434109421123e+25,
                        "bin_end": 1.4997287319445125e+25,
                        "count": 1
                      },
                      {
                        "bin_start": 1.4997287319445125e+25,
                        "bin_end": 1.5142140529469127e+25,
                        "count": 0
                      },
                      {
                        "bin_start": 1.5142140529469127e+25,
                        "bin_end": 1.528699373949313e+25,
                        "count": 1
                      },
                      {
                        "bin_start": 1.528699373949313e+25,
                        "bin_end": 1.5431846949517132e+25,
                        "count": 1
                      },
                      {
                        "bin_start": 1.5431846949517132e+25,
                        "bin_end": 1.5576700159541134e+25,
                        "count": 0
                      },
                      {
                        "bin_start": 1.5576700159541134e+25,
                        "bin_end": 1.5721553369565136e+25,
                        "count": 0
                      },
                      {
                        "bin_start": 1.5721553369565136e+25,
                        "bin_end": 1.5866406579589138e+25,
                        "count": 0
                      },
                      {
                        "bin_start": 1.5866406579589138e+25,
                        "bin_end": 1.6011259789613142e+25,
                        "count": 0
                      },
                      {
                        "bin_start": 1.6011259789613142e+25,
                        "bin_end": 1.6156112999637144e+25,
                        "count": 0
                      },
                      {
                        "bin_start": 1.6156112999637144e+25,
                        "bin_end": 1.6300966209661145e+25,
                        "count": 1
                      }
                    ]
                  }
                },
                {
                  "name": "_deepnote_index_column",
                  "dtype": "object"
                }
              ],
              "rows": [
                {
                  "nilai R": 1.5280515598160191e+25,
                  "_deepnote_index_column": "X1"
                },
                {
                  "nilai R": 1.6300966209661145e+25,
                  "_deepnote_index_column": "X3"
                },
                {
                  "nilai R": 1.5346528622694819e+25,
                  "_deepnote_index_column": "X4"
                },
                {
                  "nilai R": 1.4852434109421123e+25,
                  "_deepnote_index_column": "X5"
                }
              ]
            },
            "text/plain": "         nilai R\nX1  1.528052e+25\nX3  1.630097e+25\nX4  1.534653e+25\nX5  1.485243e+25",
            "text/html": "<div>\n<style scoped>\n    .dataframe tbody tr th:only-of-type {\n        vertical-align: middle;\n    }\n\n    .dataframe tbody tr th {\n        vertical-align: top;\n    }\n\n    .dataframe thead th {\n        text-align: right;\n    }\n</style>\n<table border=\"1\" class=\"dataframe\">\n  <thead>\n    <tr style=\"text-align: right;\">\n      <th></th>\n      <th>nilai R</th>\n    </tr>\n  </thead>\n  <tbody>\n    <tr>\n      <th>X1</th>\n      <td>1.528052e+25</td>\n    </tr>\n    <tr>\n      <th>X3</th>\n      <td>1.630097e+25</td>\n    </tr>\n    <tr>\n      <th>X4</th>\n      <td>1.534653e+25</td>\n    </tr>\n    <tr>\n      <th>X5</th>\n      <td>1.485243e+25</td>\n    </tr>\n  </tbody>\n</table>\n</div>"
          },
          "metadata": {}
        }
      ]
    },
    {
      "cell_type": "code",
      "metadata": {
        "source_hash": "cde6a9d9",
        "execution_start": 1687000943805,
        "execution_millis": 3,
        "deepnote_app_coordinates": {
          "h": 10,
          "w": 12,
          "x": 0,
          "y": 793
        },
        "deepnote_to_be_reexecuted": false,
        "cell_id": "887930596d0f4782a876b60477376311",
        "deepnote_cell_type": "code",
        "id": "gw9lQKymJrJT",
        "outputId": "3ec0a8bb-7fee-47dc-fec4-f73ff2c3b0d5"
      },
      "source": [
        "# R terbesar yang kedua\n",
        "R2[R2['nilai R'] == R2['nilai R'].max()]"
      ],
      "execution_count": null,
      "outputs": [
        {
          "output_type": "execute_result",
          "execution_count": 49,
          "data": {
            "application/vnd.deepnote.dataframe.v3+json": {
              "column_count": 1,
              "row_count": 1,
              "columns": [
                {
                  "name": "nilai R",
                  "dtype": "float64",
                  "stats": {
                    "unique_count": 1,
                    "nan_count": 0,
                    "min": "1.6300966209661145e+25",
                    "max": "1.6300966209661145e+25",
                    "histogram": null
                  }
                },
                {
                  "name": "_deepnote_index_column",
                  "dtype": "object"
                }
              ],
              "rows": [
                {
                  "nilai R": 1.6300966209661145e+25,
                  "_deepnote_index_column": "X3"
                }
              ]
            },
            "text/plain": "         nilai R\nX3  1.630097e+25",
            "text/html": "<div>\n<style scoped>\n    .dataframe tbody tr th:only-of-type {\n        vertical-align: middle;\n    }\n\n    .dataframe tbody tr th {\n        vertical-align: top;\n    }\n\n    .dataframe thead th {\n        text-align: right;\n    }\n</style>\n<table border=\"1\" class=\"dataframe\">\n  <thead>\n    <tr style=\"text-align: right;\">\n      <th></th>\n      <th>nilai R</th>\n    </tr>\n  </thead>\n  <tbody>\n    <tr>\n      <th>X3</th>\n      <td>1.630097e+25</td>\n    </tr>\n  </tbody>\n</table>\n</div>"
          },
          "metadata": {}
        }
      ]
    },
    {
      "cell_type": "code",
      "metadata": {
        "source_hash": "816bfade",
        "execution_start": 1687000943849,
        "execution_millis": 2,
        "deepnote_app_coordinates": {
          "h": 23,
          "w": 12,
          "x": 0,
          "y": 804
        },
        "deepnote_to_be_reexecuted": false,
        "cell_id": "af38c857e5a543189f0f168152268e16",
        "deepnote_cell_type": "code",
        "id": "CMEXZEBoJrJT",
        "outputId": "07e42748-b513-441e-f8d8-7a737a60b25a"
      },
      "source": [
        "# Menghitung nilai s^2 dari X1.2\n",
        "X = np.array([[1, df['X2'][i], df['X1'][i]] for i in range(len(df))])\n",
        "Y = np.array(df['Y'])\n",
        "b = np.linalg.inv(X.T.dot(X)).dot(X.T).dot(Y)\n",
        "g = X.T.dot(Y)\n",
        "\n",
        "JKT = tot_Ypangkat2 - (tot_Y**2) / len(Y)\n",
        "JKR = np.sum(b * g) - (tot_Y**2) / len(Y)\n",
        "JKG = JKT - JKR\n",
        "s2 = JKG / (len(Y) - 3)\n",
        "\n",
        "print(\"s2(X1) =\", s2)\n",
        "\n",
        "# F hitung dan F tabel\n",
        "Fhitung = (JKR-Rmax[1]) / s2\n",
        "Ftabel = stats.f.isf(0.05, 1, len(Y) - 3)\n",
        "\n",
        "if Fhitung > Ftabel:\n",
        "  print('f hitung = ', Fhitung,'>', 'f tabel = ', Ftabel)\n",
        "  print('Maka peubah X1 masuk dalam model')\n",
        "else:\n",
        "  print('f hitung = ', Fhitung,'<', 'f tabel = ', Ftabel)\n",
        "  print('Maka peubah X1 tidak masuk dalam model')\n"
      ],
      "execution_count": null,
      "outputs": [
        {
          "name": "stdout",
          "text": "s2(X1) = -1.3697579940694897e+24\nf hitung =  -11.155631625673132 < f tabel =  3.906392402723093\nMaka peubah X1 tidak masuk dalam model\n",
          "output_type": "stream"
        }
      ]
    },
    {
      "cell_type": "markdown",
      "metadata": {
        "formattedRanges": [
          {
            "type": "marks",
            "marks": {
              "bold": true
            },
            "toCodePoint": 6,
            "fromCodePoint": 0
          }
        ],
        "deepnote_app_coordinates": {
          "h": 5,
          "w": 12,
          "x": 0,
          "y": 828
        },
        "cell_id": "dc7c1cdd5ee549b397d85e27c3f6d16f",
        "deepnote_cell_type": "text-cell-h3",
        "id": "w_b9LyAQJrJU"
      },
      "source": [
        "### Step-3"
      ]
    },
    {
      "cell_type": "markdown",
      "metadata": {
        "formattedRanges": [],
        "deepnote_app_coordinates": {
          "h": 2,
          "w": 8,
          "x": 0,
          "y": 834
        },
        "cell_id": "a65c298bbf724f7e9b60af6cc0f81af6",
        "deepnote_cell_type": "text-cell-p",
        "id": "8hn0FQmjJrJU"
      },
      "source": [
        "X1 sudah diambil sebagai variabel yang termasuk model, sehingga tersisa X3, X4, X5"
      ]
    },
    {
      "cell_type": "code",
      "metadata": {
        "source_hash": "a5830ebc",
        "execution_start": 1687000943873,
        "execution_millis": 94,
        "deepnote_app_coordinates": {
          "h": 23,
          "w": 12,
          "x": 0,
          "y": 837
        },
        "deepnote_to_be_reexecuted": false,
        "cell_id": "e55039a255004a2aa6e69a5c4f1dc567",
        "deepnote_cell_type": "code",
        "id": "uf4KA-DHJrJU",
        "outputId": "075bb7fd-366c-4aae-cd97-1e536e4ad2f3"
      },
      "source": [
        "# Menghitung nilai R3max\n",
        "R3max = []\n",
        "for var in ['X3', 'X4', 'X5']:\n",
        "    X = np.array([[1, df['X2'][i], df['X1'][i], df[var][i]] for i in range(len(df))])\n",
        "    Y = np.array(df['Y'])\n",
        "    b = np.linalg.inv(X.T.dot(X)).dot(X.T).dot(Y)\n",
        "    g = X.T.dot(Y)\n",
        "\n",
        "    JKR = np.sum(b * g) - (tot_Y**2) / len(Y)\n",
        "    R3max.append(JKR - (Rmax[1] + R2max[0]))\n",
        "\n",
        "# Membuat DataFrame untuk menampilkan nilai R3max\n",
        "R3 = pd.DataFrame(R3max, index=['X3', 'X4', 'X5'], columns=['nilai R'])\n",
        "R3\n"
      ],
      "execution_count": null,
      "outputs": [
        {
          "output_type": "execute_result",
          "execution_count": 51,
          "data": {
            "application/vnd.deepnote.dataframe.v3+json": {
              "column_count": 1,
              "row_count": 3,
              "columns": [
                {
                  "name": "nilai R",
                  "dtype": "float64",
                  "stats": {
                    "unique_count": 3,
                    "nan_count": 0,
                    "min": "2.4374649874816335e+23",
                    "max": "1.5072659993515224e+24",
                    "histogram": [
                      {
                        "bin_start": 2.4374649874816335e+23,
                        "bin_end": 3.700984488084992e+23,
                        "count": 1
                      },
                      {
                        "bin_start": 3.700984488084992e+23,
                        "bin_end": 4.964503988688352e+23,
                        "count": 0
                      },
                      {
                        "bin_start": 4.964503988688352e+23,
                        "bin_end": 6.228023489291711e+23,
                        "count": 0
                      },
                      {
                        "bin_start": 6.228023489291711e+23,
                        "bin_end": 7.49154298989507e+23,
                        "count": 1
                      },
                      {
                        "bin_start": 7.49154298989507e+23,
                        "bin_end": 8.755062490498429e+23,
                        "count": 0
                      },
                      {
                        "bin_start": 8.755062490498429e+23,
                        "bin_end": 1.0018581991101789e+24,
                        "count": 0
                      },
                      {
                        "bin_start": 1.0018581991101789e+24,
                        "bin_end": 1.1282101491705148e+24,
                        "count": 0
                      },
                      {
                        "bin_start": 1.1282101491705148e+24,
                        "bin_end": 1.2545620992308506e+24,
                        "count": 0
                      },
                      {
                        "bin_start": 1.2545620992308506e+24,
                        "bin_end": 1.3809140492911864e+24,
                        "count": 0
                      },
                      {
                        "bin_start": 1.3809140492911864e+24,
                        "bin_end": 1.5072659993515224e+24,
                        "count": 1
                      }
                    ]
                  }
                },
                {
                  "name": "_deepnote_index_column",
                  "dtype": "object"
                }
              ],
              "rows": [
                {
                  "nilai R": 1.5072659993515224e+24,
                  "_deepnote_index_column": "X3"
                },
                {
                  "nilai R": 6.504401510864742e+23,
                  "_deepnote_index_column": "X4"
                },
                {
                  "nilai R": 2.4374649874816335e+23,
                  "_deepnote_index_column": "X5"
                }
              ]
            },
            "text/plain": "         nilai R\nX3  1.507266e+24\nX4  6.504402e+23\nX5  2.437465e+23",
            "text/html": "<div>\n<style scoped>\n    .dataframe tbody tr th:only-of-type {\n        vertical-align: middle;\n    }\n\n    .dataframe tbody tr th {\n        vertical-align: top;\n    }\n\n    .dataframe thead th {\n        text-align: right;\n    }\n</style>\n<table border=\"1\" class=\"dataframe\">\n  <thead>\n    <tr style=\"text-align: right;\">\n      <th></th>\n      <th>nilai R</th>\n    </tr>\n  </thead>\n  <tbody>\n    <tr>\n      <th>X3</th>\n      <td>1.507266e+24</td>\n    </tr>\n    <tr>\n      <th>X4</th>\n      <td>6.504402e+23</td>\n    </tr>\n    <tr>\n      <th>X5</th>\n      <td>2.437465e+23</td>\n    </tr>\n  </tbody>\n</table>\n</div>"
          },
          "metadata": {}
        }
      ]
    },
    {
      "cell_type": "code",
      "metadata": {
        "source_hash": "3f38f1aa",
        "execution_start": 1687000944073,
        "execution_millis": 3,
        "deepnote_app_coordinates": {
          "h": 10,
          "w": 12,
          "x": 0,
          "y": 861
        },
        "deepnote_to_be_reexecuted": false,
        "cell_id": "efb6b1c238b54a05a635eef24cc5b807",
        "deepnote_cell_type": "code",
        "id": "4OCERK_iJrJV",
        "outputId": "dd4c456e-df83-45fa-bab3-66a449fba32a"
      },
      "source": [
        "R3[R3['nilai R'] == R3['nilai R'].max()]"
      ],
      "execution_count": null,
      "outputs": [
        {
          "output_type": "execute_result",
          "execution_count": 52,
          "data": {
            "application/vnd.deepnote.dataframe.v3+json": {
              "column_count": 1,
              "row_count": 1,
              "columns": [
                {
                  "name": "nilai R",
                  "dtype": "float64",
                  "stats": {
                    "unique_count": 1,
                    "nan_count": 0,
                    "min": "1.5072659993515224e+24",
                    "max": "1.5072659993515224e+24",
                    "histogram": null
                  }
                },
                {
                  "name": "_deepnote_index_column",
                  "dtype": "object"
                }
              ],
              "rows": [
                {
                  "nilai R": 1.5072659993515224e+24,
                  "_deepnote_index_column": "X3"
                }
              ]
            },
            "text/plain": "         nilai R\nX3  1.507266e+24",
            "text/html": "<div>\n<style scoped>\n    .dataframe tbody tr th:only-of-type {\n        vertical-align: middle;\n    }\n\n    .dataframe tbody tr th {\n        vertical-align: top;\n    }\n\n    .dataframe thead th {\n        text-align: right;\n    }\n</style>\n<table border=\"1\" class=\"dataframe\">\n  <thead>\n    <tr style=\"text-align: right;\">\n      <th></th>\n      <th>nilai R</th>\n    </tr>\n  </thead>\n  <tbody>\n    <tr>\n      <th>X3</th>\n      <td>1.507266e+24</td>\n    </tr>\n  </tbody>\n</table>\n</div>"
          },
          "metadata": {}
        }
      ]
    },
    {
      "cell_type": "code",
      "metadata": {
        "source_hash": "636533a6",
        "execution_start": 1687000995813,
        "execution_millis": 2,
        "deepnote_app_coordinates": {
          "h": 23,
          "w": 12,
          "x": 0,
          "y": 872
        },
        "deepnote_to_be_reexecuted": false,
        "cell_id": "c343567c43b14e5ba6c3b485eeaa86a1",
        "deepnote_cell_type": "code",
        "id": "4ZoefkwRJrJV",
        "outputId": "de11a774-6e59-420f-a657-86903a79eee8"
      },
      "source": [
        "# Menghitung nilai s^2 dari X1.2 dan X3\n",
        "X = np.array([[1, df['X2'][i], df['X1'][i], df['X3'][i]] for i in range(len(df))])\n",
        "Y = np.array(df['Y'])\n",
        "b = np.linalg.inv(X.T.dot(X)).dot(X.T).dot(Y)\n",
        "g = X.T.dot(Y)\n",
        "\n",
        "JKT = tot_Ypangkat2 - (tot_Y**2) / len(Y)\n",
        "JKR = np.sum(b * g) - (tot_Y**2) / len(Y)\n",
        "JKG = JKT - JKR\n",
        "s2 = JKG / (len(Y) - 4)\n",
        "\n",
        "print(\"s^2(X3) =\",s2)\n",
        "\n",
        "# F hitung dan F tabel\n",
        "Fhitung = (JKR - (Rmax[1] + R2max[0])) / s2\n",
        "Ftabel = stats.f.isf(0.05, 1, len(Y) - 4)\n",
        "\n",
        "if Fhitung > Ftabel:\n",
        "  print('f hitung = ', Fhitung,'>', 'f tabel = ', Ftabel)\n",
        "  print('Maka peubah X3 masuk dalam model')\n",
        "else:\n",
        "  print('f hitung = ', Fhitung,'<', 'f tabel = ', Ftabel)\n",
        "  print('Maka peubah X3 tidak masuk dalam model')\n"
      ],
      "execution_count": null,
      "outputs": [
        {
          "name": "stdout",
          "text": "s^2(X3) = -1.3897373273571355e+24\nf hitung =  -1.0845689826996956 < f tabel =  3.906848990862648\nMaka peubah X3 tidak masuk dalam model\n",
          "output_type": "stream"
        }
      ]
    },
    {
      "cell_type": "markdown",
      "metadata": {
        "formattedRanges": [],
        "deepnote_app_coordinates": {
          "h": 5,
          "w": 12,
          "x": 0,
          "y": 896
        },
        "cell_id": "9ff7e2433525462f98c48aa2e02c7e80",
        "deepnote_cell_type": "text-cell-h3",
        "id": "R2Lc7G-7JrJW"
      },
      "source": [
        "### Step-4"
      ]
    },
    {
      "cell_type": "markdown",
      "metadata": {
        "formattedRanges": [],
        "deepnote_app_coordinates": {
          "h": 2,
          "w": 8,
          "x": 0,
          "y": 902
        },
        "cell_id": "c79bebe67dc44b65a161800587c3e33a",
        "deepnote_cell_type": "text-cell-p",
        "id": "x9I-6HkAJrJW"
      },
      "source": [
        "X3 sudah diambil sebagai variabel yang termasuk model, sehingga tersisa X4, X5"
      ]
    },
    {
      "cell_type": "code",
      "metadata": {
        "source_hash": "606e4e0e",
        "execution_start": 1687001035483,
        "execution_millis": 90,
        "deepnote_app_coordinates": {
          "h": 20,
          "w": 12,
          "x": 0,
          "y": 905
        },
        "deepnote_to_be_reexecuted": false,
        "cell_id": "1ed564ea7f744b409f188244660dc53a",
        "deepnote_cell_type": "code",
        "id": "DjiJ6fyMJrJX",
        "outputId": "7f253fa9-7e41-4f44-e861-fcdfa4b60a4b"
      },
      "source": [
        "# Menghitung nilai R4max\n",
        "R4max = []\n",
        "for var in ['X4', 'X5']:\n",
        "    X = np.array([[1, df['X2'][i], df['X1'][i], df[var][i], df['X3'][i]] for i in range(len(df))])\n",
        "    Y = np.array(df['Y'])\n",
        "    b = np.linalg.inv(X.T.dot(X)).dot(X.T).dot(Y)\n",
        "    g = X.T.dot(Y)\n",
        "    JKR = np.sum(b * g) - (tot_Y**2) / len(Y)\n",
        "    R4max.append(JKR - (Rmax[1] + R2max[0] + R3max[0]))\n",
        "\n",
        "# Membuat DataFrame untuk menampilkan nilai R4max\n",
        "R4 = pd.DataFrame(R4max, index=['X4', 'X5'], columns=['nilai R'])\n",
        "R4\n"
      ],
      "execution_count": null,
      "outputs": [
        {
          "output_type": "execute_result",
          "execution_count": 57,
          "data": {
            "application/vnd.deepnote.dataframe.v3+json": {
              "column_count": 1,
              "row_count": 2,
              "columns": [
                {
                  "name": "nilai R",
                  "dtype": "float64",
                  "stats": {
                    "unique_count": 2,
                    "nan_count": 0,
                    "min": "2.0039338964602202e+23",
                    "max": "3.3088294220779905e+23",
                    "histogram": [
                      {
                        "bin_start": 2.0039338964602202e+23,
                        "bin_end": 2.134423449021997e+23,
                        "count": 1
                      },
                      {
                        "bin_start": 2.134423449021997e+23,
                        "bin_end": 2.264913001583774e+23,
                        "count": 0
                      },
                      {
                        "bin_start": 2.264913001583774e+23,
                        "bin_end": 2.3954025541455514e+23,
                        "count": 0
                      },
                      {
                        "bin_start": 2.3954025541455514e+23,
                        "bin_end": 2.5258921067073284e+23,
                        "count": 0
                      },
                      {
                        "bin_start": 2.5258921067073284e+23,
                        "bin_end": 2.6563816592691054e+23,
                        "count": 0
                      },
                      {
                        "bin_start": 2.6563816592691054e+23,
                        "bin_end": 2.7868712118308823e+23,
                        "count": 0
                      },
                      {
                        "bin_start": 2.7868712118308823e+23,
                        "bin_end": 2.9173607643926593e+23,
                        "count": 0
                      },
                      {
                        "bin_start": 2.9173607643926593e+23,
                        "bin_end": 3.0478503169544366e+23,
                        "count": 0
                      },
                      {
                        "bin_start": 3.0478503169544366e+23,
                        "bin_end": 3.178339869516213e+23,
                        "count": 0
                      },
                      {
                        "bin_start": 3.178339869516213e+23,
                        "bin_end": 3.3088294220779905e+23,
                        "count": 1
                      }
                    ]
                  }
                },
                {
                  "name": "_deepnote_index_column",
                  "dtype": "object"
                }
              ],
              "rows": [
                {
                  "nilai R": 3.3088294220779905e+23,
                  "_deepnote_index_column": "X4"
                },
                {
                  "nilai R": 2.0039338964602202e+23,
                  "_deepnote_index_column": "X5"
                }
              ]
            },
            "text/plain": "         nilai R\nX4  3.308829e+23\nX5  2.003934e+23",
            "text/html": "<div>\n<style scoped>\n    .dataframe tbody tr th:only-of-type {\n        vertical-align: middle;\n    }\n\n    .dataframe tbody tr th {\n        vertical-align: top;\n    }\n\n    .dataframe thead th {\n        text-align: right;\n    }\n</style>\n<table border=\"1\" class=\"dataframe\">\n  <thead>\n    <tr style=\"text-align: right;\">\n      <th></th>\n      <th>nilai R</th>\n    </tr>\n  </thead>\n  <tbody>\n    <tr>\n      <th>X4</th>\n      <td>3.308829e+23</td>\n    </tr>\n    <tr>\n      <th>X5</th>\n      <td>2.003934e+23</td>\n    </tr>\n  </tbody>\n</table>\n</div>"
          },
          "metadata": {}
        }
      ]
    },
    {
      "cell_type": "code",
      "metadata": {
        "source_hash": "7ae37eb0",
        "execution_start": 1687001039634,
        "execution_millis": 14,
        "deepnote_app_coordinates": {
          "h": 10,
          "w": 12,
          "x": 0,
          "y": 926
        },
        "deepnote_to_be_reexecuted": false,
        "cell_id": "d17999726b0044a9b84d57497bb77a63",
        "deepnote_cell_type": "code",
        "id": "Nop2vrP0JrJX",
        "outputId": "7c56197a-d356-4ab6-da10-83cd6e9b6943"
      },
      "source": [
        "R4[R4['nilai R'] == R4['nilai R'].max()]"
      ],
      "execution_count": null,
      "outputs": [
        {
          "output_type": "execute_result",
          "execution_count": 58,
          "data": {
            "application/vnd.deepnote.dataframe.v3+json": {
              "column_count": 1,
              "row_count": 1,
              "columns": [
                {
                  "name": "nilai R",
                  "dtype": "float64",
                  "stats": {
                    "unique_count": 1,
                    "nan_count": 0,
                    "min": "3.3088294220779905e+23",
                    "max": "3.3088294220779905e+23",
                    "histogram": null
                  }
                },
                {
                  "name": "_deepnote_index_column",
                  "dtype": "object"
                }
              ],
              "rows": [
                {
                  "nilai R": 3.3088294220779905e+23,
                  "_deepnote_index_column": "X4"
                }
              ]
            },
            "text/plain": "         nilai R\nX4  3.308829e+23",
            "text/html": "<div>\n<style scoped>\n    .dataframe tbody tr th:only-of-type {\n        vertical-align: middle;\n    }\n\n    .dataframe tbody tr th {\n        vertical-align: top;\n    }\n\n    .dataframe thead th {\n        text-align: right;\n    }\n</style>\n<table border=\"1\" class=\"dataframe\">\n  <thead>\n    <tr style=\"text-align: right;\">\n      <th></th>\n      <th>nilai R</th>\n    </tr>\n  </thead>\n  <tbody>\n    <tr>\n      <th>X4</th>\n      <td>3.308829e+23</td>\n    </tr>\n  </tbody>\n</table>\n</div>"
          },
          "metadata": {}
        }
      ]
    },
    {
      "cell_type": "code",
      "metadata": {
        "source_hash": "4d475519",
        "execution_start": 1687001090001,
        "execution_millis": 2,
        "deepnote_app_coordinates": {
          "h": 23,
          "w": 12,
          "x": 0,
          "y": 937
        },
        "deepnote_to_be_reexecuted": false,
        "cell_id": "510eeefc38e249ef8c102ee0fbe4e733",
        "deepnote_cell_type": "code",
        "id": "sfSnX1fBJrJY",
        "outputId": "b598064c-403d-424d-e3cd-6a78b43d0765"
      },
      "source": [
        "# Menghitung nilai s^2 dari X1.2, X3, X4\n",
        "X = np.array([[1, df['X2'][i], df['X1'][i], df['X3'][i], df['X4'][i]] for i in range(len(df))])\n",
        "Y = np.array(df['Y'])\n",
        "b = np.linalg.inv(X.T.dot(X)).dot(X.T).dot(Y)\n",
        "g = X.T.dot(Y)\n",
        "\n",
        "JKT = tot_Ypangkat2 - (tot_Y**2) / len(Y)\n",
        "JKR = np.sum(b * g) - (tot_Y**2) / len(Y)\n",
        "JKG = JKT - JKR\n",
        "s2 = JKG / (len(Y) - 5)\n",
        "\n",
        "print(\"s^2(X4) =\", s2)\n",
        "\n",
        "# F hitung dan F tabel\n",
        "Fhitung = (JKR - (Rmax[1] + R2max[0]+ R3max[0])) / s2\n",
        "Ftabel = stats.f.isf(0.05, 1, len(Y) - 5)\n",
        "\n",
        "if Fhitung > Ftabel:\n",
        "  print('f hitung = ', Fhitung,'>', 'f tabel = ', Ftabel)\n",
        "  print('Maka peubah X4 masuk dalam model')\n",
        "else:\n",
        "  print('f hitung = ', Fhitung,'<', 'f tabel = ', Ftabel)\n",
        "  print('Maka peubah X4 tidak masuk dalam model')\n"
      ],
      "execution_count": null,
      "outputs": [
        {
          "name": "stdout",
          "text": "s^2(X4) = -1.4017696369345125e+24\nf hitung =  -0.23604658960324076 < f tabel =  3.907312045356537\nMaka peubah X4 tidak masuk dalam model\n",
          "output_type": "stream"
        }
      ]
    },
    {
      "cell_type": "code",
      "metadata": {
        "source_hash": "33fcc8b8",
        "execution_start": 1687001107683,
        "execution_millis": 7,
        "deepnote_app_coordinates": {
          "h": 23,
          "w": 12,
          "x": 0,
          "y": 961
        },
        "deepnote_to_be_reexecuted": false,
        "cell_id": "d0f741dd391a494ba80db2c6783a9cdf",
        "deepnote_cell_type": "code",
        "id": "Yj6MxoxOJrJZ",
        "outputId": "0f2c9345-db9e-4551-b535-7a515c302c8b"
      },
      "source": [
        "# Menghitung nilai s^2 dari X1, X2, X3, dan X5\n",
        "X = np.array([[1, df['X1'][i], df['X2'][i], df['X3'][i], df['X5'][i]] for i in range(len(df))])\n",
        "Y = np.array(df['Y'])\n",
        "b = np.linalg.inv(X.T.dot(X)).dot(X.T).dot(Y)\n",
        "g = X.T.dot(Y)\n",
        "\n",
        "JKT = tot_Ypangkat2 - (tot_Y**2) / len(Y)\n",
        "JKR = np.sum(b * g) - (tot_Y**2) / len(Y)\n",
        "JKG = JKT - JKR\n",
        "s2 = JKG / (len(Y) - 5)\n",
        "\n",
        "print(\"s^2(X5) =\", s2)\n",
        "\n",
        "# F hitung dan F tabel\n",
        "Fhitung = (JKR - (Rmax[1] + R2max[0]+ R3max[0])) / s2\n",
        "Ftabel = stats.f.isf(0.05, 1, len(Y) - 5)\n",
        "\n",
        "if Fhitung > Ftabel:\n",
        "  print('f hitung = ', Fhitung,'>', 'f tabel = ', Ftabel)\n",
        "  print('Maka peubah X5 masuk dalam model')\n",
        "else:\n",
        "  print('f hitung = ', Fhitung,'<', 'f tabel = ', Ftabel)\n",
        "  print('Maka peubah X5 tidak masuk dalam model')\n"
      ],
      "execution_count": null,
      "outputs": [
        {
          "name": "stdout",
          "text": "s^2(X5) = -1.4008571225809338e+24\nf hitung =  -0.14305055556045432 < f tabel =  3.907312045356537\nMaka peubah X5 tidak masuk dalam model\n",
          "output_type": "stream"
        }
      ]
    },
    {
      "cell_type": "code",
      "metadata": {
        "source_hash": "4e388dfd",
        "execution_start": 1687001112947,
        "execution_millis": 158,
        "deepnote_app_coordinates": {
          "h": 21,
          "w": 12,
          "x": 0,
          "y": 985
        },
        "deepnote_to_be_reexecuted": false,
        "cell_id": "13c7f6ea27bb48ce8f37eb3e45412006",
        "deepnote_cell_type": "code",
        "id": "laelWGfxJrJZ",
        "outputId": "24abcff0-7886-45e6-a809-322c59242845"
      },
      "source": [
        "# Mencari nilai b\n",
        "X = np.array([[1, df['X2'][i], df['X1'][i], df['X3'][i]] for i in range(len(df))])\n",
        "Y = np.array(df['Y'])\n",
        "b = np.linalg.inv(X.T.dot(X)).dot(X.T).dot(Y)\n",
        "\n",
        "# Konversi ke dataframe\n",
        "df_b = pd.DataFrame(b, index=['b0', 'b1', 'b2', 'b3'], columns=['Nilai Koefisien'])\n",
        "df_b\n",
        "\n"
      ],
      "execution_count": null,
      "outputs": [
        {
          "output_type": "execute_result",
          "execution_count": 63,
          "data": {
            "application/vnd.deepnote.dataframe.v3+json": {
              "column_count": 1,
              "row_count": 4,
              "columns": [
                {
                  "name": "Nilai Koefisien",
                  "dtype": "float64",
                  "stats": {
                    "unique_count": 4,
                    "nan_count": 0,
                    "min": "-172530307759.76776",
                    "max": "18284578502.929485",
                    "histogram": [
                      {
                        "bin_start": -172530307759.76776,
                        "bin_end": -153448819133.49805,
                        "count": 1
                      },
                      {
                        "bin_start": -153448819133.49805,
                        "bin_end": -134367330507.22832,
                        "count": 0
                      },
                      {
                        "bin_start": -134367330507.22832,
                        "bin_end": -115285841880.95859,
                        "count": 0
                      },
                      {
                        "bin_start": -115285841880.95859,
                        "bin_end": -96204353254.68887,
                        "count": 0
                      },
                      {
                        "bin_start": -96204353254.68887,
                        "bin_end": -77122864628.41916,
                        "count": 0
                      },
                      {
                        "bin_start": -77122864628.41916,
                        "bin_end": -58041376002.14943,
                        "count": 0
                      },
                      {
                        "bin_start": -58041376002.14943,
                        "bin_end": -38959887375.8797,
                        "count": 0
                      },
                      {
                        "bin_start": -38959887375.8797,
                        "bin_end": -19878398749.609985,
                        "count": 0
                      },
                      {
                        "bin_start": -19878398749.609985,
                        "bin_end": -796910123.340271,
                        "count": 0
                      },
                      {
                        "bin_start": -796910123.340271,
                        "bin_end": 18284578502.929485,
                        "count": 3
                      }
                    ]
                  }
                },
                {
                  "name": "_deepnote_index_column",
                  "dtype": "object"
                }
              ],
              "rows": [
                {
                  "Nilai Koefisien": -172530307759.76776,
                  "_deepnote_index_column": "b0"
                },
                {
                  "Nilai Koefisien": 6.9551760110124015,
                  "_deepnote_index_column": "b1"
                },
                {
                  "Nilai Koefisien": 2625189.782914419,
                  "_deepnote_index_column": "b2"
                },
                {
                  "Nilai Koefisien": 18284578502.929485,
                  "_deepnote_index_column": "b3"
                }
              ]
            },
            "text/plain": "    Nilai Koefisien\nb0    -1.725303e+11\nb1     6.955176e+00\nb2     2.625190e+06\nb3     1.828458e+10",
            "text/html": "<div>\n<style scoped>\n    .dataframe tbody tr th:only-of-type {\n        vertical-align: middle;\n    }\n\n    .dataframe tbody tr th {\n        vertical-align: top;\n    }\n\n    .dataframe thead th {\n        text-align: right;\n    }\n</style>\n<table border=\"1\" class=\"dataframe\">\n  <thead>\n    <tr style=\"text-align: right;\">\n      <th></th>\n      <th>Nilai Koefisien</th>\n    </tr>\n  </thead>\n  <tbody>\n    <tr>\n      <th>b0</th>\n      <td>-1.725303e+11</td>\n    </tr>\n    <tr>\n      <th>b1</th>\n      <td>6.955176e+00</td>\n    </tr>\n    <tr>\n      <th>b2</th>\n      <td>2.625190e+06</td>\n    </tr>\n    <tr>\n      <th>b3</th>\n      <td>1.828458e+10</td>\n    </tr>\n  </tbody>\n</table>\n</div>"
          },
          "metadata": {}
        }
      ]
    },
    {
      "cell_type": "markdown",
      "metadata": {
        "formattedRanges": [],
        "deepnote_app_coordinates": {
          "h": 5,
          "w": 12,
          "x": 0,
          "y": 1007
        },
        "cell_id": "1696b83212304ffbba9a030b29b3c66e",
        "deepnote_cell_type": "text-cell-h1",
        "id": "WkHG90jZJrJa"
      },
      "source": [
        "# SPL Regresi Bertahap"
      ]
    },
    {
      "cell_type": "code",
      "metadata": {
        "source_hash": "d6682d6c",
        "execution_start": 1687001118072,
        "execution_millis": 7,
        "deepnote_app_coordinates": {
          "h": 9,
          "w": 12,
          "x": 0,
          "y": 1013
        },
        "deepnote_to_be_reexecuted": false,
        "cell_id": "d14d6defc76a4ae09ba19a7c48269679",
        "deepnote_cell_type": "code",
        "id": "TTkZ9NyvJrJb",
        "outputId": "af0c1c13-30b7-4d0c-e6f9-152b7bee1f2b"
      },
      "source": [
        "b0 = b[0]\n",
        "b1 = b[1]\n",
        "b2 = b[2]\n",
        "b3 = b[3]\n",
        "\n",
        "print(\"SPL : Y =\", b0, \" + \" , b1,\"X1 + \",b2,\"X2 + \",b3,\"X3\")"
      ],
      "execution_count": null,
      "outputs": [
        {
          "name": "stdout",
          "text": "SPL : Y = -172530307759.76776  +  6.9551760110124015 X1 +  2625189.782914419 X2 +  18284578502.929485 X3\n",
          "output_type": "stream"
        }
      ]
    },
    {
      "cell_type": "code",
      "metadata": {
        "source_hash": "5cd96e6a",
        "execution_start": 1687001147947,
        "execution_millis": 2,
        "deepnote_app_coordinates": {
          "h": 16,
          "w": 12,
          "x": 0,
          "y": 1023
        },
        "deepnote_to_be_reexecuted": false,
        "cell_id": "a9169469f9514b1aaa37ddbcc976b822",
        "deepnote_cell_type": "code",
        "id": "oz3v9RRsJrJc",
        "outputId": "e53e052d-0781-4606-c3dd-5beedf06ac54"
      },
      "source": [
        "\n",
        "# Menghitung JKT\n",
        "JKT = tot_Ypangkat2 - (tot_Y**2) / len(Y)\n",
        "\n",
        "# Menghitung JKR\n",
        "JKR = 0\n",
        "for i in range(len(df_b)):\n",
        "    JKR += b[i] * g[i]  # g = X.T.dot(Y)\n",
        "JKR = JKR - (tot_Y**2) / len(Y)\n",
        "\n",
        "# Menghitung R2\n",
        "R2y2 = JKR / JKT\n",
        "R2y2\n",
        "\n",
        "\n"
      ],
      "execution_count": null,
      "outputs": [
        {
          "output_type": "execute_result",
          "execution_count": 68,
          "data": {
            "text/plain": "11077173581277.832"
          },
          "metadata": {}
        }
      ]
    },
    {
      "cell_type": "markdown",
      "metadata": {
        "formattedRanges": [],
        "deepnote_app_coordinates": {
          "h": 5,
          "w": 12,
          "x": 0,
          "y": 1040
        },
        "cell_id": "f0aa1428451d44169853aeb4cfcdbab7",
        "deepnote_cell_type": "text-cell-h1",
        "id": "nZBkFVYnJrJc"
      },
      "source": [
        "# Kesimpulan"
      ]
    },
    {
      "cell_type": "markdown",
      "metadata": {
        "formattedRanges": [],
        "deepnote_app_coordinates": {
          "h": 2,
          "w": 8,
          "x": 0,
          "y": 1046
        },
        "cell_id": "9555c2e99b2744138dd3a2f07578056c",
        "deepnote_cell_type": "text-cell-p",
        "id": "Pwsa0fClJrJc"
      },
      "source": [
        "Dalam program ini kami membuat analisis regresi berganda menggunakan metode regresi bertahap, bersumber dari dataset factbook.csv. hasil analisis yang kami dapat diantaranya :"
      ]
    },
    {
      "cell_type": "markdown",
      "metadata": {
        "formattedRanges": [],
        "deepnote_app_coordinates": {
          "h": 2,
          "w": 8,
          "x": 0,
          "y": 1049
        },
        "cell_id": "e9ea5e0b87a344068792b6723693783d",
        "deepnote_cell_type": "text-cell-p",
        "id": "7qHQwPp5JrJd"
      },
      "source": [
        "SPL : Y = -140560004547.3942 + 9.585487627972567 X1 + -3.5039457618365573 X2 + 4009617126.683123 X3 (regresi bertahap)\n",
        "koefisien determinasi untuk metode regresi bertahap = 0.41776043910912597\n",
        "Variabel yang memiliki hubungan yang signifikan : X1(Exports), X2 (Imports), X3(Industrial production growth rate)."
      ]
    },
    {
      "cell_type": "markdown",
      "source": [
        "<a style='text-decoration:none;line-height:16px;display:flex;color:#5B5B62;padding:10px;justify-content:end;' href='https://deepnote.com?utm_source=created-in-deepnote-cell&projectId=2243d522-395c-4f44-b128-0d38c13fb9d0' target=\"_blank\">\n",
        "<img alt='Created in deepnote.com' style='display:inline;max-height:16px;margin:0px;margin-right:7.5px;' src='data:image/svg+xml;base64,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' > </img>\n",
        "Created in <span style='font-weight:600;margin-left:4px;'>Deepnote</span></a>"
      ],
      "metadata": {
        "created_in_deepnote_cell": true,
        "deepnote_cell_type": "markdown",
        "id": "wIswCZQRJrJd"
      }
    }
  ],
  "nbformat": 4,
  "nbformat_minor": 0,
  "metadata": {
    "deepnote": {},
    "orig_nbformat": 2,
    "deepnote_app_layout": "article",
    "deepnote_notebook_id": "2130fcfdbf4644419256d5217273035d",
    "deepnote_persisted_session": {
      "createdAt": "2023-06-08T19:46:24.373Z"
    },
    "deepnote_execution_queue": [],
    "colab": {
      "provenance": [],
      "include_colab_link": true
    }
  }
}